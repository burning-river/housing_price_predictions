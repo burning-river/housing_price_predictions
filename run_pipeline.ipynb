{
  "cells": [
    {
      "cell_type": "code",
      "execution_count": null,
      "metadata": {
        "colab": {
          "base_uri": "https://localhost:8080/"
        },
        "id": "PEC8yrbPyZze",
        "outputId": "5fa51bdb-ec82-49ab-8f02-b720625ca254"
      },
      "outputs": [
        {
          "output_type": "stream",
          "name": "stdout",
          "text": [
            "Mounted at /content/drive\n"
          ]
        }
      ],
      "source": [
        "from google.colab import drive\n",
        "drive.mount('/content/drive')"
      ]
    },
    {
      "cell_type": "code",
      "execution_count": null,
      "metadata": {
        "collapsed": true,
        "id": "mhEgOslpwBC2",
        "colab": {
          "base_uri": "https://localhost:8080/"
        },
        "outputId": "e4232715-4d84-44eb-e7c4-9986f5fab55b"
      },
      "outputs": [
        {
          "output_type": "stream",
          "name": "stdout",
          "text": [
            "Requirement already satisfied: zenml==0.67.0 in /usr/local/lib/python3.10/dist-packages (from zenml[server]==0.67.0) (0.67.0)\n",
            "Requirement already satisfied: alembic<1.9.0,>=1.8.1 in /usr/local/lib/python3.10/dist-packages (from zenml==0.67.0->zenml[server]==0.67.0) (1.8.1)\n",
            "Requirement already satisfied: bcrypt==4.0.1 in /usr/local/lib/python3.10/dist-packages (from zenml==0.67.0->zenml[server]==0.67.0) (4.0.1)\n",
            "Requirement already satisfied: click<8.1.4,>=8.0.1 in /usr/local/lib/python3.10/dist-packages (from zenml==0.67.0->zenml[server]==0.67.0) (8.1.3)\n",
            "Requirement already satisfied: cloudpickle<3,>=2.0.0 in /usr/local/lib/python3.10/dist-packages (from zenml==0.67.0->zenml[server]==0.67.0) (2.2.1)\n",
            "Requirement already satisfied: distro<2.0.0,>=1.6.0 in /usr/local/lib/python3.10/dist-packages (from zenml==0.67.0->zenml[server]==0.67.0) (1.9.0)\n",
            "Requirement already satisfied: docker<7.2.0,>=7.1.0 in /usr/local/lib/python3.10/dist-packages (from zenml==0.67.0->zenml[server]==0.67.0) (7.1.0)\n",
            "Requirement already satisfied: gitpython<4.0.0,>=3.1.18 in /usr/local/lib/python3.10/dist-packages (from zenml==0.67.0->zenml[server]==0.67.0) (3.1.43)\n",
            "Requirement already satisfied: packaging>=24.1 in /usr/local/lib/python3.10/dist-packages (from zenml==0.67.0->zenml[server]==0.67.0) (24.2)\n",
            "Requirement already satisfied: passlib<1.8.0,>=1.7.4 in /usr/local/lib/python3.10/dist-packages (from passlib[bcrypt]<1.8.0,>=1.7.4->zenml==0.67.0->zenml[server]==0.67.0) (1.7.4)\n",
            "Requirement already satisfied: psutil>=5.0.0 in /usr/local/lib/python3.10/dist-packages (from zenml==0.67.0->zenml[server]==0.67.0) (5.9.5)\n",
            "Requirement already satisfied: pydantic<2.9,>=2.8 in /usr/local/lib/python3.10/dist-packages (from zenml==0.67.0->zenml[server]==0.67.0) (2.8.2)\n",
            "Requirement already satisfied: pydantic-settings in /usr/local/lib/python3.10/dist-packages (from zenml==0.67.0->zenml[server]==0.67.0) (2.6.1)\n",
            "Requirement already satisfied: pymysql<1.2.0,>=1.1.1 in /usr/local/lib/python3.10/dist-packages (from zenml==0.67.0->zenml[server]==0.67.0) (1.1.1)\n",
            "Requirement already satisfied: python-dateutil<3.0.0,>=2.8.1 in /usr/local/lib/python3.10/dist-packages (from zenml==0.67.0->zenml[server]==0.67.0) (2.8.2)\n",
            "Requirement already satisfied: pyyaml>=6.0.1 in /usr/local/lib/python3.10/dist-packages (from zenml==0.67.0->zenml[server]==0.67.0) (6.0.2)\n",
            "Requirement already satisfied: rich>=12.0.0 in /usr/local/lib/python3.10/dist-packages (from rich[jupyter]>=12.0.0->zenml==0.67.0->zenml[server]==0.67.0) (13.9.4)\n",
            "Requirement already satisfied: setuptools in /usr/local/lib/python3.10/dist-packages (from zenml==0.67.0->zenml[server]==0.67.0) (75.1.0)\n",
            "Requirement already satisfied: sqlalchemy<3.0.0,>=2.0.0 in /usr/local/lib/python3.10/dist-packages (from zenml==0.67.0->zenml[server]==0.67.0) (2.0.36)\n",
            "Requirement already satisfied: sqlalchemy_utils in /usr/local/lib/python3.10/dist-packages (from zenml==0.67.0->zenml[server]==0.67.0) (0.41.2)\n",
            "Requirement already satisfied: sqlmodel==0.0.18 in /usr/local/lib/python3.10/dist-packages (from zenml==0.67.0->zenml[server]==0.67.0) (0.0.18)\n",
            "Requirement already satisfied: Jinja2 in /usr/local/lib/python3.10/dist-packages (from zenml[server]==0.67.0) (3.1.4)\n",
            "Requirement already satisfied: fastapi<=0.110,>=0.100 in /usr/local/lib/python3.10/dist-packages (from zenml[server]==0.67.0) (0.110.0)\n",
            "Requirement already satisfied: ipinfo>=4.4.3 in /usr/local/lib/python3.10/dist-packages (from zenml[server]==0.67.0) (5.1.1)\n",
            "Requirement already satisfied: orjson<3.11.0,>=3.10.0 in /usr/local/lib/python3.10/dist-packages (from zenml[server]==0.67.0) (3.10.11)\n",
            "Requirement already satisfied: pyjwt==2.7.* in /usr/local/lib/python3.10/dist-packages (from pyjwt[crypto]==2.7.*; extra == \"server\"->zenml[server]==0.67.0) (2.7.0)\n",
            "Requirement already satisfied: python-multipart<0.1.0,>=0.0.9 in /usr/local/lib/python3.10/dist-packages (from zenml[server]==0.67.0) (0.0.17)\n",
            "Requirement already satisfied: secure<0.4.0,>=0.3.0 in /usr/local/lib/python3.10/dist-packages (from zenml[server]==0.67.0) (0.3.0)\n",
            "Requirement already satisfied: uvicorn>=0.17.5 in /usr/local/lib/python3.10/dist-packages (from uvicorn[standard]>=0.17.5; extra == \"server\"->zenml[server]==0.67.0) (0.32.0)\n",
            "Requirement already satisfied: cryptography>=3.4.0 in /usr/local/lib/python3.10/dist-packages (from pyjwt[crypto]==2.7.*; extra == \"server\"->zenml[server]==0.67.0) (43.0.3)\n",
            "Requirement already satisfied: Mako in /usr/local/lib/python3.10/dist-packages (from alembic<1.9.0,>=1.8.1->zenml==0.67.0->zenml[server]==0.67.0) (1.3.6)\n",
            "Requirement already satisfied: requests>=2.26.0 in /usr/local/lib/python3.10/dist-packages (from docker<7.2.0,>=7.1.0->zenml==0.67.0->zenml[server]==0.67.0) (2.32.3)\n",
            "Requirement already satisfied: urllib3>=1.26.0 in /usr/local/lib/python3.10/dist-packages (from docker<7.2.0,>=7.1.0->zenml==0.67.0->zenml[server]==0.67.0) (2.2.3)\n",
            "Requirement already satisfied: starlette<0.37.0,>=0.36.3 in /usr/local/lib/python3.10/dist-packages (from fastapi<=0.110,>=0.100->zenml[server]==0.67.0) (0.36.3)\n",
            "Requirement already satisfied: typing-extensions>=4.8.0 in /usr/local/lib/python3.10/dist-packages (from fastapi<=0.110,>=0.100->zenml[server]==0.67.0) (4.12.2)\n",
            "Requirement already satisfied: gitdb<5,>=4.0.1 in /usr/local/lib/python3.10/dist-packages (from gitpython<4.0.0,>=3.1.18->zenml==0.67.0->zenml[server]==0.67.0) (4.0.11)\n",
            "Requirement already satisfied: cachetools in /usr/local/lib/python3.10/dist-packages (from ipinfo>=4.4.3->zenml[server]==0.67.0) (5.5.0)\n",
            "Requirement already satisfied: aiohttp<=4 in /usr/local/lib/python3.10/dist-packages (from ipinfo>=4.4.3->zenml[server]==0.67.0) (3.10.10)\n",
            "Requirement already satisfied: annotated-types>=0.4.0 in /usr/local/lib/python3.10/dist-packages (from pydantic<2.9,>=2.8->zenml==0.67.0->zenml[server]==0.67.0) (0.7.0)\n",
            "Requirement already satisfied: pydantic-core==2.20.1 in /usr/local/lib/python3.10/dist-packages (from pydantic<2.9,>=2.8->zenml==0.67.0->zenml[server]==0.67.0) (2.20.1)\n",
            "Requirement already satisfied: six>=1.5 in /usr/local/lib/python3.10/dist-packages (from python-dateutil<3.0.0,>=2.8.1->zenml==0.67.0->zenml[server]==0.67.0) (1.16.0)\n",
            "Requirement already satisfied: markdown-it-py>=2.2.0 in /usr/local/lib/python3.10/dist-packages (from rich>=12.0.0->rich[jupyter]>=12.0.0->zenml==0.67.0->zenml[server]==0.67.0) (3.0.0)\n",
            "Requirement already satisfied: pygments<3.0.0,>=2.13.0 in /usr/local/lib/python3.10/dist-packages (from rich>=12.0.0->rich[jupyter]>=12.0.0->zenml==0.67.0->zenml[server]==0.67.0) (2.18.0)\n",
            "Requirement already satisfied: ipywidgets<9,>=7.5.1 in /usr/local/lib/python3.10/dist-packages (from rich[jupyter]>=12.0.0->zenml==0.67.0->zenml[server]==0.67.0) (7.7.1)\n",
            "Requirement already satisfied: greenlet!=0.4.17 in /usr/local/lib/python3.10/dist-packages (from sqlalchemy<3.0.0,>=2.0.0->zenml==0.67.0->zenml[server]==0.67.0) (3.1.1)\n",
            "Requirement already satisfied: h11>=0.8 in /usr/local/lib/python3.10/dist-packages (from uvicorn>=0.17.5->uvicorn[standard]>=0.17.5; extra == \"server\"->zenml[server]==0.67.0) (0.14.0)\n",
            "Requirement already satisfied: httptools>=0.5.0 in /usr/local/lib/python3.10/dist-packages (from uvicorn[standard]>=0.17.5; extra == \"server\"->zenml[server]==0.67.0) (0.6.4)\n",
            "Requirement already satisfied: python-dotenv>=0.13 in /usr/local/lib/python3.10/dist-packages (from uvicorn[standard]>=0.17.5; extra == \"server\"->zenml[server]==0.67.0) (1.0.1)\n",
            "Requirement already satisfied: uvloop!=0.15.0,!=0.15.1,>=0.14.0 in /usr/local/lib/python3.10/dist-packages (from uvicorn[standard]>=0.17.5; extra == \"server\"->zenml[server]==0.67.0) (0.21.0)\n",
            "Requirement already satisfied: watchfiles>=0.13 in /usr/local/lib/python3.10/dist-packages (from uvicorn[standard]>=0.17.5; extra == \"server\"->zenml[server]==0.67.0) (0.24.0)\n",
            "Requirement already satisfied: websockets>=10.4 in /usr/local/lib/python3.10/dist-packages (from uvicorn[standard]>=0.17.5; extra == \"server\"->zenml[server]==0.67.0) (14.1)\n",
            "Requirement already satisfied: MarkupSafe>=2.0 in /usr/local/lib/python3.10/dist-packages (from Jinja2->zenml[server]==0.67.0) (3.0.2)\n",
            "Requirement already satisfied: aiohappyeyeballs>=2.3.0 in /usr/local/lib/python3.10/dist-packages (from aiohttp<=4->ipinfo>=4.4.3->zenml[server]==0.67.0) (2.4.3)\n",
            "Requirement already satisfied: aiosignal>=1.1.2 in /usr/local/lib/python3.10/dist-packages (from aiohttp<=4->ipinfo>=4.4.3->zenml[server]==0.67.0) (1.3.1)\n",
            "Requirement already satisfied: attrs>=17.3.0 in /usr/local/lib/python3.10/dist-packages (from aiohttp<=4->ipinfo>=4.4.3->zenml[server]==0.67.0) (24.2.0)\n",
            "Requirement already satisfied: frozenlist>=1.1.1 in /usr/local/lib/python3.10/dist-packages (from aiohttp<=4->ipinfo>=4.4.3->zenml[server]==0.67.0) (1.5.0)\n",
            "Requirement already satisfied: multidict<7.0,>=4.5 in /usr/local/lib/python3.10/dist-packages (from aiohttp<=4->ipinfo>=4.4.3->zenml[server]==0.67.0) (6.1.0)\n",
            "Requirement already satisfied: yarl<2.0,>=1.12.0 in /usr/local/lib/python3.10/dist-packages (from aiohttp<=4->ipinfo>=4.4.3->zenml[server]==0.67.0) (1.17.1)\n",
            "Requirement already satisfied: async-timeout<5.0,>=4.0 in /usr/local/lib/python3.10/dist-packages (from aiohttp<=4->ipinfo>=4.4.3->zenml[server]==0.67.0) (4.0.3)\n",
            "Requirement already satisfied: cffi>=1.12 in /usr/local/lib/python3.10/dist-packages (from cryptography>=3.4.0->pyjwt[crypto]==2.7.*; extra == \"server\"->zenml[server]==0.67.0) (1.17.1)\n",
            "Requirement already satisfied: smmap<6,>=3.0.1 in /usr/local/lib/python3.10/dist-packages (from gitdb<5,>=4.0.1->gitpython<4.0.0,>=3.1.18->zenml==0.67.0->zenml[server]==0.67.0) (5.0.1)\n",
            "Requirement already satisfied: ipykernel>=4.5.1 in /usr/local/lib/python3.10/dist-packages (from ipywidgets<9,>=7.5.1->rich[jupyter]>=12.0.0->zenml==0.67.0->zenml[server]==0.67.0) (5.5.6)\n",
            "Requirement already satisfied: ipython-genutils~=0.2.0 in /usr/local/lib/python3.10/dist-packages (from ipywidgets<9,>=7.5.1->rich[jupyter]>=12.0.0->zenml==0.67.0->zenml[server]==0.67.0) (0.2.0)\n",
            "Requirement already satisfied: traitlets>=4.3.1 in /usr/local/lib/python3.10/dist-packages (from ipywidgets<9,>=7.5.1->rich[jupyter]>=12.0.0->zenml==0.67.0->zenml[server]==0.67.0) (5.7.1)\n",
            "Requirement already satisfied: widgetsnbextension~=3.6.0 in /usr/local/lib/python3.10/dist-packages (from ipywidgets<9,>=7.5.1->rich[jupyter]>=12.0.0->zenml==0.67.0->zenml[server]==0.67.0) (3.6.10)\n",
            "Requirement already satisfied: ipython>=4.0.0 in /usr/local/lib/python3.10/dist-packages (from ipywidgets<9,>=7.5.1->rich[jupyter]>=12.0.0->zenml==0.67.0->zenml[server]==0.67.0) (7.34.0)\n",
            "Requirement already satisfied: jupyterlab-widgets>=1.0.0 in /usr/local/lib/python3.10/dist-packages (from ipywidgets<9,>=7.5.1->rich[jupyter]>=12.0.0->zenml==0.67.0->zenml[server]==0.67.0) (3.0.13)\n",
            "Requirement already satisfied: mdurl~=0.1 in /usr/local/lib/python3.10/dist-packages (from markdown-it-py>=2.2.0->rich>=12.0.0->rich[jupyter]>=12.0.0->zenml==0.67.0->zenml[server]==0.67.0) (0.1.2)\n",
            "Requirement already satisfied: charset-normalizer<4,>=2 in /usr/local/lib/python3.10/dist-packages (from requests>=2.26.0->docker<7.2.0,>=7.1.0->zenml==0.67.0->zenml[server]==0.67.0) (3.4.0)\n",
            "Requirement already satisfied: idna<4,>=2.5 in /usr/local/lib/python3.10/dist-packages (from requests>=2.26.0->docker<7.2.0,>=7.1.0->zenml==0.67.0->zenml[server]==0.67.0) (3.10)\n",
            "Requirement already satisfied: certifi>=2017.4.17 in /usr/local/lib/python3.10/dist-packages (from requests>=2.26.0->docker<7.2.0,>=7.1.0->zenml==0.67.0->zenml[server]==0.67.0) (2024.8.30)\n",
            "Requirement already satisfied: anyio<5,>=3.4.0 in /usr/local/lib/python3.10/dist-packages (from starlette<0.37.0,>=0.36.3->fastapi<=0.110,>=0.100->zenml[server]==0.67.0) (3.7.1)\n",
            "Requirement already satisfied: sniffio>=1.1 in /usr/local/lib/python3.10/dist-packages (from anyio<5,>=3.4.0->starlette<0.37.0,>=0.36.3->fastapi<=0.110,>=0.100->zenml[server]==0.67.0) (1.3.1)\n",
            "Requirement already satisfied: exceptiongroup in /usr/local/lib/python3.10/dist-packages (from anyio<5,>=3.4.0->starlette<0.37.0,>=0.36.3->fastapi<=0.110,>=0.100->zenml[server]==0.67.0) (1.2.2)\n",
            "Requirement already satisfied: pycparser in /usr/local/lib/python3.10/dist-packages (from cffi>=1.12->cryptography>=3.4.0->pyjwt[crypto]==2.7.*; extra == \"server\"->zenml[server]==0.67.0) (2.22)\n",
            "Requirement already satisfied: jupyter-client in /usr/local/lib/python3.10/dist-packages (from ipykernel>=4.5.1->ipywidgets<9,>=7.5.1->rich[jupyter]>=12.0.0->zenml==0.67.0->zenml[server]==0.67.0) (6.1.12)\n",
            "Requirement already satisfied: tornado>=4.2 in /usr/local/lib/python3.10/dist-packages (from ipykernel>=4.5.1->ipywidgets<9,>=7.5.1->rich[jupyter]>=12.0.0->zenml==0.67.0->zenml[server]==0.67.0) (6.3.3)\n",
            "Requirement already satisfied: jedi>=0.16 in /usr/local/lib/python3.10/dist-packages (from ipython>=4.0.0->ipywidgets<9,>=7.5.1->rich[jupyter]>=12.0.0->zenml==0.67.0->zenml[server]==0.67.0) (0.19.2)\n",
            "Requirement already satisfied: decorator in /usr/local/lib/python3.10/dist-packages (from ipython>=4.0.0->ipywidgets<9,>=7.5.1->rich[jupyter]>=12.0.0->zenml==0.67.0->zenml[server]==0.67.0) (4.4.2)\n",
            "Requirement already satisfied: pickleshare in /usr/local/lib/python3.10/dist-packages (from ipython>=4.0.0->ipywidgets<9,>=7.5.1->rich[jupyter]>=12.0.0->zenml==0.67.0->zenml[server]==0.67.0) (0.7.5)\n",
            "Requirement already satisfied: prompt-toolkit!=3.0.0,!=3.0.1,<3.1.0,>=2.0.0 in /usr/local/lib/python3.10/dist-packages (from ipython>=4.0.0->ipywidgets<9,>=7.5.1->rich[jupyter]>=12.0.0->zenml==0.67.0->zenml[server]==0.67.0) (3.0.48)\n",
            "Requirement already satisfied: backcall in /usr/local/lib/python3.10/dist-packages (from ipython>=4.0.0->ipywidgets<9,>=7.5.1->rich[jupyter]>=12.0.0->zenml==0.67.0->zenml[server]==0.67.0) (0.2.0)\n",
            "Requirement already satisfied: matplotlib-inline in /usr/local/lib/python3.10/dist-packages (from ipython>=4.0.0->ipywidgets<9,>=7.5.1->rich[jupyter]>=12.0.0->zenml==0.67.0->zenml[server]==0.67.0) (0.1.7)\n",
            "Requirement already satisfied: pexpect>4.3 in /usr/local/lib/python3.10/dist-packages (from ipython>=4.0.0->ipywidgets<9,>=7.5.1->rich[jupyter]>=12.0.0->zenml==0.67.0->zenml[server]==0.67.0) (4.9.0)\n",
            "Requirement already satisfied: notebook>=4.4.1 in /usr/local/lib/python3.10/dist-packages (from widgetsnbextension~=3.6.0->ipywidgets<9,>=7.5.1->rich[jupyter]>=12.0.0->zenml==0.67.0->zenml[server]==0.67.0) (6.5.5)\n",
            "Requirement already satisfied: propcache>=0.2.0 in /usr/local/lib/python3.10/dist-packages (from yarl<2.0,>=1.12.0->aiohttp<=4->ipinfo>=4.4.3->zenml[server]==0.67.0) (0.2.0)\n",
            "Requirement already satisfied: parso<0.9.0,>=0.8.4 in /usr/local/lib/python3.10/dist-packages (from jedi>=0.16->ipython>=4.0.0->ipywidgets<9,>=7.5.1->rich[jupyter]>=12.0.0->zenml==0.67.0->zenml[server]==0.67.0) (0.8.4)\n",
            "Requirement already satisfied: pyzmq<25,>=17 in /usr/local/lib/python3.10/dist-packages (from notebook>=4.4.1->widgetsnbextension~=3.6.0->ipywidgets<9,>=7.5.1->rich[jupyter]>=12.0.0->zenml==0.67.0->zenml[server]==0.67.0) (24.0.1)\n",
            "Requirement already satisfied: argon2-cffi in /usr/local/lib/python3.10/dist-packages (from notebook>=4.4.1->widgetsnbextension~=3.6.0->ipywidgets<9,>=7.5.1->rich[jupyter]>=12.0.0->zenml==0.67.0->zenml[server]==0.67.0) (23.1.0)\n",
            "Requirement already satisfied: jupyter-core>=4.6.1 in /usr/local/lib/python3.10/dist-packages (from notebook>=4.4.1->widgetsnbextension~=3.6.0->ipywidgets<9,>=7.5.1->rich[jupyter]>=12.0.0->zenml==0.67.0->zenml[server]==0.67.0) (5.7.2)\n",
            "Requirement already satisfied: nbformat in /usr/local/lib/python3.10/dist-packages (from notebook>=4.4.1->widgetsnbextension~=3.6.0->ipywidgets<9,>=7.5.1->rich[jupyter]>=12.0.0->zenml==0.67.0->zenml[server]==0.67.0) (5.10.4)\n",
            "Requirement already satisfied: nbconvert>=5 in /usr/local/lib/python3.10/dist-packages (from notebook>=4.4.1->widgetsnbextension~=3.6.0->ipywidgets<9,>=7.5.1->rich[jupyter]>=12.0.0->zenml==0.67.0->zenml[server]==0.67.0) (7.16.4)\n",
            "Requirement already satisfied: nest-asyncio>=1.5 in /usr/local/lib/python3.10/dist-packages (from notebook>=4.4.1->widgetsnbextension~=3.6.0->ipywidgets<9,>=7.5.1->rich[jupyter]>=12.0.0->zenml==0.67.0->zenml[server]==0.67.0) (1.6.0)\n",
            "Requirement already satisfied: Send2Trash>=1.8.0 in /usr/local/lib/python3.10/dist-packages (from notebook>=4.4.1->widgetsnbextension~=3.6.0->ipywidgets<9,>=7.5.1->rich[jupyter]>=12.0.0->zenml==0.67.0->zenml[server]==0.67.0) (1.8.3)\n",
            "Requirement already satisfied: terminado>=0.8.3 in /usr/local/lib/python3.10/dist-packages (from notebook>=4.4.1->widgetsnbextension~=3.6.0->ipywidgets<9,>=7.5.1->rich[jupyter]>=12.0.0->zenml==0.67.0->zenml[server]==0.67.0) (0.18.1)\n",
            "Requirement already satisfied: prometheus-client in /usr/local/lib/python3.10/dist-packages (from notebook>=4.4.1->widgetsnbextension~=3.6.0->ipywidgets<9,>=7.5.1->rich[jupyter]>=12.0.0->zenml==0.67.0->zenml[server]==0.67.0) (0.21.0)\n",
            "Requirement already satisfied: nbclassic>=0.4.7 in /usr/local/lib/python3.10/dist-packages (from notebook>=4.4.1->widgetsnbextension~=3.6.0->ipywidgets<9,>=7.5.1->rich[jupyter]>=12.0.0->zenml==0.67.0->zenml[server]==0.67.0) (1.1.0)\n",
            "Requirement already satisfied: ptyprocess>=0.5 in /usr/local/lib/python3.10/dist-packages (from pexpect>4.3->ipython>=4.0.0->ipywidgets<9,>=7.5.1->rich[jupyter]>=12.0.0->zenml==0.67.0->zenml[server]==0.67.0) (0.7.0)\n",
            "Requirement already satisfied: wcwidth in /usr/local/lib/python3.10/dist-packages (from prompt-toolkit!=3.0.0,!=3.0.1,<3.1.0,>=2.0.0->ipython>=4.0.0->ipywidgets<9,>=7.5.1->rich[jupyter]>=12.0.0->zenml==0.67.0->zenml[server]==0.67.0) (0.2.13)\n",
            "Requirement already satisfied: platformdirs>=2.5 in /usr/local/lib/python3.10/dist-packages (from jupyter-core>=4.6.1->notebook>=4.4.1->widgetsnbextension~=3.6.0->ipywidgets<9,>=7.5.1->rich[jupyter]>=12.0.0->zenml==0.67.0->zenml[server]==0.67.0) (4.3.6)\n",
            "Requirement already satisfied: notebook-shim>=0.2.3 in /usr/local/lib/python3.10/dist-packages (from nbclassic>=0.4.7->notebook>=4.4.1->widgetsnbextension~=3.6.0->ipywidgets<9,>=7.5.1->rich[jupyter]>=12.0.0->zenml==0.67.0->zenml[server]==0.67.0) (0.2.4)\n",
            "Requirement already satisfied: beautifulsoup4 in /usr/local/lib/python3.10/dist-packages (from nbconvert>=5->notebook>=4.4.1->widgetsnbextension~=3.6.0->ipywidgets<9,>=7.5.1->rich[jupyter]>=12.0.0->zenml==0.67.0->zenml[server]==0.67.0) (4.12.3)\n",
            "Requirement already satisfied: bleach!=5.0.0 in /usr/local/lib/python3.10/dist-packages (from nbconvert>=5->notebook>=4.4.1->widgetsnbextension~=3.6.0->ipywidgets<9,>=7.5.1->rich[jupyter]>=12.0.0->zenml==0.67.0->zenml[server]==0.67.0) (6.2.0)\n",
            "Requirement already satisfied: defusedxml in /usr/local/lib/python3.10/dist-packages (from nbconvert>=5->notebook>=4.4.1->widgetsnbextension~=3.6.0->ipywidgets<9,>=7.5.1->rich[jupyter]>=12.0.0->zenml==0.67.0->zenml[server]==0.67.0) (0.7.1)\n",
            "Requirement already satisfied: jupyterlab-pygments in /usr/local/lib/python3.10/dist-packages (from nbconvert>=5->notebook>=4.4.1->widgetsnbextension~=3.6.0->ipywidgets<9,>=7.5.1->rich[jupyter]>=12.0.0->zenml==0.67.0->zenml[server]==0.67.0) (0.3.0)\n",
            "Requirement already satisfied: mistune<4,>=2.0.3 in /usr/local/lib/python3.10/dist-packages (from nbconvert>=5->notebook>=4.4.1->widgetsnbextension~=3.6.0->ipywidgets<9,>=7.5.1->rich[jupyter]>=12.0.0->zenml==0.67.0->zenml[server]==0.67.0) (3.0.2)\n",
            "Requirement already satisfied: nbclient>=0.5.0 in /usr/local/lib/python3.10/dist-packages (from nbconvert>=5->notebook>=4.4.1->widgetsnbextension~=3.6.0->ipywidgets<9,>=7.5.1->rich[jupyter]>=12.0.0->zenml==0.67.0->zenml[server]==0.67.0) (0.10.0)\n",
            "Requirement already satisfied: pandocfilters>=1.4.1 in /usr/local/lib/python3.10/dist-packages (from nbconvert>=5->notebook>=4.4.1->widgetsnbextension~=3.6.0->ipywidgets<9,>=7.5.1->rich[jupyter]>=12.0.0->zenml==0.67.0->zenml[server]==0.67.0) (1.5.1)\n",
            "Requirement already satisfied: tinycss2 in /usr/local/lib/python3.10/dist-packages (from nbconvert>=5->notebook>=4.4.1->widgetsnbextension~=3.6.0->ipywidgets<9,>=7.5.1->rich[jupyter]>=12.0.0->zenml==0.67.0->zenml[server]==0.67.0) (1.4.0)\n",
            "Requirement already satisfied: fastjsonschema>=2.15 in /usr/local/lib/python3.10/dist-packages (from nbformat->notebook>=4.4.1->widgetsnbextension~=3.6.0->ipywidgets<9,>=7.5.1->rich[jupyter]>=12.0.0->zenml==0.67.0->zenml[server]==0.67.0) (2.20.0)\n",
            "Requirement already satisfied: jsonschema>=2.6 in /usr/local/lib/python3.10/dist-packages (from nbformat->notebook>=4.4.1->widgetsnbextension~=3.6.0->ipywidgets<9,>=7.5.1->rich[jupyter]>=12.0.0->zenml==0.67.0->zenml[server]==0.67.0) (4.23.0)\n",
            "Requirement already satisfied: argon2-cffi-bindings in /usr/local/lib/python3.10/dist-packages (from argon2-cffi->notebook>=4.4.1->widgetsnbextension~=3.6.0->ipywidgets<9,>=7.5.1->rich[jupyter]>=12.0.0->zenml==0.67.0->zenml[server]==0.67.0) (21.2.0)\n",
            "Requirement already satisfied: webencodings in /usr/local/lib/python3.10/dist-packages (from bleach!=5.0.0->nbconvert>=5->notebook>=4.4.1->widgetsnbextension~=3.6.0->ipywidgets<9,>=7.5.1->rich[jupyter]>=12.0.0->zenml==0.67.0->zenml[server]==0.67.0) (0.5.1)\n",
            "Requirement already satisfied: jsonschema-specifications>=2023.03.6 in /usr/local/lib/python3.10/dist-packages (from jsonschema>=2.6->nbformat->notebook>=4.4.1->widgetsnbextension~=3.6.0->ipywidgets<9,>=7.5.1->rich[jupyter]>=12.0.0->zenml==0.67.0->zenml[server]==0.67.0) (2024.10.1)\n",
            "Requirement already satisfied: referencing>=0.28.4 in /usr/local/lib/python3.10/dist-packages (from jsonschema>=2.6->nbformat->notebook>=4.4.1->widgetsnbextension~=3.6.0->ipywidgets<9,>=7.5.1->rich[jupyter]>=12.0.0->zenml==0.67.0->zenml[server]==0.67.0) (0.35.1)\n",
            "Requirement already satisfied: rpds-py>=0.7.1 in /usr/local/lib/python3.10/dist-packages (from jsonschema>=2.6->nbformat->notebook>=4.4.1->widgetsnbextension~=3.6.0->ipywidgets<9,>=7.5.1->rich[jupyter]>=12.0.0->zenml==0.67.0->zenml[server]==0.67.0) (0.21.0)\n",
            "Requirement already satisfied: jupyter-server<3,>=1.8 in /usr/local/lib/python3.10/dist-packages (from notebook-shim>=0.2.3->nbclassic>=0.4.7->notebook>=4.4.1->widgetsnbextension~=3.6.0->ipywidgets<9,>=7.5.1->rich[jupyter]>=12.0.0->zenml==0.67.0->zenml[server]==0.67.0) (1.24.0)\n",
            "Requirement already satisfied: soupsieve>1.2 in /usr/local/lib/python3.10/dist-packages (from beautifulsoup4->nbconvert>=5->notebook>=4.4.1->widgetsnbextension~=3.6.0->ipywidgets<9,>=7.5.1->rich[jupyter]>=12.0.0->zenml==0.67.0->zenml[server]==0.67.0) (2.6)\n",
            "Requirement already satisfied: websocket-client in /usr/local/lib/python3.10/dist-packages (from jupyter-server<3,>=1.8->notebook-shim>=0.2.3->nbclassic>=0.4.7->notebook>=4.4.1->widgetsnbextension~=3.6.0->ipywidgets<9,>=7.5.1->rich[jupyter]>=12.0.0->zenml==0.67.0->zenml[server]==0.67.0) (1.8.0)\n",
            "\u001b[2K\u001b[32m⠙\u001b[0m Installing integrations...\n",
            "\u001b[1A\u001b[2K\u001b[?25l\u001b[32m⠋\u001b[0m Initializing ZenML repository at /content.\n",
            "\u001b[2K\u001b[1A\u001b[2K\u001b[32m⠙\u001b[0m Initializing ZenML repository at /content.\n",
            "\u001b[2K\u001b[1A\u001b[2K\u001b[32m⠹\u001b[0m Initializing ZenML repository at /content.\n",
            "\u001b[2K\u001b[1A\u001b[2K\u001b[32m⠸\u001b[0m Initializing ZenML repository at /content.\n",
            "\u001b[2K\u001b[1A\u001b[2K\u001b[32m⠦\u001b[0m Initializing ZenML repository at /content.\n",
            "\u001b[2K\u001b[1A\u001b[2K\u001b[32m⠧\u001b[0m Initializing ZenML repository at /content.\n",
            "\u001b[1;35mSetting the repo active workspace to 'default'.\u001b[0m\n",
            "\u001b[33mSetting the repo active stack to default.\u001b[0m\n",
            "\u001b[2K\u001b[1A\u001b[2K\u001b[2;36mZenML repository initialized at \u001b[0m\u001b[2;35m/\u001b[0m\u001b[2;95mcontent.\u001b[0m\n",
            "\u001b[2;32m⠧\u001b[0m\u001b[2;36m Initializing ZenML repository at /content.\u001b[0m\n",
            "\u001b[2K\u001b[1A\u001b[2K\u001b[32m⠧\u001b[0m Initializing ZenML repository at /content.\n",
            "\n",
            "\u001b[1A\u001b[2K\u001b[1A\u001b[2K\u001b[2;36mThe local active stack was initialized to \u001b[0m\u001b[2;32m'default'\u001b[0m\u001b[2;36m. This local configuration will only take effect \u001b[0m\n",
            "\u001b[2;36mwhen you're running ZenML from the initialized repository root, or from a subdirectory. For more \u001b[0m\n",
            "\u001b[2;36minformation on repositories and configurations, please visit \u001b[0m\n",
            "\u001b[2;4;94mhttps://docs.zenml.io/user-guide/starter-guide/understand-stacks.\u001b[0m\n",
            "Requirement already satisfied: pyparsing==2.4.2 in /usr/local/lib/python3.10/dist-packages (2.4.2)\n"
          ]
        },
        {
          "output_type": "execute_result",
          "data": {
            "text/plain": [
              "{'status': 'ok', 'restart': True}"
            ]
          },
          "metadata": {},
          "execution_count": 1
        }
      ],
      "source": [
        "%pip install \"zenml[server]==0.67.0\"\n",
        "!zenml integration install sklearn -y\n",
        "!rm -rf .zen\n",
        "!zenml init\n",
        "%pip install pyparsing==2.4.2  # required for Colab\n",
        "\n",
        "import IPython\n",
        "\n",
        "# automatically restart kernel\n",
        "IPython.Application.instance().kernel.do_shutdown(restart=True)"
      ]
    },
    {
      "cell_type": "code",
      "execution_count": null,
      "metadata": {
        "id": "YfJYYOxswNEW"
      },
      "outputs": [],
      "source": [
        "NGROK_TOKEN = \"\"  # TODO: set your ngrok token if you are working on Colab"
      ]
    },
    {
      "cell_type": "code",
      "execution_count": null,
      "metadata": {
        "colab": {
          "base_uri": "https://localhost:8080/"
        },
        "id": "n8Tw2CS8xvNj",
        "outputId": "0fde2095-e03e-4c8a-c974-b9b640489129"
      },
      "outputs": [
        {
          "output_type": "stream",
          "name": "stdout",
          "text": [
            "Collecting pyngrok\n",
            "  Downloading pyngrok-7.2.1-py3-none-any.whl.metadata (8.3 kB)\n",
            "Requirement already satisfied: PyYAML>=5.1 in /usr/local/lib/python3.10/dist-packages (from pyngrok) (6.0.2)\n",
            "Downloading pyngrok-7.2.1-py3-none-any.whl (22 kB)\n",
            "Installing collected packages: pyngrok\n",
            "Successfully installed pyngrok-7.2.1\n",
            "Authtoken saved to configuration file: /root/.config/ngrok/ngrok.yml\n"
          ]
        }
      ],
      "source": [
        "from zenml.environment import Environment\n",
        "\n",
        "if Environment.in_google_colab():  # Colab only setup\n",
        "\n",
        "    # install and authenticate ngrok\n",
        "    !pip install pyngrok\n",
        "    !ngrok authtoken {NGROK_TOKEN}"
      ]
    },
    {
      "cell_type": "code",
      "execution_count": null,
      "metadata": {
        "colab": {
          "base_uri": "https://localhost:8080/"
        },
        "id": "bYm8cxYRyu2G",
        "outputId": "54a94de8-d457-4d53-f1bb-ad11cb1009d5"
      },
      "outputs": [
        {
          "output_type": "stream",
          "name": "stdout",
          "text": [
            "/content/drive/MyDrive/housing_price_predictions\n"
          ]
        }
      ],
      "source": [
        "%cd /content/drive/MyDrive/housing_price_predictions/"
      ]
    },
    {
      "cell_type": "code",
      "execution_count": null,
      "metadata": {
        "id": "-uV_L34cyQZN",
        "colab": {
          "base_uri": "https://localhost:8080/"
        },
        "outputId": "08108740-b8c4-420f-9648-513306edb9e0"
      },
      "outputs": [
        {
          "output_type": "stream",
          "name": "stderr",
          "text": [
            "INFO:pyngrok.ngrok:Opening tunnel named: http-8237-9fab5b31-79e5-44d8-8dc5-bb2d8121db0b\n"
          ]
        },
        {
          "output_type": "stream",
          "name": "stdout",
          "text": [
            "\u001b[1;35mOpening tunnel named: http-8237-9fab5b31-79e5-44d8-8dc5-bb2d8121db0b\u001b[0m\n"
          ]
        },
        {
          "output_type": "stream",
          "name": "stderr",
          "text": [
            "INFO:pyngrok.process.ngrok:t=2024-11-16T22:52:43+0000 lvl=info msg=\"no configuration paths supplied\"\n"
          ]
        },
        {
          "output_type": "stream",
          "name": "stdout",
          "text": [
            "\u001b[1;35mt=2024-11-16T22:52:43+0000 lvl=info msg=\"no configuration paths supplied\"\u001b[0m\n"
          ]
        },
        {
          "output_type": "stream",
          "name": "stderr",
          "text": [
            "INFO:pyngrok.process.ngrok:t=2024-11-16T22:52:43+0000 lvl=info msg=\"using configuration at default config path\" path=/root/.config/ngrok/ngrok.yml\n"
          ]
        },
        {
          "output_type": "stream",
          "name": "stdout",
          "text": [
            "\u001b[1;35mt=2024-11-16T22:52:43+0000 lvl=info msg=\"using configuration at default config path\" path=/root/.config/ngrok/ngrok.yml\u001b[0m\n"
          ]
        },
        {
          "output_type": "stream",
          "name": "stderr",
          "text": [
            "INFO:pyngrok.process.ngrok:t=2024-11-16T22:52:43+0000 lvl=info msg=\"open config file\" path=/root/.config/ngrok/ngrok.yml err=nil\n"
          ]
        },
        {
          "output_type": "stream",
          "name": "stdout",
          "text": [
            "\u001b[1;35mt=2024-11-16T22:52:43+0000 lvl=info msg=\"open config file\" path=/root/.config/ngrok/ngrok.yml err=nil\u001b[0m\n"
          ]
        },
        {
          "output_type": "stream",
          "name": "stderr",
          "text": [
            "INFO:pyngrok.process.ngrok:t=2024-11-16T22:52:43+0000 lvl=info msg=\"starting web service\" obj=web addr=127.0.0.1:4040 allow_hosts=[]\n"
          ]
        },
        {
          "output_type": "stream",
          "name": "stdout",
          "text": [
            "\u001b[1;35mt=2024-11-16T22:52:43+0000 lvl=info msg=\"starting web service\" obj=web addr=127.0.0.1:4040 allow_hosts=[]\u001b[0m\n"
          ]
        },
        {
          "output_type": "stream",
          "name": "stderr",
          "text": [
            "INFO:pyngrok.process.ngrok:t=2024-11-16T22:52:43+0000 lvl=info msg=\"client session established\" obj=tunnels.session\n"
          ]
        },
        {
          "output_type": "stream",
          "name": "stdout",
          "text": [
            "\u001b[1;35mt=2024-11-16T22:52:43+0000 lvl=info msg=\"client session established\" obj=tunnels.session\u001b[0m\n"
          ]
        },
        {
          "output_type": "stream",
          "name": "stderr",
          "text": [
            "INFO:pyngrok.process.ngrok:t=2024-11-16T22:52:43+0000 lvl=info msg=\"tunnel session started\" obj=tunnels.session\n"
          ]
        },
        {
          "output_type": "stream",
          "name": "stdout",
          "text": [
            "\u001b[1;35mt=2024-11-16T22:52:43+0000 lvl=info msg=\"tunnel session started\" obj=tunnels.session\u001b[0m\n"
          ]
        },
        {
          "output_type": "stream",
          "name": "stderr",
          "text": [
            "INFO:pyngrok.process.ngrok:t=2024-11-16T22:52:43+0000 lvl=info msg=start pg=/api/tunnels id=eaa420653f662029\n"
          ]
        },
        {
          "output_type": "stream",
          "name": "stdout",
          "text": [
            "\u001b[1;35mt=2024-11-16T22:52:43+0000 lvl=info msg=start pg=/api/tunnels id=eaa420653f662029\u001b[0m\n"
          ]
        },
        {
          "output_type": "stream",
          "name": "stderr",
          "text": [
            "INFO:pyngrok.process.ngrok:t=2024-11-16T22:52:43+0000 lvl=info msg=end pg=/api/tunnels id=eaa420653f662029 status=200 dur=450.903µs\n"
          ]
        },
        {
          "output_type": "stream",
          "name": "stdout",
          "text": [
            "\u001b[1;35mt=2024-11-16T22:52:43+0000 lvl=info msg=end pg=/api/tunnels id=eaa420653f662029 status=200 dur=450.903µs\u001b[0m\n"
          ]
        },
        {
          "output_type": "stream",
          "name": "stderr",
          "text": [
            "INFO:pyngrok.process.ngrok:t=2024-11-16T22:52:43+0000 lvl=info msg=start pg=/api/tunnels id=201a138f8f563d64\n"
          ]
        },
        {
          "output_type": "stream",
          "name": "stdout",
          "text": [
            "\u001b[1;35mt=2024-11-16T22:52:43+0000 lvl=info msg=start pg=/api/tunnels id=201a138f8f563d64\u001b[0m\n"
          ]
        },
        {
          "output_type": "stream",
          "name": "stderr",
          "text": [
            "INFO:pyngrok.process.ngrok:t=2024-11-16T22:52:43+0000 lvl=info msg=end pg=/api/tunnels id=201a138f8f563d64 status=200 dur=135.338µs\n"
          ]
        },
        {
          "output_type": "stream",
          "name": "stdout",
          "text": [
            "\u001b[1;35mt=2024-11-16T22:52:43+0000 lvl=info msg=end pg=/api/tunnels id=201a138f8f563d64 status=200 dur=135.338µs\u001b[0m\n"
          ]
        },
        {
          "output_type": "stream",
          "name": "stderr",
          "text": [
            "INFO:pyngrok.process.ngrok:t=2024-11-16T22:52:43+0000 lvl=info msg=start pg=/api/tunnels id=5813ab43124c5843\n"
          ]
        },
        {
          "output_type": "stream",
          "name": "stdout",
          "text": [
            "\u001b[1;35mt=2024-11-16T22:52:43+0000 lvl=info msg=start pg=/api/tunnels id=5813ab43124c5843\u001b[0m\n"
          ]
        },
        {
          "output_type": "stream",
          "name": "stderr",
          "text": [
            "INFO:pyngrok.process.ngrok:t=2024-11-16T22:52:43+0000 lvl=info msg=\"started tunnel\" obj=tunnels name=http-8237-9fab5b31-79e5-44d8-8dc5-bb2d8121db0b addr=http://localhost:8237 url=https://7687-34-106-11-38.ngrok-free.app\n"
          ]
        },
        {
          "output_type": "stream",
          "name": "stdout",
          "text": [
            "\u001b[1;35mt=2024-11-16T22:52:43+0000 lvl=info msg=\"started tunnel\" obj=tunnels name=http-8237-9fab5b31-79e5-44d8-8dc5-bb2d8121db0b addr=\u001b[0m\u001b[34mhttp://localhost:8237\u001b[1;35m url=\u001b[0m\u001b[34mhttps://7687-34-106-11-38.ngrok-free.app\u001b[1;35m\u001b[0m\n"
          ]
        },
        {
          "output_type": "stream",
          "name": "stderr",
          "text": [
            "INFO:pyngrok.process.ngrok:t=2024-11-16T22:52:43+0000 lvl=info msg=end pg=/api/tunnels id=5813ab43124c5843 status=201 dur=52.390687ms\n"
          ]
        },
        {
          "output_type": "stream",
          "name": "stdout",
          "text": [
            "\u001b[31mIn Colab, use this URL instead: NgrokTunnel: \"https://7687-34-106-11-38.ngrok-free.app\" -> \"http://localhost:8237\"!\u001b[0m\n",
            "\u001b[1;35mt=2024-11-16T22:52:43+0000 lvl=info msg=end pg=/api/tunnels id=5813ab43124c5843 status=201 dur=52.390687ms\u001b[0m\n",
            "\u001b[2;36mThe local ZenML dashboard is about to deploy in a blocking process. You can connect to it using the \u001b[0m\n",
            "\u001b[2;32m'default'\u001b[0m\u001b[2;36m username and an empty password.\u001b[0m\n",
            "\u001b[1;35mUpdating the local ZenML server.\u001b[0m\n",
            "\u001b[1;35mCalling stop method...\u001b[0m\n",
            "\u001b[?25l\u001b[32m⠋\u001b[0m Stopping service 'LocalZenServer[247b193b-2892-45ae-9389-787535fb8739] (type: zen_server, flavor: \n",
            "local)'.\n",
            "\u001b[2K\u001b[1A\u001b[2K\u001b[1A\u001b[2K\u001b[32m⠙\u001b[0m Stopping service 'LocalZenServer[247b193b-2892-45ae-9389-787535fb8739] (type: zen_server, flavor: \n",
            "local)'.\n",
            "\u001b[2K\u001b[1A\u001b[2K\u001b[1A\u001b[2K\u001b[32m⠹\u001b[0m Stopping service 'LocalZenServer[247b193b-2892-45ae-9389-787535fb8739] (type: zen_server, flavor: \n",
            "local)'.\n",
            "\u001b[2K\u001b[1A\u001b[2K\u001b[1A\u001b[2K\u001b[32m⠸\u001b[0m Stopping service 'LocalZenServer[247b193b-2892-45ae-9389-787535fb8739] (type: zen_server, flavor: \n",
            "local)'.\n"
          ]
        },
        {
          "output_type": "stream",
          "name": "stderr",
          "text": [
            "WARNING:pyngrok.process.ngrok:t=2024-11-16T22:52:53+0000 lvl=warn msg=\"failed to open private leg\" id=99c9039bc023 privaddr=localhost:8237 err=\"dial tcp 127.0.0.1:8237: connect: connection refused\"\n"
          ]
        },
        {
          "output_type": "stream",
          "name": "stdout",
          "text": [
            "\r\u001b[2K\u001b[1A\u001b[2K\u001b[1A\u001b[2K\u001b[32m⠼\u001b[0m Stopping service 'LocalZenServer[247b193b-2892-45ae-9389-787535fb8739] (type: zen_server, flavor: \n",
            "local)'.\n",
            "\r\u001b[2K\u001b[1A\u001b[2K\u001b[1A\u001b[2K\u001b[32m⠴\u001b[0m Stopping service 'LocalZenServer[247b193b-2892-45ae-9389-787535fb8739] (type: zen_server, flavor: \n",
            "local)'.\n",
            "\u001b[33mt=2024-11-16T22:52:53+0000 lvl=warn msg=\"failed to open private leg\" id=99c9039bc023 privaddr=localhost:8237 err=\"dial tcp 127.0.0.1:8237: connect: connection refused\"\u001b[0m\n",
            "\u001b[2K\u001b[1A\u001b[2K\u001b[1A\u001b[2K\u001b[32m⠦\u001b[0m Stopping service 'LocalZenServer[247b193b-2892-45ae-9389-787535fb8739] (type: zen_server, flavor: \n",
            "local)'.\n",
            "\u001b[2K\u001b[1A\u001b[2K\u001b[1A\u001b[2K\u001b[32m⠧\u001b[0m Stopping service 'LocalZenServer[247b193b-2892-45ae-9389-787535fb8739] (type: zen_server, flavor: \n",
            "local)'.\n",
            "\u001b[2K\u001b[1A\u001b[2K\u001b[1A\u001b[2K\u001b[32m⠇\u001b[0m Stopping service 'LocalZenServer[247b193b-2892-45ae-9389-787535fb8739] (type: zen_server, flavor: \n",
            "local)'.\n"
          ]
        },
        {
          "output_type": "stream",
          "name": "stderr",
          "text": [
            "WARNING:pyngrok.process.ngrok:t=2024-11-16T22:52:53+0000 lvl=warn msg=\"failed to open private leg\" id=ec7ba8c05709 privaddr=localhost:8237 err=\"dial tcp 127.0.0.1:8237: connect: connection refused\"\n"
          ]
        },
        {
          "output_type": "stream",
          "name": "stdout",
          "text": [
            "\u001b[33mt=2024-11-16T22:52:53+0000 lvl=warn msg=\"failed to open private leg\" id=ec7ba8c05709 privaddr=localhost:8237 err=\"dial tcp 127.0.0.1:8237: connect: connection refused\"\u001b[0m\n",
            "\u001b[2K\u001b[1A\u001b[2K\u001b[1A\u001b[2K\u001b[32m⠏\u001b[0m Stopping service 'LocalZenServer[247b193b-2892-45ae-9389-787535fb8739] (type: zen_server, flavor: \n",
            "local)'.\n",
            "\u001b[2K\u001b[1A\u001b[2K\u001b[1A\u001b[2K\u001b[32m⠋\u001b[0m Stopping service 'LocalZenServer[247b193b-2892-45ae-9389-787535fb8739] (type: zen_server, flavor: \n",
            "local)'.\n",
            "\u001b[2K\u001b[1A\u001b[2K\u001b[1A\u001b[2K\u001b[32m⠙\u001b[0m Stopping service 'LocalZenServer[247b193b-2892-45ae-9389-787535fb8739] (type: zen_server, flavor: \n",
            "local)'.\n",
            "\u001b[2K\u001b[1A\u001b[2K\u001b[1A\u001b[2K\u001b[32m⠙\u001b[0m Stopping service 'LocalZenServer[247b193b-2892-45ae-9389-787535fb8739] (type: zen_server, flavor: \n",
            "local)'.\n",
            "\n",
            "\u001b[1A\u001b[2K\u001b[1A\u001b[2K\u001b[1A\u001b[2K\u001b[1;35mstop method executed successfully.\u001b[0m\n",
            "\u001b[1;35mStarting ZenML Server as blocking process... press CTRL+C once to stop it.\u001b[0m\n"
          ]
        },
        {
          "output_type": "stream",
          "name": "stderr",
          "text": [
            "WARNING:pyngrok.process.ngrok:t=2024-11-16T22:52:58+0000 lvl=warn msg=\"failed to open private leg\" id=b2632d8c842b privaddr=localhost:8237 err=\"dial tcp 127.0.0.1:8237: connect: connection refused\"\n"
          ]
        },
        {
          "output_type": "stream",
          "name": "stdout",
          "text": [
            "\u001b[33mt=2024-11-16T22:52:58+0000 lvl=warn msg=\"failed to open private leg\" id=b2632d8c842b privaddr=localhost:8237 err=\"dial tcp 127.0.0.1:8237: connect: connection refused\"\u001b[0m\n"
          ]
        },
        {
          "output_type": "stream",
          "name": "stderr",
          "text": [
            "WARNING:pyngrok.process.ngrok:t=2024-11-16T22:52:58+0000 lvl=warn msg=\"failed to open private leg\" id=89cdea9c4732 privaddr=localhost:8237 err=\"dial tcp 127.0.0.1:8237: connect: connection refused\"\n"
          ]
        },
        {
          "output_type": "stream",
          "name": "stdout",
          "text": [
            "\u001b[33mt=2024-11-16T22:52:58+0000 lvl=warn msg=\"failed to open private leg\" id=89cdea9c4732 privaddr=localhost:8237 err=\"dial tcp 127.0.0.1:8237: connect: connection refused\"\u001b[0m\n"
          ]
        },
        {
          "output_type": "stream",
          "name": "stderr",
          "text": [
            "WARNING:pyngrok.process.ngrok:t=2024-11-16T22:53:02+0000 lvl=warn msg=\"failed to open private leg\" id=7f21a40bb08b privaddr=localhost:8237 err=\"dial tcp 127.0.0.1:8237: connect: connection refused\"\n"
          ]
        },
        {
          "output_type": "stream",
          "name": "stdout",
          "text": [
            "\u001b[33mt=2024-11-16T22:53:02+0000 lvl=warn msg=\"failed to open private leg\" id=7f21a40bb08b privaddr=localhost:8237 err=\"dial tcp 127.0.0.1:8237: connect: connection refused\"\u001b[0m\n"
          ]
        },
        {
          "output_type": "stream",
          "name": "stderr",
          "text": [
            "WARNING:pyngrok.process.ngrok:t=2024-11-16T22:53:03+0000 lvl=warn msg=\"failed to open private leg\" id=7e71143666f8 privaddr=localhost:8237 err=\"dial tcp 127.0.0.1:8237: connect: connection refused\"\n"
          ]
        },
        {
          "output_type": "stream",
          "name": "stdout",
          "text": [
            "\u001b[33mt=2024-11-16T22:53:03+0000 lvl=warn msg=\"failed to open private leg\" id=7e71143666f8 privaddr=localhost:8237 err=\"dial tcp 127.0.0.1:8237: connect: connection refused\"\u001b[0m\n",
            "\u001b[32mINFO\u001b[0m:     Started server process [\u001b[36m3787\u001b[0m]\n",
            "\u001b[32mINFO\u001b[0m:     Waiting for application startup.\n",
            "\u001b[1;35mNot writing the global configuration to disk in a ZenML server environment.\u001b[0m\n",
            "\u001b[1;35mNot writing the global configuration to disk in a ZenML server environment.\u001b[0m\n",
            "\u001b[32mINFO\u001b[0m:     Application startup complete.\n",
            "\u001b[32mINFO\u001b[0m:     Uvicorn running on \u001b[1mhttp://127.0.0.1:8237\u001b[0m (Press CTRL+C to quit)\n"
          ]
        },
        {
          "output_type": "stream",
          "name": "stderr",
          "text": [
            "INFO:pyngrok.process.ngrok:t=2024-11-16T22:53:07+0000 lvl=info msg=\"join connections\" obj=join id=34885ce38b7d l=127.0.0.1:8237 r=99.225.251.17:57096\n"
          ]
        },
        {
          "output_type": "stream",
          "name": "stdout",
          "text": [
            "\u001b[1;35mt=2024-11-16T22:53:07+0000 lvl=info msg=\"join connections\" obj=join id=34885ce38b7d l=127.0.0.1:8237 r=99.225.251.17:57096\u001b[0m\n"
          ]
        },
        {
          "output_type": "stream",
          "name": "stderr",
          "text": [
            "INFO:pyngrok.process.ngrok:t=2024-11-16T22:53:07+0000 lvl=info msg=\"join connections\" obj=join id=225e082fc3da l=127.0.0.1:8237 r=99.225.251.17:57096\n"
          ]
        },
        {
          "output_type": "stream",
          "name": "stdout",
          "text": [
            "\u001b[32mINFO\u001b[0m:     99.225.251.17:0 - \"\u001b[1mGET / HTTP/1.1\u001b[0m\" \u001b[32m200 OK\u001b[0m\n",
            "\u001b[32mINFO\u001b[0m:     99.225.251.17:0 - \"\u001b[1mGET /assets/index-Ci0nJ8EZ.js HTTP/1.1\u001b[0m\" \u001b[32m200 OK\u001b[0m\n",
            "\u001b[1;35mt=2024-11-16T22:53:07+0000 lvl=info msg=\"join connections\" obj=join id=225e082fc3da l=127.0.0.1:8237 r=99.225.251.17:57096\u001b[0m\n"
          ]
        },
        {
          "output_type": "stream",
          "name": "stderr",
          "text": [
            "INFO:pyngrok.process.ngrok:t=2024-11-16T22:53:07+0000 lvl=info msg=\"join connections\" obj=join id=0371560c0e88 l=127.0.0.1:8237 r=99.225.251.17:57096\n"
          ]
        },
        {
          "output_type": "stream",
          "name": "stdout",
          "text": [
            "\u001b[1;35mt=2024-11-16T22:53:07+0000 lvl=info msg=\"join connections\" obj=join id=0371560c0e88 l=127.0.0.1:8237 r=99.225.251.17:57096\u001b[0m\n"
          ]
        },
        {
          "output_type": "stream",
          "name": "stderr",
          "text": [
            "INFO:pyngrok.process.ngrok:t=2024-11-16T22:53:07+0000 lvl=info msg=\"join connections\" obj=join id=e9d48a4584ec l=127.0.0.1:8237 r=99.225.251.17:57096\n"
          ]
        },
        {
          "output_type": "stream",
          "name": "stdout",
          "text": [
            "\u001b[1;35mt=2024-11-16T22:53:07+0000 lvl=info msg=\"join connections\" obj=join id=e9d48a4584ec l=127.0.0.1:8237 r=99.225.251.17:57096\u001b[0m\n"
          ]
        },
        {
          "output_type": "stream",
          "name": "stderr",
          "text": [
            "INFO:pyngrok.process.ngrok:t=2024-11-16T22:53:07+0000 lvl=info msg=\"join connections\" obj=join id=23d176d5e5de l=127.0.0.1:8237 r=99.225.251.17:57096\n"
          ]
        },
        {
          "output_type": "stream",
          "name": "stdout",
          "text": [
            "\u001b[1;35mt=2024-11-16T22:53:07+0000 lvl=info msg=\"join connections\" obj=join id=23d176d5e5de l=127.0.0.1:8237 r=99.225.251.17:57096\u001b[0m\n"
          ]
        },
        {
          "output_type": "stream",
          "name": "stderr",
          "text": [
            "INFO:pyngrok.process.ngrok:t=2024-11-16T22:53:07+0000 lvl=info msg=\"join connections\" obj=join id=b768f954b302 l=127.0.0.1:8237 r=99.225.251.17:57096\n"
          ]
        },
        {
          "output_type": "stream",
          "name": "stdout",
          "text": [
            "\u001b[1;35mt=2024-11-16T22:53:07+0000 lvl=info msg=\"join connections\" obj=join id=b768f954b302 l=127.0.0.1:8237 r=99.225.251.17:57096\u001b[0m\n"
          ]
        },
        {
          "output_type": "stream",
          "name": "stderr",
          "text": [
            "INFO:pyngrok.process.ngrok:t=2024-11-16T22:53:07+0000 lvl=info msg=\"join connections\" obj=join id=a802bbfd2cd9 l=127.0.0.1:8237 r=99.225.251.17:57096\n"
          ]
        },
        {
          "output_type": "stream",
          "name": "stdout",
          "text": [
            "\u001b[1;35mt=2024-11-16T22:53:07+0000 lvl=info msg=\"join connections\" obj=join id=a802bbfd2cd9 l=127.0.0.1:8237 r=99.225.251.17:57096\u001b[0m\n"
          ]
        },
        {
          "output_type": "stream",
          "name": "stderr",
          "text": [
            "INFO:pyngrok.process.ngrok:t=2024-11-16T22:53:07+0000 lvl=info msg=\"join connections\" obj=join id=087883115df4 l=127.0.0.1:8237 r=99.225.251.17:57096\n"
          ]
        },
        {
          "output_type": "stream",
          "name": "stdout",
          "text": [
            "\u001b[1;35mt=2024-11-16T22:53:07+0000 lvl=info msg=\"join connections\" obj=join id=087883115df4 l=127.0.0.1:8237 r=99.225.251.17:57096\u001b[0m\n"
          ]
        },
        {
          "output_type": "stream",
          "name": "stderr",
          "text": [
            "INFO:pyngrok.process.ngrok:t=2024-11-16T22:53:07+0000 lvl=info msg=\"join connections\" obj=join id=461aa7c5170c l=127.0.0.1:8237 r=99.225.251.17:57096\n"
          ]
        },
        {
          "output_type": "stream",
          "name": "stdout",
          "text": [
            "\u001b[1;35mt=2024-11-16T22:53:07+0000 lvl=info msg=\"join connections\" obj=join id=461aa7c5170c l=127.0.0.1:8237 r=99.225.251.17:57096\u001b[0m\n"
          ]
        },
        {
          "output_type": "stream",
          "name": "stderr",
          "text": [
            "INFO:pyngrok.process.ngrok:t=2024-11-16T22:53:07+0000 lvl=info msg=\"join connections\" obj=join id=66bb13f09aa2 l=127.0.0.1:8237 r=99.225.251.17:57096\n"
          ]
        },
        {
          "output_type": "stream",
          "name": "stdout",
          "text": [
            "\u001b[1;35mt=2024-11-16T22:53:07+0000 lvl=info msg=\"join connections\" obj=join id=66bb13f09aa2 l=127.0.0.1:8237 r=99.225.251.17:57096\u001b[0m\n"
          ]
        },
        {
          "output_type": "stream",
          "name": "stderr",
          "text": [
            "INFO:pyngrok.process.ngrok:t=2024-11-16T22:53:07+0000 lvl=info msg=\"join connections\" obj=join id=d60827fa9e8f l=127.0.0.1:8237 r=99.225.251.17:57096\n"
          ]
        },
        {
          "output_type": "stream",
          "name": "stdout",
          "text": [
            "\u001b[32mINFO\u001b[0m:     99.225.251.17:0 - \"\u001b[1mGET /assets/%40react-router-APVeuk-U.js HTTP/1.1\u001b[0m\" \u001b[32m200 OK\u001b[0m\n",
            "\u001b[32mINFO\u001b[0m:     99.225.251.17:0 - \"\u001b[1mGET /assets/%40reactflow-ytavUpwh.js HTTP/1.1\u001b[0m\" \u001b[32m200 OK\u001b[0m\n",
            "\u001b[32mINFO\u001b[0m:     99.225.251.17:0 - \"\u001b[1mGET /assets/%40tanstack-QbMbTrh5.js HTTP/1.1\u001b[0m\" \u001b[32m200 OK\u001b[0m\n",
            "\u001b[32mINFO\u001b[0m:     99.225.251.17:0 - \"\u001b[1mGET /assets/%40radix-DnFH_oo1.js HTTP/1.1\u001b[0m\" \u001b[32m200 OK\u001b[0m\n",
            "\u001b[32mINFO\u001b[0m:     99.225.251.17:0 - \"\u001b[1mGET /assets/%40reactflow-C26Olbza.css HTTP/1.1\u001b[0m\" \u001b[32m200 OK\u001b[0m\n",
            "\u001b[1;35mt=2024-11-16T22:53:07+0000 lvl=info msg=\"join connections\" obj=join id=d60827fa9e8f l=127.0.0.1:8237 r=99.225.251.17:57096\u001b[0m\n"
          ]
        },
        {
          "output_type": "stream",
          "name": "stderr",
          "text": [
            "INFO:pyngrok.process.ngrok:t=2024-11-16T22:53:07+0000 lvl=info msg=\"join connections\" obj=join id=50ce6ce86aea l=127.0.0.1:8237 r=99.225.251.17:57096\n"
          ]
        },
        {
          "output_type": "stream",
          "name": "stdout",
          "text": [
            "\u001b[1;35mt=2024-11-16T22:53:07+0000 lvl=info msg=\"join connections\" obj=join id=50ce6ce86aea l=127.0.0.1:8237 r=99.225.251.17:57096\u001b[0m\n"
          ]
        },
        {
          "output_type": "stream",
          "name": "stderr",
          "text": [
            "INFO:pyngrok.process.ngrok:t=2024-11-16T22:53:07+0000 lvl=info msg=\"join connections\" obj=join id=bbeda713fd7b l=127.0.0.1:8237 r=99.225.251.17:57096\n"
          ]
        },
        {
          "output_type": "stream",
          "name": "stdout",
          "text": [
            "\u001b[1;35mt=2024-11-16T22:53:07+0000 lvl=info msg=\"join connections\" obj=join id=bbeda713fd7b l=127.0.0.1:8237 r=99.225.251.17:57096\u001b[0m\n"
          ]
        },
        {
          "output_type": "stream",
          "name": "stderr",
          "text": [
            "INFO:pyngrok.process.ngrok:t=2024-11-16T22:53:07+0000 lvl=info msg=\"join connections\" obj=join id=3dc1ef32096c l=127.0.0.1:8237 r=99.225.251.17:57096\n"
          ]
        },
        {
          "output_type": "stream",
          "name": "stdout",
          "text": [
            "\u001b[1;35mt=2024-11-16T22:53:07+0000 lvl=info msg=\"join connections\" obj=join id=3dc1ef32096c l=127.0.0.1:8237 r=99.225.251.17:57096\u001b[0m\n"
          ]
        },
        {
          "output_type": "stream",
          "name": "stderr",
          "text": [
            "INFO:pyngrok.process.ngrok:t=2024-11-16T22:53:07+0000 lvl=info msg=\"join connections\" obj=join id=80da23a29266 l=127.0.0.1:8237 r=99.225.251.17:57096\n"
          ]
        },
        {
          "output_type": "stream",
          "name": "stdout",
          "text": [
            "\u001b[1;35mt=2024-11-16T22:53:07+0000 lvl=info msg=\"join connections\" obj=join id=80da23a29266 l=127.0.0.1:8237 r=99.225.251.17:57096\u001b[0m\n"
          ]
        },
        {
          "output_type": "stream",
          "name": "stderr",
          "text": [
            "INFO:pyngrok.process.ngrok:t=2024-11-16T22:53:07+0000 lvl=info msg=\"join connections\" obj=join id=c0d90c91f688 l=127.0.0.1:8237 r=99.225.251.17:57096\n"
          ]
        },
        {
          "output_type": "stream",
          "name": "stdout",
          "text": [
            "\u001b[1;35mt=2024-11-16T22:53:07+0000 lvl=info msg=\"join connections\" obj=join id=c0d90c91f688 l=127.0.0.1:8237 r=99.225.251.17:57096\u001b[0m\n"
          ]
        },
        {
          "output_type": "stream",
          "name": "stderr",
          "text": [
            "INFO:pyngrok.process.ngrok:t=2024-11-16T22:53:07+0000 lvl=info msg=\"join connections\" obj=join id=6e839d0f9792 l=127.0.0.1:8237 r=99.225.251.17:57096\n"
          ]
        },
        {
          "output_type": "stream",
          "name": "stdout",
          "text": [
            "\u001b[1;35mt=2024-11-16T22:53:07+0000 lvl=info msg=\"join connections\" obj=join id=6e839d0f9792 l=127.0.0.1:8237 r=99.225.251.17:57096\u001b[0m\n"
          ]
        },
        {
          "output_type": "stream",
          "name": "stderr",
          "text": [
            "INFO:pyngrok.process.ngrok:t=2024-11-16T22:53:07+0000 lvl=info msg=\"join connections\" obj=join id=9023bf1839c8 l=127.0.0.1:8237 r=99.225.251.17:57096\n"
          ]
        },
        {
          "output_type": "stream",
          "name": "stdout",
          "text": [
            "\u001b[32mINFO\u001b[0m:     99.225.251.17:0 - \"\u001b[1mGET /assets/index-BhJ6ZJxv.css HTTP/1.1\u001b[0m\" \u001b[32m200 OK\u001b[0m\n",
            "\u001b[32mINFO\u001b[0m:     99.225.251.17:0 - \"\u001b[1mGET /assets/inter-cyrillic-ext-400-normal-tyfMZHQw.woff2 HTTP/1.1\u001b[0m\" \u001b[32m200 OK\u001b[0m\n",
            "\u001b[32mINFO\u001b[0m:     99.225.251.17:0 - \"\u001b[1mGET /assets/inter-cyrillic-400-normal-Df6ckaLK.woff2 HTTP/1.1\u001b[0m\" \u001b[32m200 OK\u001b[0m\n",
            "\u001b[1;35mt=2024-11-16T22:53:07+0000 lvl=info msg=\"join connections\" obj=join id=9023bf1839c8 l=127.0.0.1:8237 r=99.225.251.17:57096\u001b[0m\n"
          ]
        },
        {
          "output_type": "stream",
          "name": "stderr",
          "text": [
            "INFO:pyngrok.process.ngrok:t=2024-11-16T22:53:07+0000 lvl=info msg=\"join connections\" obj=join id=9f860eea22ee l=127.0.0.1:8237 r=99.225.251.17:57096\n"
          ]
        },
        {
          "output_type": "stream",
          "name": "stdout",
          "text": [
            "\u001b[1;35mt=2024-11-16T22:53:07+0000 lvl=info msg=\"join connections\" obj=join id=9f860eea22ee l=127.0.0.1:8237 r=99.225.251.17:57096\u001b[0m\n"
          ]
        },
        {
          "output_type": "stream",
          "name": "stderr",
          "text": [
            "INFO:pyngrok.process.ngrok:t=2024-11-16T22:53:07+0000 lvl=info msg=\"join connections\" obj=join id=fbadf2923817 l=127.0.0.1:8237 r=99.225.251.17:57096\n"
          ]
        },
        {
          "output_type": "stream",
          "name": "stdout",
          "text": [
            "\u001b[1;35mt=2024-11-16T22:53:07+0000 lvl=info msg=\"join connections\" obj=join id=fbadf2923817 l=127.0.0.1:8237 r=99.225.251.17:57096\u001b[0m\n"
          ]
        },
        {
          "output_type": "stream",
          "name": "stderr",
          "text": [
            "INFO:pyngrok.process.ngrok:t=2024-11-16T22:53:07+0000 lvl=info msg=\"join connections\" obj=join id=4967908981b8 l=127.0.0.1:8237 r=99.225.251.17:57096\n"
          ]
        },
        {
          "output_type": "stream",
          "name": "stdout",
          "text": [
            "\u001b[1;35mt=2024-11-16T22:53:07+0000 lvl=info msg=\"join connections\" obj=join id=4967908981b8 l=127.0.0.1:8237 r=99.225.251.17:57096\u001b[0m\n"
          ]
        },
        {
          "output_type": "stream",
          "name": "stderr",
          "text": [
            "INFO:pyngrok.process.ngrok:t=2024-11-16T22:53:07+0000 lvl=info msg=\"join connections\" obj=join id=01c4860e23af l=127.0.0.1:8237 r=99.225.251.17:57096\n"
          ]
        },
        {
          "output_type": "stream",
          "name": "stdout",
          "text": [
            "\u001b[1;35mt=2024-11-16T22:53:07+0000 lvl=info msg=\"join connections\" obj=join id=01c4860e23af l=127.0.0.1:8237 r=99.225.251.17:57096\u001b[0m\n"
          ]
        },
        {
          "output_type": "stream",
          "name": "stderr",
          "text": [
            "INFO:pyngrok.process.ngrok:t=2024-11-16T22:53:07+0000 lvl=info msg=\"join connections\" obj=join id=c9387d185785 l=127.0.0.1:8237 r=99.225.251.17:57096\n"
          ]
        },
        {
          "output_type": "stream",
          "name": "stdout",
          "text": [
            "\u001b[1;35mt=2024-11-16T22:53:07+0000 lvl=info msg=\"join connections\" obj=join id=c9387d185785 l=127.0.0.1:8237 r=99.225.251.17:57096\u001b[0m\n"
          ]
        },
        {
          "output_type": "stream",
          "name": "stderr",
          "text": [
            "INFO:pyngrok.process.ngrok:t=2024-11-16T22:53:07+0000 lvl=info msg=\"join connections\" obj=join id=9202ebc9edf2 l=127.0.0.1:8237 r=99.225.251.17:57096\n"
          ]
        },
        {
          "output_type": "stream",
          "name": "stdout",
          "text": [
            "\u001b[1;35mt=2024-11-16T22:53:07+0000 lvl=info msg=\"join connections\" obj=join id=9202ebc9edf2 l=127.0.0.1:8237 r=99.225.251.17:57096\u001b[0m\n"
          ]
        },
        {
          "output_type": "stream",
          "name": "stderr",
          "text": [
            "INFO:pyngrok.process.ngrok:t=2024-11-16T22:53:07+0000 lvl=info msg=\"join connections\" obj=join id=64aad4cac152 l=127.0.0.1:8237 r=99.225.251.17:57096\n"
          ]
        },
        {
          "output_type": "stream",
          "name": "stdout",
          "text": [
            "\u001b[1;35mt=2024-11-16T22:53:07+0000 lvl=info msg=\"join connections\" obj=join id=64aad4cac152 l=127.0.0.1:8237 r=99.225.251.17:57096\u001b[0m\n"
          ]
        },
        {
          "output_type": "stream",
          "name": "stderr",
          "text": [
            "INFO:pyngrok.process.ngrok:t=2024-11-16T22:53:07+0000 lvl=info msg=\"join connections\" obj=join id=324096d63989 l=127.0.0.1:8237 r=99.225.251.17:57096\n"
          ]
        },
        {
          "output_type": "stream",
          "name": "stdout",
          "text": [
            "\u001b[1;35mt=2024-11-16T22:53:07+0000 lvl=info msg=\"join connections\" obj=join id=324096d63989 l=127.0.0.1:8237 r=99.225.251.17:57096\u001b[0m\n"
          ]
        },
        {
          "output_type": "stream",
          "name": "stderr",
          "text": [
            "INFO:pyngrok.process.ngrok:t=2024-11-16T22:53:07+0000 lvl=info msg=\"join connections\" obj=join id=97db8a10bf41 l=127.0.0.1:8237 r=99.225.251.17:57096\n"
          ]
        },
        {
          "output_type": "stream",
          "name": "stdout",
          "text": [
            "\u001b[1;35mt=2024-11-16T22:53:07+0000 lvl=info msg=\"join connections\" obj=join id=97db8a10bf41 l=127.0.0.1:8237 r=99.225.251.17:57096\u001b[0m\n"
          ]
        },
        {
          "output_type": "stream",
          "name": "stderr",
          "text": [
            "INFO:pyngrok.process.ngrok:t=2024-11-16T22:53:07+0000 lvl=info msg=\"join connections\" obj=join id=fbd365efb763 l=127.0.0.1:8237 r=99.225.251.17:57096\n"
          ]
        },
        {
          "output_type": "stream",
          "name": "stdout",
          "text": [
            "\u001b[32mINFO\u001b[0m:     99.225.251.17:0 - \"\u001b[1mGET /assets/inter-latin-ext-400-normal-D3W-OpO-.woff2 HTTP/1.1\u001b[0m\" \u001b[32m200 OK\u001b[0m\n",
            "\u001b[32mINFO\u001b[0m:     99.225.251.17:0 - \"\u001b[1mGET /assets/inter-latin-400-normal-BT1H-PT_.woff2 HTTP/1.1\u001b[0m\" \u001b[32m200 OK\u001b[0m\n",
            "\u001b[32mINFO\u001b[0m:     99.225.251.17:0 - \"\u001b[1mGET /assets/inter-greek-ext-400-normal-CIdlr5YK.woff2 HTTP/1.1\u001b[0m\" \u001b[32m200 OK\u001b[0m\n",
            "\u001b[32mINFO\u001b[0m:     99.225.251.17:0 - \"\u001b[1mGET /assets/inter-greek-400-normal-DQXyrmoy.woff2 HTTP/1.1\u001b[0m\" \u001b[32m200 OK\u001b[0m\n",
            "\u001b[32mINFO\u001b[0m:     99.225.251.17:0 - \"\u001b[1mGET /assets/inter-vietnamese-400-normal-Cnt0N5Vm.woff2 HTTP/1.1\u001b[0m\" \u001b[32m200 OK\u001b[0m\n",
            "\u001b[32mINFO\u001b[0m:     99.225.251.17:0 - \"\u001b[1mGET /assets/inter-greek-500-normal-CmOavsDc.woff2 HTTP/1.1\u001b[0m\" \u001b[32m200 OK\u001b[0m\n",
            "\u001b[32mINFO\u001b[0m:     99.225.251.17:0 - \"\u001b[1mGET /assets/inter-cyrillic-500-normal-BRrLR67x.woff2 HTTP/1.1\u001b[0m\" \u001b[32m200 OK\u001b[0m\n",
            "\u001b[1;35mt=2024-11-16T22:53:07+0000 lvl=info msg=\"join connections\" obj=join id=fbd365efb763 l=127.0.0.1:8237 r=99.225.251.17:57096\u001b[0m\n"
          ]
        },
        {
          "output_type": "stream",
          "name": "stderr",
          "text": [
            "INFO:pyngrok.process.ngrok:t=2024-11-16T22:53:07+0000 lvl=info msg=\"join connections\" obj=join id=068007ebfea4 l=127.0.0.1:8237 r=99.225.251.17:57096\n"
          ]
        },
        {
          "output_type": "stream",
          "name": "stdout",
          "text": [
            "\u001b[1;35mt=2024-11-16T22:53:07+0000 lvl=info msg=\"join connections\" obj=join id=068007ebfea4 l=127.0.0.1:8237 r=99.225.251.17:57096\u001b[0m\n"
          ]
        },
        {
          "output_type": "stream",
          "name": "stderr",
          "text": [
            "INFO:pyngrok.process.ngrok:t=2024-11-16T22:53:07+0000 lvl=info msg=\"join connections\" obj=join id=c32a32ea07d0 l=127.0.0.1:8237 r=99.225.251.17:57096\n"
          ]
        },
        {
          "output_type": "stream",
          "name": "stdout",
          "text": [
            "\u001b[1;35mt=2024-11-16T22:53:07+0000 lvl=info msg=\"join connections\" obj=join id=c32a32ea07d0 l=127.0.0.1:8237 r=99.225.251.17:57096\u001b[0m\n"
          ]
        },
        {
          "output_type": "stream",
          "name": "stderr",
          "text": [
            "INFO:pyngrok.process.ngrok:t=2024-11-16T22:53:07+0000 lvl=info msg=\"join connections\" obj=join id=e2a741ee2124 l=127.0.0.1:8237 r=99.225.251.17:57096\n"
          ]
        },
        {
          "output_type": "stream",
          "name": "stdout",
          "text": [
            "\u001b[1;35mt=2024-11-16T22:53:07+0000 lvl=info msg=\"join connections\" obj=join id=e2a741ee2124 l=127.0.0.1:8237 r=99.225.251.17:57096\u001b[0m\n"
          ]
        },
        {
          "output_type": "stream",
          "name": "stderr",
          "text": [
            "INFO:pyngrok.process.ngrok:t=2024-11-16T22:53:07+0000 lvl=info msg=\"join connections\" obj=join id=a65bf94b6c99 l=127.0.0.1:8237 r=99.225.251.17:57096\n"
          ]
        },
        {
          "output_type": "stream",
          "name": "stdout",
          "text": [
            "\u001b[1;35mt=2024-11-16T22:53:07+0000 lvl=info msg=\"join connections\" obj=join id=a65bf94b6c99 l=127.0.0.1:8237 r=99.225.251.17:57096\u001b[0m\n"
          ]
        },
        {
          "output_type": "stream",
          "name": "stderr",
          "text": [
            "INFO:pyngrok.process.ngrok:t=2024-11-16T22:53:07+0000 lvl=info msg=\"join connections\" obj=join id=7daf0148d40b l=127.0.0.1:8237 r=99.225.251.17:57096\n"
          ]
        },
        {
          "output_type": "stream",
          "name": "stdout",
          "text": [
            "\u001b[1;35mt=2024-11-16T22:53:07+0000 lvl=info msg=\"join connections\" obj=join id=7daf0148d40b l=127.0.0.1:8237 r=99.225.251.17:57096\u001b[0m\n"
          ]
        },
        {
          "output_type": "stream",
          "name": "stderr",
          "text": [
            "INFO:pyngrok.process.ngrok:t=2024-11-16T22:53:07+0000 lvl=info msg=\"join connections\" obj=join id=ce5e24562336 l=127.0.0.1:8237 r=99.225.251.17:57096\n"
          ]
        },
        {
          "output_type": "stream",
          "name": "stdout",
          "text": [
            "\u001b[1;35mt=2024-11-16T22:53:07+0000 lvl=info msg=\"join connections\" obj=join id=ce5e24562336 l=127.0.0.1:8237 r=99.225.251.17:57096\u001b[0m\n"
          ]
        },
        {
          "output_type": "stream",
          "name": "stderr",
          "text": [
            "INFO:pyngrok.process.ngrok:t=2024-11-16T22:53:07+0000 lvl=info msg=\"join connections\" obj=join id=dbc71ab20cb4 l=127.0.0.1:8237 r=99.225.251.17:57096\n"
          ]
        },
        {
          "output_type": "stream",
          "name": "stdout",
          "text": [
            "\u001b[1;35mt=2024-11-16T22:53:07+0000 lvl=info msg=\"join connections\" obj=join id=dbc71ab20cb4 l=127.0.0.1:8237 r=99.225.251.17:57096\u001b[0m\n"
          ]
        },
        {
          "output_type": "stream",
          "name": "stderr",
          "text": [
            "INFO:pyngrok.process.ngrok:t=2024-11-16T22:53:07+0000 lvl=info msg=\"join connections\" obj=join id=99d3b58a4bc6 l=127.0.0.1:8237 r=99.225.251.17:57096\n"
          ]
        },
        {
          "output_type": "stream",
          "name": "stdout",
          "text": [
            "\u001b[1;35mt=2024-11-16T22:53:07+0000 lvl=info msg=\"join connections\" obj=join id=99d3b58a4bc6 l=127.0.0.1:8237 r=99.225.251.17:57096\u001b[0m\n"
          ]
        },
        {
          "output_type": "stream",
          "name": "stderr",
          "text": [
            "INFO:pyngrok.process.ngrok:t=2024-11-16T22:53:07+0000 lvl=info msg=\"join connections\" obj=join id=33539b7f4c09 l=127.0.0.1:8237 r=99.225.251.17:57096\n"
          ]
        },
        {
          "output_type": "stream",
          "name": "stdout",
          "text": [
            "\u001b[1;35mt=2024-11-16T22:53:07+0000 lvl=info msg=\"join connections\" obj=join id=33539b7f4c09 l=127.0.0.1:8237 r=99.225.251.17:57096\u001b[0m\n"
          ]
        },
        {
          "output_type": "stream",
          "name": "stderr",
          "text": [
            "INFO:pyngrok.process.ngrok:t=2024-11-16T22:53:07+0000 lvl=info msg=\"join connections\" obj=join id=2685dd47e264 l=127.0.0.1:8237 r=99.225.251.17:57096\n"
          ]
        },
        {
          "output_type": "stream",
          "name": "stdout",
          "text": [
            "\u001b[1;35mt=2024-11-16T22:53:07+0000 lvl=info msg=\"join connections\" obj=join id=2685dd47e264 l=127.0.0.1:8237 r=99.225.251.17:57096\u001b[0m\n"
          ]
        },
        {
          "output_type": "stream",
          "name": "stderr",
          "text": [
            "INFO:pyngrok.process.ngrok:t=2024-11-16T22:53:07+0000 lvl=info msg=\"join connections\" obj=join id=5cb5c7303cc5 l=127.0.0.1:8237 r=99.225.251.17:57096\n"
          ]
        },
        {
          "output_type": "stream",
          "name": "stdout",
          "text": [
            "\u001b[1;35mt=2024-11-16T22:53:07+0000 lvl=info msg=\"join connections\" obj=join id=5cb5c7303cc5 l=127.0.0.1:8237 r=99.225.251.17:57096\u001b[0m\n"
          ]
        },
        {
          "output_type": "stream",
          "name": "stderr",
          "text": [
            "INFO:pyngrok.process.ngrok:t=2024-11-16T22:53:07+0000 lvl=info msg=\"join connections\" obj=join id=ea9a998d70ff l=127.0.0.1:8237 r=99.225.251.17:57096\n"
          ]
        },
        {
          "output_type": "stream",
          "name": "stdout",
          "text": [
            "\u001b[1;35mt=2024-11-16T22:53:07+0000 lvl=info msg=\"join connections\" obj=join id=ea9a998d70ff l=127.0.0.1:8237 r=99.225.251.17:57096\u001b[0m\n"
          ]
        },
        {
          "output_type": "stream",
          "name": "stderr",
          "text": [
            "INFO:pyngrok.process.ngrok:t=2024-11-16T22:53:07+0000 lvl=info msg=\"join connections\" obj=join id=29b25fc0f4b6 l=127.0.0.1:8237 r=99.225.251.17:57096\n"
          ]
        },
        {
          "output_type": "stream",
          "name": "stdout",
          "text": [
            "\u001b[1;35mt=2024-11-16T22:53:07+0000 lvl=info msg=\"join connections\" obj=join id=29b25fc0f4b6 l=127.0.0.1:8237 r=99.225.251.17:57096\u001b[0m\n"
          ]
        },
        {
          "output_type": "stream",
          "name": "stderr",
          "text": [
            "INFO:pyngrok.process.ngrok:t=2024-11-16T22:53:07+0000 lvl=info msg=\"join connections\" obj=join id=9ddb8130a2ac l=127.0.0.1:8237 r=99.225.251.17:57096\n"
          ]
        },
        {
          "output_type": "stream",
          "name": "stdout",
          "text": [
            "\u001b[1;35mt=2024-11-16T22:53:07+0000 lvl=info msg=\"join connections\" obj=join id=9ddb8130a2ac l=127.0.0.1:8237 r=99.225.251.17:57096\u001b[0m\n"
          ]
        },
        {
          "output_type": "stream",
          "name": "stderr",
          "text": [
            "INFO:pyngrok.process.ngrok:t=2024-11-16T22:53:07+0000 lvl=info msg=\"join connections\" obj=join id=3d7987290d8d l=127.0.0.1:8237 r=99.225.251.17:57096\n"
          ]
        },
        {
          "output_type": "stream",
          "name": "stdout",
          "text": [
            "\u001b[32mINFO\u001b[0m:     99.225.251.17:0 - \"\u001b[1mGET /assets/inter-greek-ext-500-normal-2pdUafRD.woff2 HTTP/1.1\u001b[0m\" \u001b[32m200 OK\u001b[0m\n",
            "\u001b[32mINFO\u001b[0m:     99.225.251.17:0 - \"\u001b[1mGET /assets/inter-cyrillic-ext-500-normal-DOnSzjnx.woff2 HTTP/1.1\u001b[0m\" \u001b[32m200 OK\u001b[0m\n",
            "\u001b[32mINFO\u001b[0m:     99.225.251.17:0 - \"\u001b[1mGET /assets/inter-cyrillic-ext-600-normal-DpA2xaRd.woff2 HTTP/1.1\u001b[0m\" \u001b[32m200 OK\u001b[0m\n",
            "\u001b[32mINFO\u001b[0m:     99.225.251.17:0 - \"\u001b[1mGET /assets/inter-vietnamese-500-normal-5IkPJ6Nk.woff2 HTTP/1.1\u001b[0m\" \u001b[32m200 OK\u001b[0m\n",
            "\u001b[1;35mt=2024-11-16T22:53:07+0000 lvl=info msg=\"join connections\" obj=join id=3d7987290d8d l=127.0.0.1:8237 r=99.225.251.17:57096\u001b[0m\n"
          ]
        },
        {
          "output_type": "stream",
          "name": "stderr",
          "text": [
            "INFO:pyngrok.process.ngrok:t=2024-11-16T22:53:07+0000 lvl=info msg=\"join connections\" obj=join id=0bde4458a2bf l=127.0.0.1:8237 r=99.225.251.17:57096\n"
          ]
        },
        {
          "output_type": "stream",
          "name": "stdout",
          "text": [
            "\u001b[1;35mt=2024-11-16T22:53:07+0000 lvl=info msg=\"join connections\" obj=join id=0bde4458a2bf l=127.0.0.1:8237 r=99.225.251.17:57096\u001b[0m\n"
          ]
        },
        {
          "output_type": "stream",
          "name": "stderr",
          "text": [
            "INFO:pyngrok.process.ngrok:t=2024-11-16T22:53:07+0000 lvl=info msg=\"join connections\" obj=join id=f40fc0a29251 l=127.0.0.1:8237 r=99.225.251.17:57096\n"
          ]
        },
        {
          "output_type": "stream",
          "name": "stdout",
          "text": [
            "\u001b[1;35mt=2024-11-16T22:53:07+0000 lvl=info msg=\"join connections\" obj=join id=f40fc0a29251 l=127.0.0.1:8237 r=99.225.251.17:57096\u001b[0m\n"
          ]
        },
        {
          "output_type": "stream",
          "name": "stderr",
          "text": [
            "INFO:pyngrok.process.ngrok:t=2024-11-16T22:53:07+0000 lvl=info msg=\"join connections\" obj=join id=60cd5e172939 l=127.0.0.1:8237 r=99.225.251.17:57096\n"
          ]
        },
        {
          "output_type": "stream",
          "name": "stdout",
          "text": [
            "\u001b[1;35mt=2024-11-16T22:53:07+0000 lvl=info msg=\"join connections\" obj=join id=60cd5e172939 l=127.0.0.1:8237 r=99.225.251.17:57096\u001b[0m\n"
          ]
        },
        {
          "output_type": "stream",
          "name": "stderr",
          "text": [
            "INFO:pyngrok.process.ngrok:t=2024-11-16T22:53:07+0000 lvl=info msg=\"join connections\" obj=join id=244c33f8914b l=127.0.0.1:8237 r=99.225.251.17:57096\n"
          ]
        },
        {
          "output_type": "stream",
          "name": "stdout",
          "text": [
            "\u001b[1;35mt=2024-11-16T22:53:07+0000 lvl=info msg=\"join connections\" obj=join id=244c33f8914b l=127.0.0.1:8237 r=99.225.251.17:57096\u001b[0m\n"
          ]
        },
        {
          "output_type": "stream",
          "name": "stderr",
          "text": [
            "INFO:pyngrok.process.ngrok:t=2024-11-16T22:53:07+0000 lvl=info msg=\"join connections\" obj=join id=3e540c217d2d l=127.0.0.1:8237 r=99.225.251.17:57096\n"
          ]
        },
        {
          "output_type": "stream",
          "name": "stdout",
          "text": [
            "\u001b[1;35mt=2024-11-16T22:53:07+0000 lvl=info msg=\"join connections\" obj=join id=3e540c217d2d l=127.0.0.1:8237 r=99.225.251.17:57096\u001b[0m\n"
          ]
        },
        {
          "output_type": "stream",
          "name": "stderr",
          "text": [
            "INFO:pyngrok.process.ngrok:t=2024-11-16T22:53:07+0000 lvl=info msg=\"join connections\" obj=join id=fea49e45b424 l=127.0.0.1:8237 r=99.225.251.17:57096\n"
          ]
        },
        {
          "output_type": "stream",
          "name": "stdout",
          "text": [
            "\u001b[1;35mt=2024-11-16T22:53:07+0000 lvl=info msg=\"join connections\" obj=join id=fea49e45b424 l=127.0.0.1:8237 r=99.225.251.17:57096\u001b[0m\n"
          ]
        },
        {
          "output_type": "stream",
          "name": "stderr",
          "text": [
            "INFO:pyngrok.process.ngrok:t=2024-11-16T22:53:07+0000 lvl=info msg=\"join connections\" obj=join id=2558649a7c68 l=127.0.0.1:8237 r=99.225.251.17:57096\n"
          ]
        },
        {
          "output_type": "stream",
          "name": "stdout",
          "text": [
            "\u001b[1;35mt=2024-11-16T22:53:07+0000 lvl=info msg=\"join connections\" obj=join id=2558649a7c68 l=127.0.0.1:8237 r=99.225.251.17:57096\u001b[0m\n"
          ]
        },
        {
          "output_type": "stream",
          "name": "stderr",
          "text": [
            "INFO:pyngrok.process.ngrok:t=2024-11-16T22:53:07+0000 lvl=info msg=\"join connections\" obj=join id=a214840aabeb l=127.0.0.1:8237 r=99.225.251.17:57096\n"
          ]
        },
        {
          "output_type": "stream",
          "name": "stdout",
          "text": [
            "\u001b[1;35mt=2024-11-16T22:53:07+0000 lvl=info msg=\"join connections\" obj=join id=a214840aabeb l=127.0.0.1:8237 r=99.225.251.17:57096\u001b[0m\n"
          ]
        },
        {
          "output_type": "stream",
          "name": "stderr",
          "text": [
            "INFO:pyngrok.process.ngrok:t=2024-11-16T22:53:07+0000 lvl=info msg=\"join connections\" obj=join id=8ffe03b01e0b l=127.0.0.1:8237 r=99.225.251.17:57096\n"
          ]
        },
        {
          "output_type": "stream",
          "name": "stdout",
          "text": [
            "\u001b[1;35mt=2024-11-16T22:53:07+0000 lvl=info msg=\"join connections\" obj=join id=8ffe03b01e0b l=127.0.0.1:8237 r=99.225.251.17:57096\u001b[0m\n"
          ]
        },
        {
          "output_type": "stream",
          "name": "stderr",
          "text": [
            "INFO:pyngrok.process.ngrok:t=2024-11-16T22:53:07+0000 lvl=info msg=\"join connections\" obj=join id=d38be4b9853b l=127.0.0.1:8237 r=99.225.251.17:57096\n"
          ]
        },
        {
          "output_type": "stream",
          "name": "stdout",
          "text": [
            "\u001b[32mINFO\u001b[0m:     99.225.251.17:0 - \"\u001b[1mGET /assets/inter-cyrillic-600-normal-DDpWG8g5.woff2 HTTP/1.1\u001b[0m\" \u001b[32m200 OK\u001b[0m\n",
            "\u001b[32mINFO\u001b[0m:     99.225.251.17:0 - \"\u001b[1mGET /assets/inter-latin-500-normal-kWhwEdDH.woff2 HTTP/1.1\u001b[0m\" \u001b[32m200 OK\u001b[0m\n",
            "\u001b[32mINFO\u001b[0m:     99.225.251.17:0 - \"\u001b[1mGET /assets/inter-latin-ext-500-normal-B9u8Q_zH.woff2 HTTP/1.1\u001b[0m\" \u001b[32m200 OK\u001b[0m\n",
            "\u001b[32mINFO\u001b[0m:     99.225.251.17:0 - \"\u001b[1mGET /assets/inter-greek-ext-600-normal-CkBLDEl_.woff2 HTTP/1.1\u001b[0m\" \u001b[32m200 OK\u001b[0m\n",
            "\u001b[32mINFO\u001b[0m:     99.225.251.17:0 - \"\u001b[1mGET /assets/inter-greek-400-normal-DvIPHDQ7.woff HTTP/1.1\u001b[0m\" \u001b[32m200 OK\u001b[0m\n",
            "\u001b[32mINFO\u001b[0m:     99.225.251.17:0 - \"\u001b[1mGET /assets/inter-greek-600-normal-B-l8Lzzd.woff2 HTTP/1.1\u001b[0m\" \u001b[32m200 OK\u001b[0m\n",
            "\u001b[32mINFO\u001b[0m:     99.225.251.17:0 - \"\u001b[1mGET /assets/inter-latin-ext-600-normal-ao35dkSb.woff2 HTTP/1.1\u001b[0m\" \u001b[32m200 OK\u001b[0m\n",
            "\u001b[32mINFO\u001b[0m:     99.225.251.17:0 - \"\u001b[1mGET /assets/inter-vietnamese-600-normal-DjnxGF-L.woff2 HTTP/1.1\u001b[0m\" \u001b[32m200 OK\u001b[0m\n",
            "\u001b[1;35mt=2024-11-16T22:53:07+0000 lvl=info msg=\"join connections\" obj=join id=d38be4b9853b l=127.0.0.1:8237 r=99.225.251.17:57096\u001b[0m\n"
          ]
        },
        {
          "output_type": "stream",
          "name": "stderr",
          "text": [
            "INFO:pyngrok.process.ngrok:t=2024-11-16T22:53:07+0000 lvl=info msg=\"join connections\" obj=join id=f78601d415cd l=127.0.0.1:8237 r=99.225.251.17:57096\n"
          ]
        },
        {
          "output_type": "stream",
          "name": "stdout",
          "text": [
            "\u001b[1;35mt=2024-11-16T22:53:07+0000 lvl=info msg=\"join connections\" obj=join id=f78601d415cd l=127.0.0.1:8237 r=99.225.251.17:57096\u001b[0m\n"
          ]
        },
        {
          "output_type": "stream",
          "name": "stderr",
          "text": [
            "INFO:pyngrok.process.ngrok:t=2024-11-16T22:53:07+0000 lvl=info msg=\"join connections\" obj=join id=bf20680644bc l=127.0.0.1:8237 r=99.225.251.17:57096\n"
          ]
        },
        {
          "output_type": "stream",
          "name": "stdout",
          "text": [
            "\u001b[1;35mt=2024-11-16T22:53:07+0000 lvl=info msg=\"join connections\" obj=join id=bf20680644bc l=127.0.0.1:8237 r=99.225.251.17:57096\u001b[0m\n"
          ]
        },
        {
          "output_type": "stream",
          "name": "stderr",
          "text": [
            "INFO:pyngrok.process.ngrok:t=2024-11-16T22:53:07+0000 lvl=info msg=\"join connections\" obj=join id=7b1a2100031b l=127.0.0.1:8237 r=99.225.251.17:57096\n"
          ]
        },
        {
          "output_type": "stream",
          "name": "stdout",
          "text": [
            "\u001b[1;35mt=2024-11-16T22:53:07+0000 lvl=info msg=\"join connections\" obj=join id=7b1a2100031b l=127.0.0.1:8237 r=99.225.251.17:57096\u001b[0m\n"
          ]
        },
        {
          "output_type": "stream",
          "name": "stderr",
          "text": [
            "INFO:pyngrok.process.ngrok:t=2024-11-16T22:53:07+0000 lvl=info msg=\"join connections\" obj=join id=5f1493cfc868 l=127.0.0.1:8237 r=99.225.251.17:57096\n"
          ]
        },
        {
          "output_type": "stream",
          "name": "stdout",
          "text": [
            "\u001b[1;35mt=2024-11-16T22:53:07+0000 lvl=info msg=\"join connections\" obj=join id=5f1493cfc868 l=127.0.0.1:8237 r=99.225.251.17:57096\u001b[0m\n"
          ]
        },
        {
          "output_type": "stream",
          "name": "stderr",
          "text": [
            "INFO:pyngrok.process.ngrok:t=2024-11-16T22:53:07+0000 lvl=info msg=\"join connections\" obj=join id=d853d9c38556 l=127.0.0.1:8237 r=99.225.251.17:57096\n"
          ]
        },
        {
          "output_type": "stream",
          "name": "stdout",
          "text": [
            "\u001b[1;35mt=2024-11-16T22:53:07+0000 lvl=info msg=\"join connections\" obj=join id=d853d9c38556 l=127.0.0.1:8237 r=99.225.251.17:57096\u001b[0m\n"
          ]
        },
        {
          "output_type": "stream",
          "name": "stderr",
          "text": [
            "INFO:pyngrok.process.ngrok:t=2024-11-16T22:53:07+0000 lvl=info msg=\"join connections\" obj=join id=08328ec65802 l=127.0.0.1:8237 r=99.225.251.17:57096\n"
          ]
        },
        {
          "output_type": "stream",
          "name": "stdout",
          "text": [
            "\u001b[1;35mt=2024-11-16T22:53:07+0000 lvl=info msg=\"join connections\" obj=join id=08328ec65802 l=127.0.0.1:8237 r=99.225.251.17:57096\u001b[0m\n"
          ]
        },
        {
          "output_type": "stream",
          "name": "stderr",
          "text": [
            "INFO:pyngrok.process.ngrok:t=2024-11-16T22:53:07+0000 lvl=info msg=\"join connections\" obj=join id=c9c7d60f90b0 l=127.0.0.1:8237 r=99.225.251.17:57096\n"
          ]
        },
        {
          "output_type": "stream",
          "name": "stdout",
          "text": [
            "\u001b[1;35mt=2024-11-16T22:53:07+0000 lvl=info msg=\"join connections\" obj=join id=c9c7d60f90b0 l=127.0.0.1:8237 r=99.225.251.17:57096\u001b[0m\n"
          ]
        },
        {
          "output_type": "stream",
          "name": "stderr",
          "text": [
            "INFO:pyngrok.process.ngrok:t=2024-11-16T22:53:07+0000 lvl=info msg=\"join connections\" obj=join id=032c9b70270a l=127.0.0.1:8237 r=99.225.251.17:57096\n"
          ]
        },
        {
          "output_type": "stream",
          "name": "stdout",
          "text": [
            "\u001b[1;35mt=2024-11-16T22:53:07+0000 lvl=info msg=\"join connections\" obj=join id=032c9b70270a l=127.0.0.1:8237 r=99.225.251.17:57096\u001b[0m\n"
          ]
        },
        {
          "output_type": "stream",
          "name": "stderr",
          "text": [
            "INFO:pyngrok.process.ngrok:t=2024-11-16T22:53:07+0000 lvl=info msg=\"join connections\" obj=join id=83afc9acd5a9 l=127.0.0.1:8237 r=99.225.251.17:57096\n"
          ]
        },
        {
          "output_type": "stream",
          "name": "stdout",
          "text": [
            "\u001b[1;35mt=2024-11-16T22:53:07+0000 lvl=info msg=\"join connections\" obj=join id=83afc9acd5a9 l=127.0.0.1:8237 r=99.225.251.17:57096\u001b[0m\n"
          ]
        },
        {
          "output_type": "stream",
          "name": "stderr",
          "text": [
            "INFO:pyngrok.process.ngrok:t=2024-11-16T22:53:07+0000 lvl=info msg=\"join connections\" obj=join id=1d72aa45ce1b l=127.0.0.1:8237 r=99.225.251.17:57096\n"
          ]
        },
        {
          "output_type": "stream",
          "name": "stdout",
          "text": [
            "\u001b[1;35mt=2024-11-16T22:53:07+0000 lvl=info msg=\"join connections\" obj=join id=1d72aa45ce1b l=127.0.0.1:8237 r=99.225.251.17:57096\u001b[0m\n"
          ]
        },
        {
          "output_type": "stream",
          "name": "stderr",
          "text": [
            "INFO:pyngrok.process.ngrok:t=2024-11-16T22:53:07+0000 lvl=info msg=\"join connections\" obj=join id=3cb89679fdc8 l=127.0.0.1:8237 r=99.225.251.17:57096\n"
          ]
        },
        {
          "output_type": "stream",
          "name": "stdout",
          "text": [
            "\u001b[1;35mt=2024-11-16T22:53:07+0000 lvl=info msg=\"join connections\" obj=join id=3cb89679fdc8 l=127.0.0.1:8237 r=99.225.251.17:57096\u001b[0m\n"
          ]
        },
        {
          "output_type": "stream",
          "name": "stderr",
          "text": [
            "INFO:pyngrok.process.ngrok:t=2024-11-16T22:53:07+0000 lvl=info msg=\"join connections\" obj=join id=d3274f2d384d l=127.0.0.1:8237 r=99.225.251.17:57096\n"
          ]
        },
        {
          "output_type": "stream",
          "name": "stdout",
          "text": [
            "\u001b[1;35mt=2024-11-16T22:53:07+0000 lvl=info msg=\"join connections\" obj=join id=d3274f2d384d l=127.0.0.1:8237 r=99.225.251.17:57096\u001b[0m\n"
          ]
        },
        {
          "output_type": "stream",
          "name": "stderr",
          "text": [
            "INFO:pyngrok.process.ngrok:t=2024-11-16T22:53:07+0000 lvl=info msg=\"join connections\" obj=join id=ec41412b18d0 l=127.0.0.1:8237 r=99.225.251.17:57096\n"
          ]
        },
        {
          "output_type": "stream",
          "name": "stdout",
          "text": [
            "\u001b[1;35mt=2024-11-16T22:53:07+0000 lvl=info msg=\"join connections\" obj=join id=ec41412b18d0 l=127.0.0.1:8237 r=99.225.251.17:57096\u001b[0m\n"
          ]
        },
        {
          "output_type": "stream",
          "name": "stderr",
          "text": [
            "INFO:pyngrok.process.ngrok:t=2024-11-16T22:53:07+0000 lvl=info msg=\"join connections\" obj=join id=54df1e55840e l=127.0.0.1:8237 r=99.225.251.17:57096\n"
          ]
        },
        {
          "output_type": "stream",
          "name": "stdout",
          "text": [
            "\u001b[32mINFO\u001b[0m:     99.225.251.17:0 - \"\u001b[1mGET /assets/inter-latin-600-normal-B2Ssfs8e.woff2 HTTP/1.1\u001b[0m\" \u001b[32m200 OK\u001b[0m\n",
            "\u001b[32mINFO\u001b[0m:     99.225.251.17:0 - \"\u001b[1mGET /assets/inter-vietnamese-400-normal-DIOGfGLL.woff HTTP/1.1\u001b[0m\" \u001b[32m200 OK\u001b[0m\n",
            "\u001b[32mINFO\u001b[0m:     99.225.251.17:0 - \"\u001b[1mGET /assets/page-HkVBdZl6.js HTTP/1.1\u001b[0m\" \u001b[32m200 OK\u001b[0m\n",
            "\u001b[32mINFO\u001b[0m:     99.225.251.17:0 - \"\u001b[1mGET /assets/inter-cyrillic-ext-400-normal-CzG7Kr3z.woff HTTP/1.1\u001b[0m\" \u001b[32m200 OK\u001b[0m\n",
            "\u001b[32mINFO\u001b[0m:     99.225.251.17:0 - \"\u001b[1mGET /assets/inter-cyrillic-400-normal-JrS_4yms.woff HTTP/1.1\u001b[0m\" \u001b[32m200 OK\u001b[0m\n",
            "\u001b[32mINFO\u001b[0m:     99.225.251.17:0 - \"\u001b[1mGET /assets/inter-latin-ext-400-normal-8tIzm-yw.woff HTTP/1.1\u001b[0m\" \u001b[32m200 OK\u001b[0m\n",
            "\u001b[32mINFO\u001b[0m:     99.225.251.17:0 - \"\u001b[1mGET /assets/inter-greek-ext-400-normal-_Rr29XE2.woff HTTP/1.1\u001b[0m\" \u001b[32m200 OK\u001b[0m\n",
            "\u001b[32mINFO\u001b[0m:     99.225.251.17:0 - \"\u001b[1mGET /assets/inter-latin-400-normal-Cdi8t5Mu.woff HTTP/1.1\u001b[0m\" \u001b[32m200 OK\u001b[0m\n",
            "\u001b[1;35mt=2024-11-16T22:53:07+0000 lvl=info msg=\"join connections\" obj=join id=54df1e55840e l=127.0.0.1:8237 r=99.225.251.17:57096\u001b[0m\n"
          ]
        },
        {
          "output_type": "stream",
          "name": "stderr",
          "text": [
            "INFO:pyngrok.process.ngrok:t=2024-11-16T22:53:07+0000 lvl=info msg=\"join connections\" obj=join id=84adce258cf8 l=127.0.0.1:8237 r=99.225.251.17:57096\n"
          ]
        },
        {
          "output_type": "stream",
          "name": "stdout",
          "text": [
            "\u001b[1;35mt=2024-11-16T22:53:07+0000 lvl=info msg=\"join connections\" obj=join id=84adce258cf8 l=127.0.0.1:8237 r=99.225.251.17:57096\u001b[0m\n"
          ]
        },
        {
          "output_type": "stream",
          "name": "stderr",
          "text": [
            "INFO:pyngrok.process.ngrok:t=2024-11-16T22:53:07+0000 lvl=info msg=\"join connections\" obj=join id=8317a593ffd9 l=127.0.0.1:8237 r=99.225.251.17:57096\n"
          ]
        },
        {
          "output_type": "stream",
          "name": "stdout",
          "text": [
            "\u001b[1;35mt=2024-11-16T22:53:07+0000 lvl=info msg=\"join connections\" obj=join id=8317a593ffd9 l=127.0.0.1:8237 r=99.225.251.17:57096\u001b[0m\n"
          ]
        },
        {
          "output_type": "stream",
          "name": "stderr",
          "text": [
            "INFO:pyngrok.process.ngrok:t=2024-11-16T22:53:07+0000 lvl=info msg=\"join connections\" obj=join id=d8221f09aff6 l=127.0.0.1:8237 r=99.225.251.17:57096\n"
          ]
        },
        {
          "output_type": "stream",
          "name": "stdout",
          "text": [
            "\u001b[1;35mt=2024-11-16T22:53:07+0000 lvl=info msg=\"join connections\" obj=join id=d8221f09aff6 l=127.0.0.1:8237 r=99.225.251.17:57096\u001b[0m\n"
          ]
        },
        {
          "output_type": "stream",
          "name": "stderr",
          "text": [
            "INFO:pyngrok.process.ngrok:t=2024-11-16T22:53:07+0000 lvl=info msg=\"join connections\" obj=join id=d41085a156f3 l=127.0.0.1:8237 r=99.225.251.17:57096\n"
          ]
        },
        {
          "output_type": "stream",
          "name": "stdout",
          "text": [
            "\u001b[1;35mt=2024-11-16T22:53:07+0000 lvl=info msg=\"join connections\" obj=join id=d41085a156f3 l=127.0.0.1:8237 r=99.225.251.17:57096\u001b[0m\n"
          ]
        },
        {
          "output_type": "stream",
          "name": "stderr",
          "text": [
            "INFO:pyngrok.process.ngrok:t=2024-11-16T22:53:07+0000 lvl=info msg=\"join connections\" obj=join id=20894303e2e2 l=127.0.0.1:8237 r=99.225.251.17:57096\n"
          ]
        },
        {
          "output_type": "stream",
          "name": "stdout",
          "text": [
            "\u001b[1;35mt=2024-11-16T22:53:07+0000 lvl=info msg=\"join connections\" obj=join id=20894303e2e2 l=127.0.0.1:8237 r=99.225.251.17:57096\u001b[0m\n"
          ]
        },
        {
          "output_type": "stream",
          "name": "stderr",
          "text": [
            "INFO:pyngrok.process.ngrok:t=2024-11-16T22:53:07+0000 lvl=info msg=\"join connections\" obj=join id=596724ecd25a l=127.0.0.1:8237 r=99.225.251.17:57096\n"
          ]
        },
        {
          "output_type": "stream",
          "name": "stdout",
          "text": [
            "\u001b[1;35mt=2024-11-16T22:53:07+0000 lvl=info msg=\"join connections\" obj=join id=596724ecd25a l=127.0.0.1:8237 r=99.225.251.17:57096\u001b[0m\n"
          ]
        },
        {
          "output_type": "stream",
          "name": "stderr",
          "text": [
            "INFO:pyngrok.process.ngrok:t=2024-11-16T22:53:07+0000 lvl=info msg=\"join connections\" obj=join id=79189288de79 l=127.0.0.1:8237 r=99.225.251.17:57096\n"
          ]
        },
        {
          "output_type": "stream",
          "name": "stdout",
          "text": [
            "\u001b[1;35mt=2024-11-16T22:53:07+0000 lvl=info msg=\"join connections\" obj=join id=79189288de79 l=127.0.0.1:8237 r=99.225.251.17:57096\u001b[0m\n"
          ]
        },
        {
          "output_type": "stream",
          "name": "stderr",
          "text": [
            "INFO:pyngrok.process.ngrok:t=2024-11-16T22:53:07+0000 lvl=info msg=\"join connections\" obj=join id=4b442bf5e0eb l=127.0.0.1:8237 r=99.225.251.17:57096\n"
          ]
        },
        {
          "output_type": "stream",
          "name": "stdout",
          "text": [
            "\u001b[1;35mt=2024-11-16T22:53:07+0000 lvl=info msg=\"join connections\" obj=join id=4b442bf5e0eb l=127.0.0.1:8237 r=99.225.251.17:57096\u001b[0m\n"
          ]
        },
        {
          "output_type": "stream",
          "name": "stderr",
          "text": [
            "INFO:pyngrok.process.ngrok:t=2024-11-16T22:53:07+0000 lvl=info msg=\"join connections\" obj=join id=6efbc30ead61 l=127.0.0.1:8237 r=99.225.251.17:57096\n"
          ]
        },
        {
          "output_type": "stream",
          "name": "stdout",
          "text": [
            "\u001b[1;35mt=2024-11-16T22:53:07+0000 lvl=info msg=\"join connections\" obj=join id=6efbc30ead61 l=127.0.0.1:8237 r=99.225.251.17:57096\u001b[0m\n"
          ]
        },
        {
          "output_type": "stream",
          "name": "stderr",
          "text": [
            "INFO:pyngrok.process.ngrok:t=2024-11-16T22:53:07+0000 lvl=info msg=\"join connections\" obj=join id=b9e22ef8f7ff l=127.0.0.1:8237 r=99.225.251.17:57096\n"
          ]
        },
        {
          "output_type": "stream",
          "name": "stdout",
          "text": [
            "\u001b[1;35mt=2024-11-16T22:53:07+0000 lvl=info msg=\"join connections\" obj=join id=b9e22ef8f7ff l=127.0.0.1:8237 r=99.225.251.17:57096\u001b[0m\n"
          ]
        },
        {
          "output_type": "stream",
          "name": "stderr",
          "text": [
            "INFO:pyngrok.process.ngrok:t=2024-11-16T22:53:07+0000 lvl=info msg=\"join connections\" obj=join id=aefd4a154fcd l=127.0.0.1:8237 r=99.225.251.17:57096\n"
          ]
        },
        {
          "output_type": "stream",
          "name": "stdout",
          "text": [
            "\u001b[1;35mt=2024-11-16T22:53:07+0000 lvl=info msg=\"join connections\" obj=join id=aefd4a154fcd l=127.0.0.1:8237 r=99.225.251.17:57096\u001b[0m\n"
          ]
        },
        {
          "output_type": "stream",
          "name": "stderr",
          "text": [
            "INFO:pyngrok.process.ngrok:t=2024-11-16T22:53:07+0000 lvl=info msg=\"join connections\" obj=join id=65c8c703d43f l=127.0.0.1:8237 r=99.225.251.17:57096\n"
          ]
        },
        {
          "output_type": "stream",
          "name": "stdout",
          "text": [
            "\u001b[1;35mt=2024-11-16T22:53:07+0000 lvl=info msg=\"join connections\" obj=join id=65c8c703d43f l=127.0.0.1:8237 r=99.225.251.17:57096\u001b[0m\n"
          ]
        },
        {
          "output_type": "stream",
          "name": "stderr",
          "text": [
            "INFO:pyngrok.process.ngrok:t=2024-11-16T22:53:07+0000 lvl=info msg=\"join connections\" obj=join id=d9df52e05ea5 l=127.0.0.1:8237 r=99.225.251.17:57096\n"
          ]
        },
        {
          "output_type": "stream",
          "name": "stdout",
          "text": [
            "\u001b[1;35mt=2024-11-16T22:53:07+0000 lvl=info msg=\"join connections\" obj=join id=d9df52e05ea5 l=127.0.0.1:8237 r=99.225.251.17:57096\u001b[0m\n"
          ]
        },
        {
          "output_type": "stream",
          "name": "stderr",
          "text": [
            "INFO:pyngrok.process.ngrok:t=2024-11-16T22:53:07+0000 lvl=info msg=\"join connections\" obj=join id=b97d0e15975d l=127.0.0.1:8237 r=99.225.251.17:57096\n"
          ]
        },
        {
          "output_type": "stream",
          "name": "stdout",
          "text": [
            "\u001b[1;35mt=2024-11-16T22:53:07+0000 lvl=info msg=\"join connections\" obj=join id=b97d0e15975d l=127.0.0.1:8237 r=99.225.251.17:57096\u001b[0m\n"
          ]
        },
        {
          "output_type": "stream",
          "name": "stderr",
          "text": [
            "INFO:pyngrok.process.ngrok:t=2024-11-16T22:53:07+0000 lvl=info msg=\"join connections\" obj=join id=2860d6095e8c l=127.0.0.1:8237 r=99.225.251.17:57096\n"
          ]
        },
        {
          "output_type": "stream",
          "name": "stdout",
          "text": [
            "\u001b[1;35mt=2024-11-16T22:53:07+0000 lvl=info msg=\"join connections\" obj=join id=2860d6095e8c l=127.0.0.1:8237 r=99.225.251.17:57096\u001b[0m\n"
          ]
        },
        {
          "output_type": "stream",
          "name": "stderr",
          "text": [
            "INFO:pyngrok.process.ngrok:t=2024-11-16T22:53:07+0000 lvl=info msg=\"join connections\" obj=join id=b0001149642d l=127.0.0.1:8237 r=99.225.251.17:57096\n"
          ]
        },
        {
          "output_type": "stream",
          "name": "stdout",
          "text": [
            "\u001b[1;35mt=2024-11-16T22:53:07+0000 lvl=info msg=\"join connections\" obj=join id=b0001149642d l=127.0.0.1:8237 r=99.225.251.17:57096\u001b[0m\n"
          ]
        },
        {
          "output_type": "stream",
          "name": "stderr",
          "text": [
            "INFO:pyngrok.process.ngrok:t=2024-11-16T22:53:07+0000 lvl=info msg=\"join connections\" obj=join id=9ab96ac9d081 l=127.0.0.1:8237 r=99.225.251.17:57096\n"
          ]
        },
        {
          "output_type": "stream",
          "name": "stdout",
          "text": [
            "\u001b[1;35mt=2024-11-16T22:53:07+0000 lvl=info msg=\"join connections\" obj=join id=9ab96ac9d081 l=127.0.0.1:8237 r=99.225.251.17:57096\u001b[0m\n"
          ]
        },
        {
          "output_type": "stream",
          "name": "stderr",
          "text": [
            "INFO:pyngrok.process.ngrok:t=2024-11-16T22:53:07+0000 lvl=info msg=\"join connections\" obj=join id=8ea01bb2a6e1 l=127.0.0.1:8237 r=99.225.251.17:57096\n"
          ]
        },
        {
          "output_type": "stream",
          "name": "stdout",
          "text": [
            "\u001b[1;35mt=2024-11-16T22:53:07+0000 lvl=info msg=\"join connections\" obj=join id=8ea01bb2a6e1 l=127.0.0.1:8237 r=99.225.251.17:57096\u001b[0m\n"
          ]
        },
        {
          "output_type": "stream",
          "name": "stderr",
          "text": [
            "INFO:pyngrok.process.ngrok:t=2024-11-16T22:53:07+0000 lvl=info msg=\"join connections\" obj=join id=a1bf7ca83c02 l=127.0.0.1:8237 r=99.225.251.17:57096\n"
          ]
        },
        {
          "output_type": "stream",
          "name": "stdout",
          "text": [
            "\u001b[1;35mt=2024-11-16T22:53:07+0000 lvl=info msg=\"join connections\" obj=join id=a1bf7ca83c02 l=127.0.0.1:8237 r=99.225.251.17:57096\u001b[0m\n"
          ]
        },
        {
          "output_type": "stream",
          "name": "stderr",
          "text": [
            "INFO:pyngrok.process.ngrok:t=2024-11-16T22:53:07+0000 lvl=info msg=\"join connections\" obj=join id=f8e7142021e4 l=127.0.0.1:8237 r=99.225.251.17:57096\n"
          ]
        },
        {
          "output_type": "stream",
          "name": "stdout",
          "text": [
            "\u001b[1;35mt=2024-11-16T22:53:07+0000 lvl=info msg=\"join connections\" obj=join id=f8e7142021e4 l=127.0.0.1:8237 r=99.225.251.17:57096\u001b[0m\n"
          ]
        },
        {
          "output_type": "stream",
          "name": "stderr",
          "text": [
            "INFO:pyngrok.process.ngrok:t=2024-11-16T22:53:07+0000 lvl=info msg=\"join connections\" obj=join id=6445ff5c9072 l=127.0.0.1:8237 r=99.225.251.17:57096\n"
          ]
        },
        {
          "output_type": "stream",
          "name": "stdout",
          "text": [
            "\u001b[32mINFO\u001b[0m:     99.225.251.17:0 - \"\u001b[1mGET /assets/inter-greek-ext-500-normal-Dtavx3qw.woff HTTP/1.1\u001b[0m\" \u001b[32m200 OK\u001b[0m\n",
            "\u001b[32mINFO\u001b[0m:     99.225.251.17:0 - \"\u001b[1mGET /assets/inter-cyrillic-ext-500-normal-Xebo2OyJ.woff HTTP/1.1\u001b[0m\" \u001b[32m200 OK\u001b[0m\n",
            "\u001b[32mINFO\u001b[0m:     99.225.251.17:0 - \"\u001b[1mGET /assets/inter-cyrillic-500-normal-DskEQOpE.woff HTTP/1.1\u001b[0m\" \u001b[32m200 OK\u001b[0m\n",
            "\u001b[32mINFO\u001b[0m:     99.225.251.17:0 - \"\u001b[1mGET /assets/inter-latin-500-normal-D4I8BKCx.woff HTTP/1.1\u001b[0m\" \u001b[32m200 OK\u001b[0m\n",
            "\u001b[1;35mt=2024-11-16T22:53:07+0000 lvl=info msg=\"join connections\" obj=join id=6445ff5c9072 l=127.0.0.1:8237 r=99.225.251.17:57096\u001b[0m\n"
          ]
        },
        {
          "output_type": "stream",
          "name": "stderr",
          "text": [
            "INFO:pyngrok.process.ngrok:t=2024-11-16T22:53:07+0000 lvl=info msg=\"join connections\" obj=join id=e30f3143e0f9 l=127.0.0.1:8237 r=99.225.251.17:57096\n"
          ]
        },
        {
          "output_type": "stream",
          "name": "stdout",
          "text": [
            "\u001b[1;35mt=2024-11-16T22:53:07+0000 lvl=info msg=\"join connections\" obj=join id=e30f3143e0f9 l=127.0.0.1:8237 r=99.225.251.17:57096\u001b[0m\n"
          ]
        },
        {
          "output_type": "stream",
          "name": "stderr",
          "text": [
            "INFO:pyngrok.process.ngrok:t=2024-11-16T22:53:07+0000 lvl=info msg=\"join connections\" obj=join id=aa45afe72dd2 l=127.0.0.1:8237 r=99.225.251.17:57096\n"
          ]
        },
        {
          "output_type": "stream",
          "name": "stdout",
          "text": [
            "\u001b[1;35mt=2024-11-16T22:53:07+0000 lvl=info msg=\"join connections\" obj=join id=aa45afe72dd2 l=127.0.0.1:8237 r=99.225.251.17:57096\u001b[0m\n"
          ]
        },
        {
          "output_type": "stream",
          "name": "stderr",
          "text": [
            "INFO:pyngrok.process.ngrok:t=2024-11-16T22:53:07+0000 lvl=info msg=\"join connections\" obj=join id=a918c29991c7 l=127.0.0.1:8237 r=99.225.251.17:57096\n"
          ]
        },
        {
          "output_type": "stream",
          "name": "stdout",
          "text": [
            "\u001b[1;35mt=2024-11-16T22:53:07+0000 lvl=info msg=\"join connections\" obj=join id=a918c29991c7 l=127.0.0.1:8237 r=99.225.251.17:57096\u001b[0m\n"
          ]
        },
        {
          "output_type": "stream",
          "name": "stderr",
          "text": [
            "INFO:pyngrok.process.ngrok:t=2024-11-16T22:53:07+0000 lvl=info msg=\"join connections\" obj=join id=a80a945017b3 l=127.0.0.1:8237 r=99.225.251.17:57096\n"
          ]
        },
        {
          "output_type": "stream",
          "name": "stdout",
          "text": [
            "\u001b[1;35mt=2024-11-16T22:53:07+0000 lvl=info msg=\"join connections\" obj=join id=a80a945017b3 l=127.0.0.1:8237 r=99.225.251.17:57096\u001b[0m\n"
          ]
        },
        {
          "output_type": "stream",
          "name": "stderr",
          "text": [
            "INFO:pyngrok.process.ngrok:t=2024-11-16T22:53:07+0000 lvl=info msg=\"join connections\" obj=join id=053306ae801c l=127.0.0.1:8237 r=99.225.251.17:57096\n"
          ]
        },
        {
          "output_type": "stream",
          "name": "stdout",
          "text": [
            "\u001b[1;35mt=2024-11-16T22:53:07+0000 lvl=info msg=\"join connections\" obj=join id=053306ae801c l=127.0.0.1:8237 r=99.225.251.17:57096\u001b[0m\n"
          ]
        },
        {
          "output_type": "stream",
          "name": "stderr",
          "text": [
            "INFO:pyngrok.process.ngrok:t=2024-11-16T22:53:07+0000 lvl=info msg=\"join connections\" obj=join id=93fba21b45a5 l=127.0.0.1:8237 r=99.225.251.17:57096\n"
          ]
        },
        {
          "output_type": "stream",
          "name": "stdout",
          "text": [
            "\u001b[1;35mt=2024-11-16T22:53:07+0000 lvl=info msg=\"join connections\" obj=join id=93fba21b45a5 l=127.0.0.1:8237 r=99.225.251.17:57096\u001b[0m\n"
          ]
        },
        {
          "output_type": "stream",
          "name": "stderr",
          "text": [
            "INFO:pyngrok.process.ngrok:t=2024-11-16T22:53:07+0000 lvl=info msg=\"join connections\" obj=join id=a9dbd54519c5 l=127.0.0.1:8237 r=99.225.251.17:57096\n"
          ]
        },
        {
          "output_type": "stream",
          "name": "stdout",
          "text": [
            "\u001b[1;35mt=2024-11-16T22:53:07+0000 lvl=info msg=\"join connections\" obj=join id=a9dbd54519c5 l=127.0.0.1:8237 r=99.225.251.17:57096\u001b[0m\n"
          ]
        },
        {
          "output_type": "stream",
          "name": "stderr",
          "text": [
            "INFO:pyngrok.process.ngrok:t=2024-11-16T22:53:07+0000 lvl=info msg=\"join connections\" obj=join id=481af3117754 l=127.0.0.1:8237 r=99.225.251.17:57096\n"
          ]
        },
        {
          "output_type": "stream",
          "name": "stdout",
          "text": [
            "\u001b[1;35mt=2024-11-16T22:53:07+0000 lvl=info msg=\"join connections\" obj=join id=481af3117754 l=127.0.0.1:8237 r=99.225.251.17:57096\u001b[0m\n"
          ]
        },
        {
          "output_type": "stream",
          "name": "stderr",
          "text": [
            "INFO:pyngrok.process.ngrok:t=2024-11-16T22:53:07+0000 lvl=info msg=\"join connections\" obj=join id=1afa91754c43 l=127.0.0.1:8237 r=99.225.251.17:57096\n"
          ]
        },
        {
          "output_type": "stream",
          "name": "stdout",
          "text": [
            "\u001b[1;35mt=2024-11-16T22:53:07+0000 lvl=info msg=\"join connections\" obj=join id=1afa91754c43 l=127.0.0.1:8237 r=99.225.251.17:57096\u001b[0m\n"
          ]
        },
        {
          "output_type": "stream",
          "name": "stderr",
          "text": [
            "INFO:pyngrok.process.ngrok:t=2024-11-16T22:53:07+0000 lvl=info msg=\"join connections\" obj=join id=3e287990552d l=127.0.0.1:8237 r=99.225.251.17:57096\n"
          ]
        },
        {
          "output_type": "stream",
          "name": "stdout",
          "text": [
            "\u001b[1;35mt=2024-11-16T22:53:07+0000 lvl=info msg=\"join connections\" obj=join id=3e287990552d l=127.0.0.1:8237 r=99.225.251.17:57096\u001b[0m\n"
          ]
        },
        {
          "output_type": "stream",
          "name": "stderr",
          "text": [
            "INFO:pyngrok.process.ngrok:t=2024-11-16T22:53:07+0000 lvl=info msg=\"join connections\" obj=join id=997c095b178b l=127.0.0.1:8237 r=99.225.251.17:57096\n"
          ]
        },
        {
          "output_type": "stream",
          "name": "stdout",
          "text": [
            "\u001b[1;35mt=2024-11-16T22:53:07+0000 lvl=info msg=\"join connections\" obj=join id=997c095b178b l=127.0.0.1:8237 r=99.225.251.17:57096\u001b[0m\n"
          ]
        },
        {
          "output_type": "stream",
          "name": "stderr",
          "text": [
            "INFO:pyngrok.process.ngrok:t=2024-11-16T22:53:07+0000 lvl=info msg=\"join connections\" obj=join id=5a64c98a91b6 l=127.0.0.1:8237 r=99.225.251.17:57096\n"
          ]
        },
        {
          "output_type": "stream",
          "name": "stdout",
          "text": [
            "\u001b[1;35mt=2024-11-16T22:53:07+0000 lvl=info msg=\"join connections\" obj=join id=5a64c98a91b6 l=127.0.0.1:8237 r=99.225.251.17:57096\u001b[0m\n"
          ]
        },
        {
          "output_type": "stream",
          "name": "stderr",
          "text": [
            "INFO:pyngrok.process.ngrok:t=2024-11-16T22:53:07+0000 lvl=info msg=\"join connections\" obj=join id=95a5d3326d42 l=127.0.0.1:8237 r=99.225.251.17:57096\n"
          ]
        },
        {
          "output_type": "stream",
          "name": "stdout",
          "text": [
            "\u001b[1;35mt=2024-11-16T22:53:07+0000 lvl=info msg=\"join connections\" obj=join id=95a5d3326d42 l=127.0.0.1:8237 r=99.225.251.17:57096\u001b[0m\n"
          ]
        },
        {
          "output_type": "stream",
          "name": "stderr",
          "text": [
            "INFO:pyngrok.process.ngrok:t=2024-11-16T22:53:07+0000 lvl=info msg=\"join connections\" obj=join id=8fac78392b30 l=127.0.0.1:8237 r=99.225.251.17:57096\n"
          ]
        },
        {
          "output_type": "stream",
          "name": "stdout",
          "text": [
            "\u001b[1;35mt=2024-11-16T22:53:07+0000 lvl=info msg=\"join connections\" obj=join id=8fac78392b30 l=127.0.0.1:8237 r=99.225.251.17:57096\u001b[0m\n"
          ]
        },
        {
          "output_type": "stream",
          "name": "stderr",
          "text": [
            "INFO:pyngrok.process.ngrok:t=2024-11-16T22:53:07+0000 lvl=info msg=\"join connections\" obj=join id=457d52f2f25a l=127.0.0.1:8237 r=99.225.251.17:57096\n"
          ]
        },
        {
          "output_type": "stream",
          "name": "stdout",
          "text": [
            "\u001b[1;35mt=2024-11-16T22:53:07+0000 lvl=info msg=\"join connections\" obj=join id=457d52f2f25a l=127.0.0.1:8237 r=99.225.251.17:57096\u001b[0m\n"
          ]
        },
        {
          "output_type": "stream",
          "name": "stderr",
          "text": [
            "INFO:pyngrok.process.ngrok:t=2024-11-16T22:53:07+0000 lvl=info msg=\"join connections\" obj=join id=cd302d3cc5a0 l=127.0.0.1:8237 r=99.225.251.17:57096\n"
          ]
        },
        {
          "output_type": "stream",
          "name": "stdout",
          "text": [
            "\u001b[1;35mt=2024-11-16T22:53:07+0000 lvl=info msg=\"join connections\" obj=join id=cd302d3cc5a0 l=127.0.0.1:8237 r=99.225.251.17:57096\u001b[0m\n"
          ]
        },
        {
          "output_type": "stream",
          "name": "stderr",
          "text": [
            "INFO:pyngrok.process.ngrok:t=2024-11-16T22:53:07+0000 lvl=info msg=\"join connections\" obj=join id=426139a83f45 l=127.0.0.1:8237 r=99.225.251.17:57096\n"
          ]
        },
        {
          "output_type": "stream",
          "name": "stdout",
          "text": [
            "\u001b[1;35mt=2024-11-16T22:53:07+0000 lvl=info msg=\"join connections\" obj=join id=426139a83f45 l=127.0.0.1:8237 r=99.225.251.17:57096\u001b[0m\n"
          ]
        },
        {
          "output_type": "stream",
          "name": "stderr",
          "text": [
            "INFO:pyngrok.process.ngrok:t=2024-11-16T22:53:07+0000 lvl=info msg=\"join connections\" obj=join id=0beb614741bc l=127.0.0.1:8237 r=99.225.251.17:57096\n"
          ]
        },
        {
          "output_type": "stream",
          "name": "stdout",
          "text": [
            "\u001b[1;35mt=2024-11-16T22:53:07+0000 lvl=info msg=\"join connections\" obj=join id=0beb614741bc l=127.0.0.1:8237 r=99.225.251.17:57096\u001b[0m\n"
          ]
        },
        {
          "output_type": "stream",
          "name": "stderr",
          "text": [
            "INFO:pyngrok.process.ngrok:t=2024-11-16T22:53:07+0000 lvl=info msg=\"join connections\" obj=join id=ea8ced1c7eaf l=127.0.0.1:8237 r=99.225.251.17:57096\n"
          ]
        },
        {
          "output_type": "stream",
          "name": "stdout",
          "text": [
            "\u001b[1;35mt=2024-11-16T22:53:07+0000 lvl=info msg=\"join connections\" obj=join id=ea8ced1c7eaf l=127.0.0.1:8237 r=99.225.251.17:57096\u001b[0m\n"
          ]
        },
        {
          "output_type": "stream",
          "name": "stderr",
          "text": [
            "INFO:pyngrok.process.ngrok:t=2024-11-16T22:53:07+0000 lvl=info msg=\"join connections\" obj=join id=f1ef233185e1 l=127.0.0.1:8237 r=99.225.251.17:57096\n"
          ]
        },
        {
          "output_type": "stream",
          "name": "stdout",
          "text": [
            "\u001b[1;35mt=2024-11-16T22:53:07+0000 lvl=info msg=\"join connections\" obj=join id=f1ef233185e1 l=127.0.0.1:8237 r=99.225.251.17:57096\u001b[0m\n"
          ]
        },
        {
          "output_type": "stream",
          "name": "stderr",
          "text": [
            "INFO:pyngrok.process.ngrok:t=2024-11-16T22:53:07+0000 lvl=info msg=\"join connections\" obj=join id=2c0e07109826 l=127.0.0.1:8237 r=99.225.251.17:57096\n"
          ]
        },
        {
          "output_type": "stream",
          "name": "stdout",
          "text": [
            "\u001b[1;35mt=2024-11-16T22:53:07+0000 lvl=info msg=\"join connections\" obj=join id=2c0e07109826 l=127.0.0.1:8237 r=99.225.251.17:57096\u001b[0m\n"
          ]
        },
        {
          "output_type": "stream",
          "name": "stderr",
          "text": [
            "INFO:pyngrok.process.ngrok:t=2024-11-16T22:53:07+0000 lvl=info msg=\"join connections\" obj=join id=b4e6f40bde5a l=127.0.0.1:8237 r=99.225.251.17:57096\n"
          ]
        },
        {
          "output_type": "stream",
          "name": "stdout",
          "text": [
            "\u001b[32mINFO\u001b[0m:     99.225.251.17:0 - \"\u001b[1mGET /assets/inter-greek-500-normal-BjpBGs91.woff HTTP/1.1\u001b[0m\" \u001b[32m200 OK\u001b[0m\n",
            "\u001b[32mINFO\u001b[0m:     99.225.251.17:0 - \"\u001b[1mGET /assets/inter-vietnamese-500-normal-0i6yoQMg.woff HTTP/1.1\u001b[0m\" \u001b[32m200 OK\u001b[0m\n",
            "\u001b[32mINFO\u001b[0m:     99.225.251.17:0 - \"\u001b[1mGET /assets/inter-latin-ext-500-normal-SuUkSNTU.woff HTTP/1.1\u001b[0m\" \u001b[32m200 OK\u001b[0m\n",
            "\u001b[32mINFO\u001b[0m:     99.225.251.17:0 - \"\u001b[1mGET /assets/inter-greek-ext-600-normal-BmtRFZgT.woff HTTP/1.1\u001b[0m\" \u001b[32m200 OK\u001b[0m\n",
            "\u001b[32mINFO\u001b[0m:     99.225.251.17:0 - \"\u001b[1mGET /assets/inter-latin-600-normal-Dbvh0wvx.woff HTTP/1.1\u001b[0m\" \u001b[32m200 OK\u001b[0m\n",
            "\u001b[1;35mt=2024-11-16T22:53:07+0000 lvl=info msg=\"join connections\" obj=join id=b4e6f40bde5a l=127.0.0.1:8237 r=99.225.251.17:57096\u001b[0m\n"
          ]
        },
        {
          "output_type": "stream",
          "name": "stderr",
          "text": [
            "INFO:pyngrok.process.ngrok:t=2024-11-16T22:53:07+0000 lvl=info msg=\"join connections\" obj=join id=2416fdf4238d l=127.0.0.1:8237 r=99.225.251.17:57096\n"
          ]
        },
        {
          "output_type": "stream",
          "name": "stdout",
          "text": [
            "\u001b[1;35mt=2024-11-16T22:53:07+0000 lvl=info msg=\"join connections\" obj=join id=2416fdf4238d l=127.0.0.1:8237 r=99.225.251.17:57096\u001b[0m\n"
          ]
        },
        {
          "output_type": "stream",
          "name": "stderr",
          "text": [
            "INFO:pyngrok.process.ngrok:t=2024-11-16T22:53:07+0000 lvl=info msg=\"join connections\" obj=join id=9d38a85eb1df l=127.0.0.1:8237 r=99.225.251.17:57096\n"
          ]
        },
        {
          "output_type": "stream",
          "name": "stdout",
          "text": [
            "\u001b[1;35mt=2024-11-16T22:53:07+0000 lvl=info msg=\"join connections\" obj=join id=9d38a85eb1df l=127.0.0.1:8237 r=99.225.251.17:57096\u001b[0m\n"
          ]
        },
        {
          "output_type": "stream",
          "name": "stderr",
          "text": [
            "INFO:pyngrok.process.ngrok:t=2024-11-16T22:53:07+0000 lvl=info msg=\"join connections\" obj=join id=b44503f908c4 l=127.0.0.1:8237 r=99.225.251.17:57096\n"
          ]
        },
        {
          "output_type": "stream",
          "name": "stdout",
          "text": [
            "\u001b[1;35mt=2024-11-16T22:53:07+0000 lvl=info msg=\"join connections\" obj=join id=b44503f908c4 l=127.0.0.1:8237 r=99.225.251.17:57096\u001b[0m\n"
          ]
        },
        {
          "output_type": "stream",
          "name": "stderr",
          "text": [
            "INFO:pyngrok.process.ngrok:t=2024-11-16T22:53:07+0000 lvl=info msg=\"join connections\" obj=join id=7fd61e6fad00 l=127.0.0.1:8237 r=99.225.251.17:57096\n"
          ]
        },
        {
          "output_type": "stream",
          "name": "stdout",
          "text": [
            "\u001b[1;35mt=2024-11-16T22:53:07+0000 lvl=info msg=\"join connections\" obj=join id=7fd61e6fad00 l=127.0.0.1:8237 r=99.225.251.17:57096\u001b[0m\n"
          ]
        },
        {
          "output_type": "stream",
          "name": "stderr",
          "text": [
            "INFO:pyngrok.process.ngrok:t=2024-11-16T22:53:07+0000 lvl=info msg=\"join connections\" obj=join id=cfd728dad5f4 l=127.0.0.1:8237 r=99.225.251.17:57096\n"
          ]
        },
        {
          "output_type": "stream",
          "name": "stdout",
          "text": [
            "\u001b[1;35mt=2024-11-16T22:53:07+0000 lvl=info msg=\"join connections\" obj=join id=cfd728dad5f4 l=127.0.0.1:8237 r=99.225.251.17:57096\u001b[0m\n"
          ]
        },
        {
          "output_type": "stream",
          "name": "stderr",
          "text": [
            "INFO:pyngrok.process.ngrok:t=2024-11-16T22:53:07+0000 lvl=info msg=\"join connections\" obj=join id=84bf48cab0f1 l=127.0.0.1:8237 r=99.225.251.17:57096\n"
          ]
        },
        {
          "output_type": "stream",
          "name": "stdout",
          "text": [
            "\u001b[1;35mt=2024-11-16T22:53:07+0000 lvl=info msg=\"join connections\" obj=join id=84bf48cab0f1 l=127.0.0.1:8237 r=99.225.251.17:57096\u001b[0m\n"
          ]
        },
        {
          "output_type": "stream",
          "name": "stderr",
          "text": [
            "INFO:pyngrok.process.ngrok:t=2024-11-16T22:53:07+0000 lvl=info msg=\"join connections\" obj=join id=44a2a5438aa8 l=127.0.0.1:8237 r=99.225.251.17:57096\n"
          ]
        },
        {
          "output_type": "stream",
          "name": "stdout",
          "text": [
            "\u001b[1;35mt=2024-11-16T22:53:07+0000 lvl=info msg=\"join connections\" obj=join id=44a2a5438aa8 l=127.0.0.1:8237 r=99.225.251.17:57096\u001b[0m\n"
          ]
        },
        {
          "output_type": "stream",
          "name": "stderr",
          "text": [
            "INFO:pyngrok.process.ngrok:t=2024-11-16T22:53:07+0000 lvl=info msg=\"join connections\" obj=join id=e3393d7f39c6 l=127.0.0.1:8237 r=99.225.251.17:57096\n"
          ]
        },
        {
          "output_type": "stream",
          "name": "stdout",
          "text": [
            "\u001b[1;35mt=2024-11-16T22:53:07+0000 lvl=info msg=\"join connections\" obj=join id=e3393d7f39c6 l=127.0.0.1:8237 r=99.225.251.17:57096\u001b[0m\n"
          ]
        },
        {
          "output_type": "stream",
          "name": "stderr",
          "text": [
            "INFO:pyngrok.process.ngrok:t=2024-11-16T22:53:07+0000 lvl=info msg=\"join connections\" obj=join id=bc216c7a8690 l=127.0.0.1:8237 r=99.225.251.17:57096\n"
          ]
        },
        {
          "output_type": "stream",
          "name": "stdout",
          "text": [
            "\u001b[1;35mt=2024-11-16T22:53:07+0000 lvl=info msg=\"join connections\" obj=join id=bc216c7a8690 l=127.0.0.1:8237 r=99.225.251.17:57096\u001b[0m\n"
          ]
        },
        {
          "output_type": "stream",
          "name": "stderr",
          "text": [
            "INFO:pyngrok.process.ngrok:t=2024-11-16T22:53:07+0000 lvl=info msg=\"join connections\" obj=join id=72b52e6b133c l=127.0.0.1:8237 r=99.225.251.17:57096\n"
          ]
        },
        {
          "output_type": "stream",
          "name": "stdout",
          "text": [
            "\u001b[1;35mt=2024-11-16T22:53:07+0000 lvl=info msg=\"join connections\" obj=join id=72b52e6b133c l=127.0.0.1:8237 r=99.225.251.17:57096\u001b[0m\n"
          ]
        },
        {
          "output_type": "stream",
          "name": "stderr",
          "text": [
            "INFO:pyngrok.process.ngrok:t=2024-11-16T22:53:07+0000 lvl=info msg=\"join connections\" obj=join id=57846295b5e9 l=127.0.0.1:8237 r=99.225.251.17:57096\n"
          ]
        },
        {
          "output_type": "stream",
          "name": "stdout",
          "text": [
            "\u001b[1;35mt=2024-11-16T22:53:07+0000 lvl=info msg=\"join connections\" obj=join id=57846295b5e9 l=127.0.0.1:8237 r=99.225.251.17:57096\u001b[0m\n"
          ]
        },
        {
          "output_type": "stream",
          "name": "stderr",
          "text": [
            "INFO:pyngrok.process.ngrok:t=2024-11-16T22:53:07+0000 lvl=info msg=\"join connections\" obj=join id=f74ab0012a63 l=127.0.0.1:8237 r=99.225.251.17:57096\n"
          ]
        },
        {
          "output_type": "stream",
          "name": "stdout",
          "text": [
            "\u001b[1;35mt=2024-11-16T22:53:07+0000 lvl=info msg=\"join connections\" obj=join id=f74ab0012a63 l=127.0.0.1:8237 r=99.225.251.17:57096\u001b[0m\n"
          ]
        },
        {
          "output_type": "stream",
          "name": "stderr",
          "text": [
            "INFO:pyngrok.process.ngrok:t=2024-11-16T22:53:07+0000 lvl=info msg=\"join connections\" obj=join id=5f44f934771f l=127.0.0.1:8237 r=99.225.251.17:57096\n"
          ]
        },
        {
          "output_type": "stream",
          "name": "stdout",
          "text": [
            "\u001b[1;35mt=2024-11-16T22:53:07+0000 lvl=info msg=\"join connections\" obj=join id=5f44f934771f l=127.0.0.1:8237 r=99.225.251.17:57096\u001b[0m\n"
          ]
        },
        {
          "output_type": "stream",
          "name": "stderr",
          "text": [
            "INFO:pyngrok.process.ngrok:t=2024-11-16T22:53:07+0000 lvl=info msg=\"join connections\" obj=join id=88b53e10978c l=127.0.0.1:8237 r=99.225.251.17:57096\n"
          ]
        },
        {
          "output_type": "stream",
          "name": "stdout",
          "text": [
            "\u001b[1;35mt=2024-11-16T22:53:07+0000 lvl=info msg=\"join connections\" obj=join id=88b53e10978c l=127.0.0.1:8237 r=99.225.251.17:57096\u001b[0m\n"
          ]
        },
        {
          "output_type": "stream",
          "name": "stderr",
          "text": [
            "INFO:pyngrok.process.ngrok:t=2024-11-16T22:53:07+0000 lvl=info msg=\"join connections\" obj=join id=7e7c6f2ab822 l=127.0.0.1:8237 r=99.225.251.17:57096\n"
          ]
        },
        {
          "output_type": "stream",
          "name": "stdout",
          "text": [
            "\u001b[1;35mt=2024-11-16T22:53:07+0000 lvl=info msg=\"join connections\" obj=join id=7e7c6f2ab822 l=127.0.0.1:8237 r=99.225.251.17:57096\u001b[0m\n"
          ]
        },
        {
          "output_type": "stream",
          "name": "stderr",
          "text": [
            "INFO:pyngrok.process.ngrok:t=2024-11-16T22:53:07+0000 lvl=info msg=\"join connections\" obj=join id=ca49990e248c l=127.0.0.1:8237 r=99.225.251.17:57096\n"
          ]
        },
        {
          "output_type": "stream",
          "name": "stdout",
          "text": [
            "\u001b[1;35mt=2024-11-16T22:53:07+0000 lvl=info msg=\"join connections\" obj=join id=ca49990e248c l=127.0.0.1:8237 r=99.225.251.17:57096\u001b[0m\n"
          ]
        },
        {
          "output_type": "stream",
          "name": "stderr",
          "text": [
            "INFO:pyngrok.process.ngrok:t=2024-11-16T22:53:07+0000 lvl=info msg=\"join connections\" obj=join id=43f770b58d90 l=127.0.0.1:8237 r=99.225.251.17:57096\n"
          ]
        },
        {
          "output_type": "stream",
          "name": "stdout",
          "text": [
            "\u001b[1;35mt=2024-11-16T22:53:07+0000 lvl=info msg=\"join connections\" obj=join id=43f770b58d90 l=127.0.0.1:8237 r=99.225.251.17:57096\u001b[0m\n"
          ]
        },
        {
          "output_type": "stream",
          "name": "stderr",
          "text": [
            "INFO:pyngrok.process.ngrok:t=2024-11-16T22:53:07+0000 lvl=info msg=\"join connections\" obj=join id=9178cfc65ee1 l=127.0.0.1:8237 r=99.225.251.17:57096\n"
          ]
        },
        {
          "output_type": "stream",
          "name": "stdout",
          "text": [
            "\u001b[32mINFO\u001b[0m:     99.225.251.17:0 - \"\u001b[1mGET /assets/inter-latin-ext-600-normal-Dg0Bk0Yr.woff HTTP/1.1\u001b[0m\" \u001b[32m200 OK\u001b[0m\n",
            "\u001b[32mINFO\u001b[0m:     99.225.251.17:0 - \"\u001b[1mGET /assets/mcp-Cb1aMeoq.webp HTTP/1.1\u001b[0m\" \u001b[32m200 OK\u001b[0m\n",
            "\u001b[32mINFO\u001b[0m:     99.225.251.17:0 - \"\u001b[1mGET /assets/connectors-video-C9qY4syJ.svg HTTP/1.1\u001b[0m\" \u001b[32m200 OK\u001b[0m\n",
            "\u001b[32mINFO\u001b[0m:     99.225.251.17:0 - \"\u001b[1mGET /assets/repos-video-D8kpu60k.svg HTTP/1.1\u001b[0m\" \u001b[32m200 OK\u001b[0m\n",
            "\u001b[32mINFO\u001b[0m:     99.225.251.17:0 - \"\u001b[1mGET /assets/adam-e-y0WnB_.webp HTTP/1.1\u001b[0m\" \u001b[32m200 OK\u001b[0m\n",
            "\u001b[1;35mt=2024-11-16T22:53:07+0000 lvl=info msg=\"join connections\" obj=join id=9178cfc65ee1 l=127.0.0.1:8237 r=99.225.251.17:57096\u001b[0m\n"
          ]
        },
        {
          "output_type": "stream",
          "name": "stderr",
          "text": [
            "INFO:pyngrok.process.ngrok:t=2024-11-16T22:53:07+0000 lvl=info msg=\"join connections\" obj=join id=ad4c2ddb539c l=127.0.0.1:8237 r=99.225.251.17:57096\n"
          ]
        },
        {
          "output_type": "stream",
          "name": "stdout",
          "text": [
            "\u001b[1;35mt=2024-11-16T22:53:07+0000 lvl=info msg=\"join connections\" obj=join id=ad4c2ddb539c l=127.0.0.1:8237 r=99.225.251.17:57096\u001b[0m\n"
          ]
        },
        {
          "output_type": "stream",
          "name": "stderr",
          "text": [
            "INFO:pyngrok.process.ngrok:t=2024-11-16T22:53:07+0000 lvl=info msg=\"join connections\" obj=join id=840207cae26d l=127.0.0.1:8237 r=99.225.251.17:57096\n"
          ]
        },
        {
          "output_type": "stream",
          "name": "stdout",
          "text": [
            "\u001b[1;35mt=2024-11-16T22:53:07+0000 lvl=info msg=\"join connections\" obj=join id=840207cae26d l=127.0.0.1:8237 r=99.225.251.17:57096\u001b[0m\n"
          ]
        },
        {
          "output_type": "stream",
          "name": "stderr",
          "text": [
            "INFO:pyngrok.process.ngrok:t=2024-11-16T22:53:07+0000 lvl=info msg=\"join connections\" obj=join id=403be3165948 l=127.0.0.1:8237 r=99.225.251.17:57096\n"
          ]
        },
        {
          "output_type": "stream",
          "name": "stdout",
          "text": [
            "\u001b[32mINFO\u001b[0m:     99.225.251.17:0 - \"\u001b[1mGET /assets/codespaces-BitYDX9d.gif HTTP/1.1\u001b[0m\" \u001b[32m200 OK\u001b[0m\n",
            "\u001b[32mINFO\u001b[0m:     99.225.251.17:0 - \"\u001b[1mGET /assets/alex-DcCuDHPg.webp HTTP/1.1\u001b[0m\" \u001b[32m200 OK\u001b[0m\n",
            "\u001b[32mINFO\u001b[0m:     99.225.251.17:0 - \"\u001b[1mGET /assets/page-CvKnNK1S.js HTTP/1.1\u001b[0m\" \u001b[32m200 OK\u001b[0m\n",
            "\u001b[32mINFO\u001b[0m:     99.225.251.17:0 - \"\u001b[1mGET /assets/inter-vietnamese-600-normal-BQ_dbMbg.woff HTTP/1.1\u001b[0m\" \u001b[32m200 OK\u001b[0m\n",
            "\u001b[1;35mt=2024-11-16T22:53:07+0000 lvl=info msg=\"join connections\" obj=join id=403be3165948 l=127.0.0.1:8237 r=99.225.251.17:57096\u001b[0m\n"
          ]
        },
        {
          "output_type": "stream",
          "name": "stderr",
          "text": [
            "INFO:pyngrok.process.ngrok:t=2024-11-16T22:53:07+0000 lvl=info msg=\"join connections\" obj=join id=2aa22e2591b7 l=127.0.0.1:8237 r=99.225.251.17:57096\n"
          ]
        },
        {
          "output_type": "stream",
          "name": "stdout",
          "text": [
            "\u001b[1;35mt=2024-11-16T22:53:07+0000 lvl=info msg=\"join connections\" obj=join id=2aa22e2591b7 l=127.0.0.1:8237 r=99.225.251.17:57096\u001b[0m\n"
          ]
        },
        {
          "output_type": "stream",
          "name": "stderr",
          "text": [
            "INFO:pyngrok.process.ngrok:t=2024-11-16T22:53:07+0000 lvl=info msg=\"join connections\" obj=join id=2e88711cb1e0 l=127.0.0.1:8237 r=99.225.251.17:57096\n"
          ]
        },
        {
          "output_type": "stream",
          "name": "stdout",
          "text": [
            "\u001b[1;35mt=2024-11-16T22:53:07+0000 lvl=info msg=\"join connections\" obj=join id=2e88711cb1e0 l=127.0.0.1:8237 r=99.225.251.17:57096\u001b[0m\n"
          ]
        },
        {
          "output_type": "stream",
          "name": "stderr",
          "text": [
            "INFO:pyngrok.process.ngrok:t=2024-11-16T22:53:07+0000 lvl=info msg=\"join connections\" obj=join id=c50a52925592 l=127.0.0.1:8237 r=99.225.251.17:57096\n"
          ]
        },
        {
          "output_type": "stream",
          "name": "stdout",
          "text": [
            "\u001b[1;35mt=2024-11-16T22:53:07+0000 lvl=info msg=\"join connections\" obj=join id=c50a52925592 l=127.0.0.1:8237 r=99.225.251.17:57096\u001b[0m\n"
          ]
        },
        {
          "output_type": "stream",
          "name": "stderr",
          "text": [
            "INFO:pyngrok.process.ngrok:t=2024-11-16T22:53:07+0000 lvl=info msg=\"join connections\" obj=join id=b64bc0719e16 l=127.0.0.1:8237 r=99.225.251.17:57096\n"
          ]
        },
        {
          "output_type": "stream",
          "name": "stdout",
          "text": [
            "\u001b[32mINFO\u001b[0m:     99.225.251.17:0 - \"\u001b[1mGET /assets/stefan-B08Ftbba.webp HTTP/1.1\u001b[0m\" \u001b[32m200 OK\u001b[0m\n",
            "\u001b[32mINFO\u001b[0m:     99.225.251.17:0 - \"\u001b[1mGET /favicon.ico HTTP/1.1\u001b[0m\" \u001b[32m200 OK\u001b[0m\n",
            "\u001b[32mINFO\u001b[0m:     99.225.251.17:0 - \"\u001b[1mGET /assets/ExecutionStatus-D6r6aK8J.js HTTP/1.1\u001b[0m\" \u001b[32m200 OK\u001b[0m\n",
            "\u001b[32mINFO\u001b[0m:     99.225.251.17:0 - \"\u001b[1mGET /assets/SearchField-BzmfxS0L.js HTTP/1.1\u001b[0m\" \u001b[32m200 OK\u001b[0m\n",
            "\u001b[32mINFO\u001b[0m:     99.225.251.17:0 - \"\u001b[1mGET /api/v1/info HTTP/1.1\u001b[0m\" \u001b[32m200 OK\u001b[0m\n",
            "\u001b[32mINFO\u001b[0m:     99.225.251.17:0 - \"\u001b[1mGET /assets/metaflow-weOkWNyT.svg HTTP/1.1\u001b[0m\" \u001b[32m200 OK\u001b[0m\n",
            "\u001b[32mINFO\u001b[0m:     99.225.251.17:0 - \"\u001b[1mGET /assets/SecretTooltip-BaMwHF-Q.js HTTP/1.1\u001b[0m\" \u001b[32m200 OK\u001b[0m\n",
            "\u001b[32mINFO\u001b[0m:     99.225.251.17:0 - \"\u001b[1mGET /assets/acp-DOsXjFc7.webp HTTP/1.1\u001b[0m\" \u001b[32m200 OK\u001b[0m\n",
            "\u001b[1;35mt=2024-11-16T22:53:07+0000 lvl=info msg=\"join connections\" obj=join id=b64bc0719e16 l=127.0.0.1:8237 r=99.225.251.17:57096\u001b[0m\n"
          ]
        },
        {
          "output_type": "stream",
          "name": "stderr",
          "text": [
            "INFO:pyngrok.process.ngrok:t=2024-11-16T22:53:07+0000 lvl=info msg=\"join connections\" obj=join id=75892c917fb2 l=127.0.0.1:8237 r=99.225.251.17:57096\n"
          ]
        },
        {
          "output_type": "stream",
          "name": "stdout",
          "text": [
            "\u001b[1;35mt=2024-11-16T22:53:07+0000 lvl=info msg=\"join connections\" obj=join id=75892c917fb2 l=127.0.0.1:8237 r=99.225.251.17:57096\u001b[0m\n"
          ]
        },
        {
          "output_type": "stream",
          "name": "stderr",
          "text": [
            "INFO:pyngrok.process.ngrok:t=2024-11-16T22:53:07+0000 lvl=info msg=\"join connections\" obj=join id=588d4be28b8c l=127.0.0.1:8237 r=99.225.251.17:57096\n"
          ]
        },
        {
          "output_type": "stream",
          "name": "stdout",
          "text": [
            "\u001b[32mINFO\u001b[0m:     99.225.251.17:0 - \"\u001b[1mGET /assets/inter-cyrillic-600-normal-iz1--dBq.woff HTTP/1.1\u001b[0m\" \u001b[32m200 OK\u001b[0m\n",
            "\u001b[32mINFO\u001b[0m:     99.225.251.17:0 - \"\u001b[1mGET /assets/baris-C0ZrZ10g.webp HTTP/1.1\u001b[0m\" \u001b[32m200 OK\u001b[0m\n",
            "\u001b[32mINFO\u001b[0m:     99.225.251.17:0 - \"\u001b[1mGET /assets/inter-greek-600-normal-BLZsI-P3.woff HTTP/1.1\u001b[0m\" \u001b[32m200 OK\u001b[0m\n",
            "\u001b[32mINFO\u001b[0m:     99.225.251.17:0 - \"\u001b[1mGET /assets/cloud-squares-DeRLMopf.svg HTTP/1.1\u001b[0m\" \u001b[32m200 OK\u001b[0m\n",
            "\u001b[32mINFO\u001b[0m:     99.225.251.17:0 - \"\u001b[1mGET /assets/settings_preview-0JLrRgHP.webp HTTP/1.1\u001b[0m\" \u001b[32m200 OK\u001b[0m\n",
            "\u001b[32mINFO\u001b[0m:     99.225.251.17:0 - \"\u001b[1mGET /assets/tour-cover-BYfeen6M.webp HTTP/1.1\u001b[0m\" \u001b[32m200 OK\u001b[0m\n",
            "\u001b[1;35mt=2024-11-16T22:53:07+0000 lvl=info msg=\"join connections\" obj=join id=588d4be28b8c l=127.0.0.1:8237 r=99.225.251.17:57096\u001b[0m\n"
          ]
        },
        {
          "output_type": "stream",
          "name": "stderr",
          "text": [
            "INFO:pyngrok.process.ngrok:t=2024-11-16T22:53:07+0000 lvl=info msg=\"join connections\" obj=join id=af4a0b0d1d5f l=127.0.0.1:8237 r=99.225.251.17:57096\n"
          ]
        },
        {
          "output_type": "stream",
          "name": "stdout",
          "text": [
            "\u001b[1;35mt=2024-11-16T22:53:07+0000 lvl=info msg=\"join connections\" obj=join id=af4a0b0d1d5f l=127.0.0.1:8237 r=99.225.251.17:57096\u001b[0m\n"
          ]
        },
        {
          "output_type": "stream",
          "name": "stderr",
          "text": [
            "INFO:pyngrok.process.ngrok:t=2024-11-16T22:53:07+0000 lvl=info msg=\"join connections\" obj=join id=354737e01ace l=127.0.0.1:8237 r=99.225.251.17:57096\n"
          ]
        },
        {
          "output_type": "stream",
          "name": "stdout",
          "text": [
            "\u001b[1;35mt=2024-11-16T22:53:07+0000 lvl=info msg=\"join connections\" obj=join id=354737e01ace l=127.0.0.1:8237 r=99.225.251.17:57096\u001b[0m\n"
          ]
        },
        {
          "output_type": "stream",
          "name": "stderr",
          "text": [
            "INFO:pyngrok.process.ngrok:t=2024-11-16T22:53:07+0000 lvl=info msg=\"join connections\" obj=join id=e183eca41ea7 l=127.0.0.1:8237 r=99.225.251.17:57096\n"
          ]
        },
        {
          "output_type": "stream",
          "name": "stdout",
          "text": [
            "\u001b[1;35mt=2024-11-16T22:53:07+0000 lvl=info msg=\"join connections\" obj=join id=e183eca41ea7 l=127.0.0.1:8237 r=99.225.251.17:57096\u001b[0m\n"
          ]
        },
        {
          "output_type": "stream",
          "name": "stderr",
          "text": [
            "INFO:pyngrok.process.ngrok:t=2024-11-16T22:53:07+0000 lvl=info msg=\"join connections\" obj=join id=7ce3459955ef l=127.0.0.1:8237 r=99.225.251.17:57096\n"
          ]
        },
        {
          "output_type": "stream",
          "name": "stdout",
          "text": [
            "\u001b[1;35mt=2024-11-16T22:53:07+0000 lvl=info msg=\"join connections\" obj=join id=7ce3459955ef l=127.0.0.1:8237 r=99.225.251.17:57096\u001b[0m\n"
          ]
        },
        {
          "output_type": "stream",
          "name": "stderr",
          "text": [
            "INFO:pyngrok.process.ngrok:t=2024-11-16T22:53:07+0000 lvl=info msg=\"join connections\" obj=join id=fe190bd0f9c3 l=127.0.0.1:8237 r=99.225.251.17:57096\n"
          ]
        },
        {
          "output_type": "stream",
          "name": "stdout",
          "text": [
            "\u001b[1;35mt=2024-11-16T22:53:07+0000 lvl=info msg=\"join connections\" obj=join id=fe190bd0f9c3 l=127.0.0.1:8237 r=99.225.251.17:57096\u001b[0m\n"
          ]
        },
        {
          "output_type": "stream",
          "name": "stderr",
          "text": [
            "INFO:pyngrok.process.ngrok:t=2024-11-16T22:53:07+0000 lvl=info msg=\"join connections\" obj=join id=f3541ce203ea l=127.0.0.1:8237 r=99.225.251.17:57096\n"
          ]
        },
        {
          "output_type": "stream",
          "name": "stdout",
          "text": [
            "\u001b[1;35mt=2024-11-16T22:53:07+0000 lvl=info msg=\"join connections\" obj=join id=f3541ce203ea l=127.0.0.1:8237 r=99.225.251.17:57096\u001b[0m\n"
          ]
        },
        {
          "output_type": "stream",
          "name": "stderr",
          "text": [
            "INFO:pyngrok.process.ngrok:t=2024-11-16T22:53:07+0000 lvl=info msg=\"join connections\" obj=join id=8128ad6b116d l=127.0.0.1:8237 r=99.225.251.17:57096\n"
          ]
        },
        {
          "output_type": "stream",
          "name": "stdout",
          "text": [
            "\u001b[32mINFO\u001b[0m:     99.225.251.17:0 - \"\u001b[1mGET /assets/inter-cyrillic-ext-600-normal-KAwcVx6H.woff HTTP/1.1\u001b[0m\" \u001b[32m200 OK\u001b[0m\n",
            "\u001b[32mINFO\u001b[0m:     99.225.251.17:0 - \"\u001b[1mGET /assets/hamza-NKKOZz1I.webp HTTP/1.1\u001b[0m\" \u001b[32m200 OK\u001b[0m\n",
            "\u001b[32mINFO\u001b[0m:     99.225.251.17:0 - \"\u001b[1mGET /assets/templates-1S_8WeSK.webp HTTP/1.1\u001b[0m\" \u001b[32m200 OK\u001b[0m\n",
            "\u001b[32mINFO\u001b[0m:     99.225.251.17:0 - \"\u001b[1mGET /assets/not-found-DbjllLY_.js HTTP/1.1\u001b[0m\" \u001b[32m200 OK\u001b[0m\n",
            "\u001b[1;35mt=2024-11-16T22:53:07+0000 lvl=info msg=\"join connections\" obj=join id=8128ad6b116d l=127.0.0.1:8237 r=99.225.251.17:57096\u001b[0m\n"
          ]
        },
        {
          "output_type": "stream",
          "name": "stderr",
          "text": [
            "INFO:pyngrok.process.ngrok:t=2024-11-16T22:53:07+0000 lvl=info msg=\"join connections\" obj=join id=53599a728c2a l=127.0.0.1:8237 r=99.225.251.17:57096\n"
          ]
        },
        {
          "output_type": "stream",
          "name": "stdout",
          "text": [
            "\u001b[1;35mt=2024-11-16T22:53:07+0000 lvl=info msg=\"join connections\" obj=join id=53599a728c2a l=127.0.0.1:8237 r=99.225.251.17:57096\u001b[0m\n"
          ]
        },
        {
          "output_type": "stream",
          "name": "stderr",
          "text": [
            "INFO:pyngrok.process.ngrok:t=2024-11-16T22:53:07+0000 lvl=info msg=\"join connections\" obj=join id=5caccf7fb55b l=127.0.0.1:8237 r=99.225.251.17:57096\n"
          ]
        },
        {
          "output_type": "stream",
          "name": "stdout",
          "text": [
            "\u001b[1;35mt=2024-11-16T22:53:07+0000 lvl=info msg=\"join connections\" obj=join id=5caccf7fb55b l=127.0.0.1:8237 r=99.225.251.17:57096\u001b[0m\n"
          ]
        },
        {
          "output_type": "stream",
          "name": "stderr",
          "text": [
            "INFO:pyngrok.process.ngrok:t=2024-11-16T22:53:07+0000 lvl=info msg=\"join connections\" obj=join id=d6a9f26c0e23 l=127.0.0.1:8237 r=99.225.251.17:57096\n"
          ]
        },
        {
          "output_type": "stream",
          "name": "stdout",
          "text": [
            "\u001b[1;35mt=2024-11-16T22:53:07+0000 lvl=info msg=\"join connections\" obj=join id=d6a9f26c0e23 l=127.0.0.1:8237 r=99.225.251.17:57096\u001b[0m\n"
          ]
        },
        {
          "output_type": "stream",
          "name": "stderr",
          "text": [
            "INFO:pyngrok.process.ngrok:t=2024-11-16T22:53:07+0000 lvl=info msg=\"join connections\" obj=join id=9c6ee6e4056e l=127.0.0.1:8237 r=99.225.251.17:57096\n"
          ]
        },
        {
          "output_type": "stream",
          "name": "stdout",
          "text": [
            "\u001b[1;35mt=2024-11-16T22:53:07+0000 lvl=info msg=\"join connections\" obj=join id=9c6ee6e4056e l=127.0.0.1:8237 r=99.225.251.17:57096\u001b[0m\n"
          ]
        },
        {
          "output_type": "stream",
          "name": "stderr",
          "text": [
            "INFO:pyngrok.process.ngrok:t=2024-11-16T22:53:07+0000 lvl=info msg=\"join connections\" obj=join id=ce6f80e3430d l=127.0.0.1:8237 r=99.225.251.17:57096\n"
          ]
        },
        {
          "output_type": "stream",
          "name": "stdout",
          "text": [
            "\u001b[1;35mt=2024-11-16T22:53:07+0000 lvl=info msg=\"join connections\" obj=join id=ce6f80e3430d l=127.0.0.1:8237 r=99.225.251.17:57096\u001b[0m\n"
          ]
        },
        {
          "output_type": "stream",
          "name": "stderr",
          "text": [
            "INFO:pyngrok.process.ngrok:t=2024-11-16T22:53:07+0000 lvl=info msg=\"join connections\" obj=join id=cac2f1647271 l=127.0.0.1:8237 r=99.225.251.17:57096\n"
          ]
        },
        {
          "output_type": "stream",
          "name": "stdout",
          "text": [
            "\u001b[1;35mt=2024-11-16T22:53:07+0000 lvl=info msg=\"join connections\" obj=join id=cac2f1647271 l=127.0.0.1:8237 r=99.225.251.17:57096\u001b[0m\n"
          ]
        },
        {
          "output_type": "stream",
          "name": "stderr",
          "text": [
            "INFO:pyngrok.process.ngrok:t=2024-11-16T22:53:07+0000 lvl=info msg=\"join connections\" obj=join id=ba8b9da7dfa5 l=127.0.0.1:8237 r=99.225.251.17:57096\n"
          ]
        },
        {
          "output_type": "stream",
          "name": "stdout",
          "text": [
            "\u001b[1;35mt=2024-11-16T22:53:07+0000 lvl=info msg=\"join connections\" obj=join id=ba8b9da7dfa5 l=127.0.0.1:8237 r=99.225.251.17:57096\u001b[0m\n"
          ]
        },
        {
          "output_type": "stream",
          "name": "stderr",
          "text": [
            "INFO:pyngrok.process.ngrok:t=2024-11-16T22:53:07+0000 lvl=info msg=\"join connections\" obj=join id=dc99a5613bd1 l=127.0.0.1:8237 r=99.225.251.17:57096\n"
          ]
        },
        {
          "output_type": "stream",
          "name": "stdout",
          "text": [
            "\u001b[1;35mt=2024-11-16T22:53:07+0000 lvl=info msg=\"join connections\" obj=join id=dc99a5613bd1 l=127.0.0.1:8237 r=99.225.251.17:57096\u001b[0m\n"
          ]
        },
        {
          "output_type": "stream",
          "name": "stderr",
          "text": [
            "INFO:pyngrok.process.ngrok:t=2024-11-16T22:53:07+0000 lvl=info msg=\"join connections\" obj=join id=bad31429e977 l=127.0.0.1:8237 r=99.225.251.17:57096\n"
          ]
        },
        {
          "output_type": "stream",
          "name": "stdout",
          "text": [
            "\u001b[1;35mt=2024-11-16T22:53:07+0000 lvl=info msg=\"join connections\" obj=join id=bad31429e977 l=127.0.0.1:8237 r=99.225.251.17:57096\u001b[0m\n"
          ]
        },
        {
          "output_type": "stream",
          "name": "stderr",
          "text": [
            "INFO:pyngrok.process.ngrok:t=2024-11-16T22:53:07+0000 lvl=info msg=\"join connections\" obj=join id=c612b012542c l=127.0.0.1:8237 r=99.225.251.17:57096\n"
          ]
        },
        {
          "output_type": "stream",
          "name": "stdout",
          "text": [
            "\u001b[32mINFO\u001b[0m:     99.225.251.17:0 - \"\u001b[1mGET /assets/DialogItem-Cd3HqST4.js HTTP/1.1\u001b[0m\" \u001b[32m200 OK\u001b[0m\n",
            "\u001b[32mINFO\u001b[0m:     99.225.251.17:0 - \"\u001b[1mGET /assets/flyte-Cj-xy_8I.svg HTTP/1.1\u001b[0m\" \u001b[32m200 OK\u001b[0m\n",
            "\u001b[32mINFO\u001b[0m:     99.225.251.17:0 - \"\u001b[1mGET /assets/all-pipeline-runs-query-BA3R2Sey.js HTTP/1.1\u001b[0m\" \u001b[32m200 OK\u001b[0m\n",
            "\u001b[32mINFO\u001b[0m:     99.225.251.17:0 - \"\u001b[1mGET /assets/SetPassword-DuIC65H9.js HTTP/1.1\u001b[0m\" \u001b[32m200 OK\u001b[0m\n",
            "\u001b[1;35mt=2024-11-16T22:53:07+0000 lvl=info msg=\"join connections\" obj=join id=c612b012542c l=127.0.0.1:8237 r=99.225.251.17:57096\u001b[0m\n"
          ]
        },
        {
          "output_type": "stream",
          "name": "stderr",
          "text": [
            "INFO:pyngrok.process.ngrok:t=2024-11-16T22:53:07+0000 lvl=info msg=\"join connections\" obj=join id=af2b04a38c04 l=127.0.0.1:8237 r=99.225.251.17:57096\n"
          ]
        },
        {
          "output_type": "stream",
          "name": "stdout",
          "text": [
            "\u001b[1;35mt=2024-11-16T22:53:07+0000 lvl=info msg=\"join connections\" obj=join id=af2b04a38c04 l=127.0.0.1:8237 r=99.225.251.17:57096\u001b[0m\n"
          ]
        },
        {
          "output_type": "stream",
          "name": "stderr",
          "text": [
            "INFO:pyngrok.process.ngrok:t=2024-11-16T22:53:07+0000 lvl=info msg=\"join connections\" obj=join id=208d0d7c0134 l=127.0.0.1:8237 r=99.225.251.17:57096\n"
          ]
        },
        {
          "output_type": "stream",
          "name": "stdout",
          "text": [
            "\u001b[1;35mt=2024-11-16T22:53:07+0000 lvl=info msg=\"join connections\" obj=join id=208d0d7c0134 l=127.0.0.1:8237 r=99.225.251.17:57096\u001b[0m\n"
          ]
        },
        {
          "output_type": "stream",
          "name": "stderr",
          "text": [
            "INFO:pyngrok.process.ngrok:t=2024-11-16T22:53:07+0000 lvl=info msg=\"join connections\" obj=join id=5f2a4326e1c4 l=127.0.0.1:8237 r=99.225.251.17:57096\n"
          ]
        },
        {
          "output_type": "stream",
          "name": "stdout",
          "text": [
            "\u001b[1;35mt=2024-11-16T22:53:07+0000 lvl=info msg=\"join connections\" obj=join id=5f2a4326e1c4 l=127.0.0.1:8237 r=99.225.251.17:57096\u001b[0m\n"
          ]
        },
        {
          "output_type": "stream",
          "name": "stderr",
          "text": [
            "INFO:pyngrok.process.ngrok:t=2024-11-16T22:53:07+0000 lvl=info msg=\"join connections\" obj=join id=a6a143f0086a l=127.0.0.1:8237 r=99.225.251.17:57096\n"
          ]
        },
        {
          "output_type": "stream",
          "name": "stdout",
          "text": [
            "\u001b[1;35mt=2024-11-16T22:53:07+0000 lvl=info msg=\"join connections\" obj=join id=a6a143f0086a l=127.0.0.1:8237 r=99.225.251.17:57096\u001b[0m\n"
          ]
        },
        {
          "output_type": "stream",
          "name": "stderr",
          "text": [
            "INFO:pyngrok.process.ngrok:t=2024-11-16T22:53:07+0000 lvl=info msg=\"join connections\" obj=join id=bd1eb7f66e6e l=127.0.0.1:8237 r=99.225.251.17:57096\n"
          ]
        },
        {
          "output_type": "stream",
          "name": "stdout",
          "text": [
            "\u001b[1;35mt=2024-11-16T22:53:07+0000 lvl=info msg=\"join connections\" obj=join id=bd1eb7f66e6e l=127.0.0.1:8237 r=99.225.251.17:57096\u001b[0m\n",
            "\u001b[32mINFO\u001b[0m:     99.225.251.17:0 - \"\u001b[1mGET /assets/persist-BxIR2XZs.js HTTP/1.1\u001b[0m\" \u001b[32m200 OK\u001b[0m\n",
            "\u001b[32mINFO\u001b[0m:     99.225.251.17:0 - \"\u001b[1mGET /assets/page-Dwow2doB.js HTTP/1.1\u001b[0m\" \u001b[32m200 OK\u001b[0m\n",
            "\u001b[32mINFO\u001b[0m:     99.225.251.17:0 - \"\u001b[1mGET /assets/NumberBox-CrN0_kqI.js HTTP/1.1\u001b[0m\" \u001b[32m200 OK\u001b[0m\n",
            "\u001b[32mINFO\u001b[0m:     99.225.251.17:0 - \"\u001b[1mGET /assets/refresh-hfgWPeto.js HTTP/1.1\u001b[0m\" \u001b[32m200 OK\u001b[0m\n",
            "\u001b[32mINFO\u001b[0m:     99.225.251.17:0 - \"\u001b[1mGET /assets/login-mutation-ax6iL2Mb.js HTTP/1.1\u001b[0m\" \u001b[32m200 OK\u001b[0m\n",
            "\u001b[32mINFO\u001b[0m:     99.225.251.17:0 - \"\u001b[1mGET /assets/CodeSnippet-Bbx6fIb6.css HTTP/1.1\u001b[0m\" \u001b[32m200 OK\u001b[0m\n",
            "\u001b[32mINFO\u001b[0m:     99.225.251.17:0 - \"\u001b[1mGET /assets/page-BDg1F-Ug.js HTTP/1.1\u001b[0m\" \u001b[32m200 OK\u001b[0m\n",
            "\u001b[32mINFO\u001b[0m:     99.225.251.17:0 - \"\u001b[1mGET /assets/page-8kYmrh0B.js HTTP/1.1\u001b[0m\" \u001b[32m200 OK\u001b[0m\n",
            "\u001b[32mINFO\u001b[0m:     99.225.251.17:0 - \"\u001b[1mGET /assets/AlertDialogDropdownItem-xLR9a1iw.js HTTP/1.1\u001b[0m\" \u001b[32m200 OK\u001b[0m\n",
            "\u001b[32mINFO\u001b[0m:     99.225.251.17:0 - \"\u001b[1mGET /assets/WizardFooter-Cv9ApYWU.js HTTP/1.1\u001b[0m\" \u001b[32m200 OK\u001b[0m\n",
            "\u001b[32mINFO\u001b[0m:     99.225.251.17:0 - \"\u001b[1mGET /assets/PasswordChecker-DE71J_3F.js HTTP/1.1\u001b[0m\" \u001b[32m200 OK\u001b[0m\n",
            "\u001b[32mINFO\u001b[0m:     99.225.251.17:0 - \"\u001b[1mGET /assets/page-DcTjHmYZ.js HTTP/1.1\u001b[0m\" \u001b[32m200 OK\u001b[0m\n",
            "\u001b[32mINFO\u001b[0m:     99.225.251.17:0 - \"\u001b[1mGET /assets/tick-circle-m-hJG8i9.js HTTP/1.1\u001b[0m\" \u001b[32m200 OK\u001b[0m\n",
            "\u001b[32mINFO\u001b[0m:     99.225.251.17:0 - \"\u001b[1mGET /assets/page-BukXK1Aa.js HTTP/1.1\u001b[0m\" \u001b[32m200 OK\u001b[0m\n",
            "\u001b[32mINFO\u001b[0m:     99.225.251.17:0 - \"\u001b[1mGET /assets/index-D-mtoBj3.js HTTP/1.1\u001b[0m\" \u001b[32m200 OK\u001b[0m\n",
            "\u001b[32mINFO\u001b[0m:     99.225.251.17:0 - \"\u001b[1mGET /favicon.ico HTTP/1.1\u001b[0m\" \u001b[32m200 OK\u001b[0m\n",
            "\u001b[32mINFO\u001b[0m:     99.225.251.17:0 - \"\u001b[1mGET /assets/DisplayDate-DkCy54Bp.js HTTP/1.1\u001b[0m\" \u001b[32m200 OK\u001b[0m\n",
            "\u001b[32mINFO\u001b[0m:     99.225.251.17:0 - \"\u001b[1mGET /assets/Lock-CmIn0szs.js HTTP/1.1\u001b[0m\" \u001b[32m200 OK\u001b[0m\n",
            "\u001b[32mINFO\u001b[0m:     99.225.251.17:0 - \"\u001b[1mGET /assets/page-DuqYMYmH.js HTTP/1.1\u001b[0m\" \u001b[32m200 OK\u001b[0m\n",
            "\u001b[32mINFO\u001b[0m:     99.225.251.17:0 - \"\u001b[1mGET /assets/ComponentBadge-gKR1OIwG.js HTTP/1.1\u001b[0m\" \u001b[32m200 OK\u001b[0m\n",
            "\u001b[32mINFO\u001b[0m:     99.225.251.17:0 - \"\u001b[1mGET /assets/components-Br2ezRib.js HTTP/1.1\u001b[0m\" \u001b[32m200 OK\u001b[0m\n",
            "\u001b[32mINFO\u001b[0m:     99.225.251.17:0 - \"\u001b[1mGET /api/v1/info HTTP/1.1\u001b[0m\" \u001b[32m200 OK\u001b[0m\n",
            "\u001b[32mINFO\u001b[0m:     99.225.251.17:0 - \"\u001b[1mGET /assets/persist-CfJMar_k.js HTTP/1.1\u001b[0m\" \u001b[32m200 OK\u001b[0m\n",
            "\u001b[32mINFO\u001b[0m:     99.225.251.17:0 - \"\u001b[1mGET /assets/ProviderIcon-C16CCIN4.js HTTP/1.1\u001b[0m\" \u001b[32m200 OK\u001b[0m\n",
            "\u001b[32mINFO\u001b[0m:     99.225.251.17:0 - \"\u001b[1mGET /assets/create-stack-F29xAUEx.js HTTP/1.1\u001b[0m\" \u001b[32m200 OK\u001b[0m\n",
            "\u001b[32mINFO\u001b[0m:     99.225.251.17:0 - \"\u001b[1mGET /assets/page-p0BhSAWx.js HTTP/1.1\u001b[0m\" \u001b[32m200 OK\u001b[0m\n",
            "\u001b[32mINFO\u001b[0m:     99.225.251.17:0 - \"\u001b[1mGET /assets/InlineAvatar-CA3DFMcM.js HTTP/1.1\u001b[0m\" \u001b[32m200 OK\u001b[0m\n",
            "\u001b[32mINFO\u001b[0m:     99.225.251.17:0 - \"\u001b[1mGET /assets/page-BXarY9K2.js HTTP/1.1\u001b[0m\" \u001b[32m200 OK\u001b[0m\n",
            "\u001b[32mINFO\u001b[0m:     99.225.251.17:0 - \"\u001b[1mGET /assets/index-5GJ5ysEZ.js HTTP/1.1\u001b[0m\" \u001b[32m200 OK\u001b[0m\n",
            "\u001b[32mINFO\u001b[0m:     99.225.251.17:0 - \"\u001b[1mGET /assets/chevron-down-Cwb-W_B_.js HTTP/1.1\u001b[0m\" \u001b[32m200 OK\u001b[0m\n",
            "\u001b[32mINFO\u001b[0m:     99.225.251.17:0 - \"\u001b[1mGET /assets/page-B1n7_W7z.js HTTP/1.1\u001b[0m\" \u001b[32m200 OK\u001b[0m\n",
            "\u001b[32mINFO\u001b[0m:     99.225.251.17:0 - \"\u001b[1mGET /assets/Commands-Bf-rd1z8.js HTTP/1.1\u001b[0m\" \u001b[32m200 OK\u001b[0m\n",
            "\u001b[32mINFO\u001b[0m:     99.225.251.17:0 - \"\u001b[1mGET /assets/page-Bbf_oBjn.js HTTP/1.1\u001b[0m\" \u001b[32m200 OK\u001b[0m\n",
            "\u001b[32mINFO\u001b[0m:     99.225.251.17:0 - \"\u001b[1mGET /assets/dots-horizontal-C6K59vUm.js HTTP/1.1\u001b[0m\" \u001b[32m200 OK\u001b[0m\n",
            "\u001b[32mINFO\u001b[0m:     99.225.251.17:0 - \"\u001b[1mGET /assets/page-DOmIZ2ra.js HTTP/1.1\u001b[0m\" \u001b[32m200 OK\u001b[0m\n",
            "\u001b[32mINFO\u001b[0m:     99.225.251.17:0 - \"\u001b[1mGET /assets/docker-BFAFXr2_.js HTTP/1.1\u001b[0m\" \u001b[32m200 OK\u001b[0m\n",
            "\u001b[32mINFO\u001b[0m:     99.225.251.17:0 - \"\u001b[1mGET /assets/page-uORspyRu.js HTTP/1.1\u001b[0m\" \u001b[32m200 OK\u001b[0m\n",
            "\u001b[32mINFO\u001b[0m:     99.225.251.17:0 - \"\u001b[1mGET /assets/page-6mfzecin.js HTTP/1.1\u001b[0m\" \u001b[32m200 OK\u001b[0m\n",
            "\u001b[32mINFO\u001b[0m:     99.225.251.17:0 - \"\u001b[1mGET /assets/page-DYVmJ9_w.js HTTP/1.1\u001b[0m\" \u001b[32m200 OK\u001b[0m\n",
            "\u001b[32mINFO\u001b[0m:     99.225.251.17:0 - \"\u001b[1mGET /assets/link-external-BT2L8hAQ.js HTTP/1.1\u001b[0m\" \u001b[32m200 OK\u001b[0m\n",
            "\u001b[32mINFO\u001b[0m:     99.225.251.17:0 - \"\u001b[1mGET /assets/CollapsibleCard-BhutZbBL.js HTTP/1.1\u001b[0m\" \u001b[32m200 OK\u001b[0m\n",
            "\u001b[32mINFO\u001b[0m:     99.225.251.17:0 - \"\u001b[1mGET /assets/update-server-settings-mutation-FGVP7X2U.js HTTP/1.1\u001b[0m\" \u001b[32m200 OK\u001b[0m\n",
            "\u001b[32mINFO\u001b[0m:     99.225.251.17:0 - \"\u001b[1mGET /assets/delete-run-CP0pcJ3U.js HTTP/1.1\u001b[0m\" \u001b[32m200 OK\u001b[0m\n",
            "\u001b[32mINFO\u001b[0m:     99.225.251.17:0 - \"\u001b[1mGET /assets/code-browser-BJYErIjr.js HTTP/1.1\u001b[0m\" \u001b[32m200 OK\u001b[0m\n",
            "\u001b[32mINFO\u001b[0m:     99.225.251.17:0 - \"\u001b[1mGET /assets/ProviderRadio-D3FuCHf3.js HTTP/1.1\u001b[0m\" \u001b[32m200 OK\u001b[0m\n",
            "\u001b[32mINFO\u001b[0m:     99.225.251.17:0 - \"\u001b[1mGET /assets/Partials-QLOZw624.js HTTP/1.1\u001b[0m\" \u001b[32m200 OK\u001b[0m\n",
            "\u001b[32mINFO\u001b[0m:     99.225.251.17:0 - \"\u001b[1mGET /assets/page-8kYmrh0B.js HTTP/1.1\u001b[0m\" \u001b[32m200 OK\u001b[0m\n",
            "\u001b[32mINFO\u001b[0m:     99.225.251.17:0 - \"\u001b[1mGET /assets/layout-Dru15_XR.js HTTP/1.1\u001b[0m\" \u001b[32m200 OK\u001b[0m\n",
            "\u001b[32mINFO\u001b[0m:     99.225.251.17:0 - \"\u001b[1mGET /assets/Error-BhwdmqK7.js HTTP/1.1\u001b[0m\" \u001b[32m200 OK\u001b[0m\n",
            "\u001b[32mINFO\u001b[0m:     99.225.251.17:0 - \"\u001b[1mGET /assets/logs-GiDJXbLS.js HTTP/1.1\u001b[0m\" \u001b[32m200 OK\u001b[0m\n",
            "\u001b[32mINFO\u001b[0m:     99.225.251.17:0 - \"\u001b[1mGET /assets/stack-detail-query-DQcyzG-2.js HTTP/1.1\u001b[0m\" \u001b[32m200 OK\u001b[0m\n",
            "\u001b[32mINFO\u001b[0m:     99.225.251.17:0 - \"\u001b[1mGET /assets/page-DMSLXKGT.js HTTP/1.1\u001b[0m\" \u001b[32m200 OK\u001b[0m\n",
            "\u001b[32mINFO\u001b[0m:     99.225.251.17:0 - \"\u001b[1mGET /assets/zod-uFd1wBcd.js HTTP/1.1\u001b[0m\" \u001b[32m200 OK\u001b[0m\n",
            "\u001b[32mINFO\u001b[0m:     99.225.251.17:0 - \"\u001b[1mGET /assets/url-CbAPzsmT.js HTTP/1.1\u001b[0m\" \u001b[32m200 OK\u001b[0m\n",
            "\u001b[32mINFO\u001b[0m:     99.225.251.17:0 - \"\u001b[1mGET /assets/Infobox-BTK_EUKT.js HTTP/1.1\u001b[0m\" \u001b[32m200 OK\u001b[0m\n",
            "\u001b[32mINFO\u001b[0m:     99.225.251.17:0 - \"\u001b[1mGET /assets/page-CHaQkFK5.js HTTP/1.1\u001b[0m\" \u001b[32m200 OK\u001b[0m\n",
            "\u001b[32mINFO\u001b[0m:     99.225.251.17:0 - \"\u001b[1mGET /assets/page-CS0SYFK8.js HTTP/1.1\u001b[0m\" \u001b[32m200 OK\u001b[0m\n",
            "\u001b[32mINFO\u001b[0m:     99.225.251.17:0 - \"\u001b[1mGET /assets/sharedSchema-vub0rii3.js HTTP/1.1\u001b[0m\" \u001b[32m200 OK\u001b[0m\n",
            "\u001b[32mINFO\u001b[0m:     99.225.251.17:0 - \"\u001b[1mGET /assets/check-circle-DOoS4yhF.js HTTP/1.1\u001b[0m\" \u001b[32m200 OK\u001b[0m\n",
            "\u001b[32mINFO\u001b[0m:     99.225.251.17:0 - \"\u001b[1mGET /assets/page-DGM1CbYT.js HTTP/1.1\u001b[0m\" \u001b[32m200 OK\u001b[0m\n",
            "\u001b[32mINFO\u001b[0m:     99.225.251.17:0 - \"\u001b[1mGET /assets/page-BZZhLo2u.js HTTP/1.1\u001b[0m\" \u001b[32m200 OK\u001b[0m\n",
            "\u001b[32mINFO\u001b[0m:     99.225.251.17:0 - \"\u001b[1mGET /assets/index.esm-BE1uqCX5.js HTTP/1.1\u001b[0m\" \u001b[32m200 OK\u001b[0m\n",
            "\u001b[32mINFO\u001b[0m:     99.225.251.17:0 - \"\u001b[1mGET /assets/MarkdownVisualization-DS05sfBm.js HTTP/1.1\u001b[0m\" \u001b[32m200 OK\u001b[0m\n",
            "\u001b[32mINFO\u001b[0m:     99.225.251.17:0 - \"\u001b[1mGET /assets/Helpbox-0pBpTwTm.js HTTP/1.1\u001b[0m\" \u001b[32m200 OK\u001b[0m\n",
            "\u001b[32mINFO\u001b[0m:     99.225.251.17:0 - \"\u001b[1mGET /assets/gcp-Dj6ntk0L.js HTTP/1.1\u001b[0m\" \u001b[32m200 OK\u001b[0m\n",
            "\u001b[32mINFO\u001b[0m:     99.225.251.17:0 - \"\u001b[1mGET /assets/404-Y50hSt65.js HTTP/1.1\u001b[0m\" \u001b[32m200 OK\u001b[0m\n",
            "\u001b[32mINFO\u001b[0m:     99.225.251.17:0 - \"\u001b[1mGET /assets/Tick-DJTCF0Re.js HTTP/1.1\u001b[0m\" \u001b[32m200 OK\u001b[0m\n",
            "\u001b[32mINFO\u001b[0m:     99.225.251.17:0 - \"\u001b[1mGET /assets/chevron-right-double-c9H46Kl8.js HTTP/1.1\u001b[0m\" \u001b[32m200 OK\u001b[0m\n",
            "\u001b[32mINFO\u001b[0m:     99.225.251.17:0 - \"\u001b[1mGET /assets/copy-CaGlDsUy.js HTTP/1.1\u001b[0m\" \u001b[32m200 OK\u001b[0m\n",
            "\u001b[32mINFO\u001b[0m:     99.225.251.17:0 - \"\u001b[1mGET /assets/page-BjjuBvZG.js HTTP/1.1\u001b[0m\" \u001b[32m200 OK\u001b[0m\n",
            "\u001b[32mINFO\u001b[0m:     99.225.251.17:0 - \"\u001b[1mGET /assets/help-CwN931fX.js HTTP/1.1\u001b[0m\" \u001b[32m200 OK\u001b[0m\n",
            "\u001b[32mINFO\u001b[0m:     99.225.251.17:0 - \"\u001b[1mGET /assets/EmptyState-Cs3DEmso.js HTTP/1.1\u001b[0m\" \u001b[32m200 OK\u001b[0m\n",
            "\u001b[32mINFO\u001b[0m:     99.225.251.17:0 - \"\u001b[1mGET /assets/trash-DUWZWzse.js HTTP/1.1\u001b[0m\" \u001b[32m200 OK\u001b[0m\n",
            "\u001b[32mINFO\u001b[0m:     99.225.251.17:0 - \"\u001b[1mGET /assets/CsvVizualization-QSbjrfxw.js HTTP/1.1\u001b[0m\" \u001b[32m200 OK\u001b[0m\n",
            "\u001b[32mINFO\u001b[0m:     99.225.251.17:0 - \"\u001b[1mGET /assets/form-schemas-BKXwSDK2.js HTTP/1.1\u001b[0m\" \u001b[32m200 OK\u001b[0m\n",
            "\u001b[32mINFO\u001b[0m:     99.225.251.17:0 - \"\u001b[1mGET /assets/plus-Bc8eLSDM.js HTTP/1.1\u001b[0m\" \u001b[32m200 OK\u001b[0m\n",
            "\u001b[32mINFO\u001b[0m:     99.225.251.17:0 - \"\u001b[1mGET /assets/UsageReason-CKw0juLF.js HTTP/1.1\u001b[0m\" \u001b[32m200 OK\u001b[0m\n",
            "\u001b[32mINFO\u001b[0m:     99.225.251.17:0 - \"\u001b[1mGET /assets/kubernetes-BjbR6D-1.js HTTP/1.1\u001b[0m\" \u001b[32m200 OK\u001b[0m\n",
            "\u001b[32mINFO\u001b[0m:     99.225.251.17:0 - \"\u001b[1mGET /assets/CopyButton-DcFHidFJ.js HTTP/1.1\u001b[0m\" \u001b[32m200 OK\u001b[0m\n",
            "\u001b[32mINFO\u001b[0m:     99.225.251.17:0 - \"\u001b[1mGET /assets/UpdatePasswordSchemas-CUm-DMpw.js HTTP/1.1\u001b[0m\" \u001b[32m200 OK\u001b[0m\n",
            "\u001b[32mINFO\u001b[0m:     99.225.251.17:0 - \"\u001b[1mGET /assets/CodeSnippet-IxXNxUDa.js HTTP/1.1\u001b[0m\" \u001b[32m200 OK\u001b[0m\n",
            "\u001b[32mINFO\u001b[0m:     99.225.251.17:0 - \"\u001b[1mGET /assets/page-CKHNAq7z.js HTTP/1.1\u001b[0m\" \u001b[32m200 OK\u001b[0m\n",
            "\u001b[32mINFO\u001b[0m:     99.225.251.17:0 - \"\u001b[1mGET /assets/package-DYKZ5jKW.js HTTP/1.1\u001b[0m\" \u001b[32m200 OK\u001b[0m\n",
            "\u001b[32mINFO\u001b[0m:     99.225.251.17:0 - \"\u001b[1mGET /assets/cloud-only-BB4BVa6E.js HTTP/1.1\u001b[0m\" \u001b[32m200 OK\u001b[0m\n",
            "\u001b[32mINFO\u001b[0m:     99.225.251.17:0 - \"\u001b[1mGET /assets/page-3qPX9WYH.js HTTP/1.1\u001b[0m\" \u001b[32m200 OK\u001b[0m\n",
            "\u001b[32mINFO\u001b[0m:     99.225.251.17:0 - \"\u001b[1mGET /assets/rocket-SESCGQXm.js HTTP/1.1\u001b[0m\" \u001b[32m200 OK\u001b[0m\n",
            "\u001b[32mINFO\u001b[0m:     99.225.251.17:0 - \"\u001b[1mGET /assets/page-MAXyfXBq.js HTTP/1.1\u001b[0m\" \u001b[32m200 OK\u001b[0m\n",
            "\u001b[32mINFO\u001b[0m:     99.225.251.17:0 - \"\u001b[1mGET /assets/page-miU2rhYG.js HTTP/1.1\u001b[0m\" \u001b[32m200 OK\u001b[0m\n",
            "\u001b[32mINFO\u001b[0m:     99.225.251.17:0 - \"\u001b[1mGET /assets/page-DRfcRK1w.js HTTP/1.1\u001b[0m\" \u001b[32m200 OK\u001b[0m\n",
            "\u001b[32mINFO\u001b[0m:     99.225.251.17:0 - \"\u001b[1mGET /assets/login-mutation-ax6iL2Mb.js HTTP/1.1\u001b[0m\" \u001b[32m200 OK\u001b[0m\n",
            "\u001b[32mINFO\u001b[0m:     99.225.251.17:0 - \"\u001b[1mGET /assets/zod-uFd1wBcd.js HTTP/1.1\u001b[0m\" \u001b[32m200 OK\u001b[0m\n",
            "\u001b[32mINFO\u001b[0m:     99.225.251.17:0 - \"\u001b[1mGET /assets/index.esm-BE1uqCX5.js HTTP/1.1\u001b[0m\" \u001b[32m200 OK\u001b[0m\n",
            "\u001b[32mINFO\u001b[0m:     99.225.251.17:0 - \"\u001b[1mGET /assets/inter-latin-600-normal-B2Ssfs8e.woff2 HTTP/1.1\u001b[0m\" \u001b[32m200 OK\u001b[0m\n",
            "\u001b[32mINFO\u001b[0m:     99.225.251.17:0 - \"\u001b[1mGET /assets/inter-latin-500-normal-kWhwEdDH.woff2 HTTP/1.1\u001b[0m\" \u001b[32m200 OK\u001b[0m\n",
            "\u001b[32mINFO\u001b[0m:     99.225.251.17:0 - \"\u001b[1mPOST /api/v1/login HTTP/1.1\u001b[0m\" \u001b[32m200 OK\u001b[0m\n"
          ]
        },
        {
          "output_type": "stream",
          "name": "stderr",
          "text": [
            "INFO:pyngrok.process.ngrok:t=2024-11-16T22:53:14+0000 lvl=info msg=\"join connections\" obj=join id=daa805689ad8 l=127.0.0.1:8237 r=99.225.251.17:57096\n"
          ]
        },
        {
          "output_type": "stream",
          "name": "stdout",
          "text": [
            "\u001b[1;35mGot token from cookie\u001b[0m\n",
            "\u001b[1;35mGot token from cookie\u001b[0m\n",
            "\u001b[32mINFO\u001b[0m:     99.225.251.17:0 - \"\u001b[1mGET /api/v1/current-user HTTP/1.1\u001b[0m\" \u001b[32m200 OK\u001b[0m\n",
            "\u001b[32mINFO\u001b[0m:     99.225.251.17:0 - \"\u001b[1mGET /api/v1/settings HTTP/1.1\u001b[0m\" \u001b[32m200 OK\u001b[0m\n",
            "\u001b[1;35mt=2024-11-16T22:53:14+0000 lvl=info msg=\"join connections\" obj=join id=daa805689ad8 l=127.0.0.1:8237 r=99.225.251.17:57096\u001b[0m\n"
          ]
        },
        {
          "output_type": "stream",
          "name": "stderr",
          "text": [
            "INFO:pyngrok.process.ngrok:t=2024-11-16T22:53:14+0000 lvl=info msg=\"join connections\" obj=join id=82970153b2c5 l=127.0.0.1:8237 r=99.225.251.17:57096\n"
          ]
        },
        {
          "output_type": "stream",
          "name": "stdout",
          "text": [
            "\u001b[1;35mGot token from cookie\u001b[0m\n",
            "\u001b[32mINFO\u001b[0m:     99.225.251.17:0 - \"\u001b[1mGET /assets/page-MAXyfXBq.js HTTP/1.1\u001b[0m\" \u001b[32m200 OK\u001b[0m\n",
            "\u001b[32mINFO\u001b[0m:     99.225.251.17:0 - \"\u001b[1mGET /api/v1/current-user HTTP/1.1\u001b[0m\" \u001b[32m200 OK\u001b[0m\n",
            "\u001b[32mINFO\u001b[0m:     99.225.251.17:0 - \"\u001b[1mGET /assets/inter-latin-400-normal-BT1H-PT_.woff2 HTTP/1.1\u001b[0m\" \u001b[32m200 OK\u001b[0m\n",
            "\u001b[1;35mt=2024-11-16T22:53:14+0000 lvl=info msg=\"join connections\" obj=join id=82970153b2c5 l=127.0.0.1:8237 r=99.225.251.17:57096\u001b[0m\n"
          ]
        },
        {
          "output_type": "stream",
          "name": "stderr",
          "text": [
            "INFO:pyngrok.process.ngrok:t=2024-11-16T22:53:14+0000 lvl=info msg=\"join connections\" obj=join id=87feab982edf l=127.0.0.1:8237 r=99.225.251.17:57096\n"
          ]
        },
        {
          "output_type": "stream",
          "name": "stdout",
          "text": [
            "\u001b[1;35mt=2024-11-16T22:53:14+0000 lvl=info msg=\"join connections\" obj=join id=87feab982edf l=127.0.0.1:8237 r=99.225.251.17:57096\u001b[0m\n"
          ]
        },
        {
          "output_type": "stream",
          "name": "stderr",
          "text": [
            "INFO:pyngrok.process.ngrok:t=2024-11-16T22:53:14+0000 lvl=info msg=\"join connections\" obj=join id=dca6d6baea28 l=127.0.0.1:8237 r=99.225.251.17:57096\n"
          ]
        },
        {
          "output_type": "stream",
          "name": "stdout",
          "text": [
            "\u001b[1;35mt=2024-11-16T22:53:14+0000 lvl=info msg=\"join connections\" obj=join id=dca6d6baea28 l=127.0.0.1:8237 r=99.225.251.17:57096\u001b[0m\n"
          ]
        },
        {
          "output_type": "stream",
          "name": "stderr",
          "text": [
            "INFO:pyngrok.process.ngrok:t=2024-11-16T22:53:14+0000 lvl=info msg=\"join connections\" obj=join id=beb3452ffb94 l=127.0.0.1:8237 r=99.225.251.17:57096\n"
          ]
        },
        {
          "output_type": "stream",
          "name": "stdout",
          "text": [
            "\u001b[1;35mt=2024-11-16T22:53:14+0000 lvl=info msg=\"join connections\" obj=join id=beb3452ffb94 l=127.0.0.1:8237 r=99.225.251.17:57096\u001b[0m\n"
          ]
        },
        {
          "output_type": "stream",
          "name": "stderr",
          "text": [
            "INFO:pyngrok.process.ngrok:t=2024-11-16T22:53:14+0000 lvl=info msg=\"join connections\" obj=join id=d9ab760580a2 l=127.0.0.1:8237 r=99.225.251.17:57096\n"
          ]
        },
        {
          "output_type": "stream",
          "name": "stdout",
          "text": [
            "\u001b[32mINFO\u001b[0m:     99.225.251.17:0 - \"\u001b[1mGET /assets/form-schemas-BKXwSDK2.js HTTP/1.1\u001b[0m\" \u001b[32m200 OK\u001b[0m\n",
            "\u001b[32mINFO\u001b[0m:     99.225.251.17:0 - \"\u001b[1mGET /assets/UsageReason-CKw0juLF.js HTTP/1.1\u001b[0m\" \u001b[32m200 OK\u001b[0m\n",
            "\u001b[32mINFO\u001b[0m:     99.225.251.17:0 - \"\u001b[1mGET /assets/url-CbAPzsmT.js HTTP/1.1\u001b[0m\" \u001b[32m200 OK\u001b[0m\n",
            "\u001b[1;35mt=2024-11-16T22:53:14+0000 lvl=info msg=\"join connections\" obj=join id=d9ab760580a2 l=127.0.0.1:8237 r=99.225.251.17:57096\u001b[0m\n"
          ]
        },
        {
          "output_type": "stream",
          "name": "stderr",
          "text": [
            "INFO:pyngrok.process.ngrok:t=2024-11-16T22:53:14+0000 lvl=info msg=\"join connections\" obj=join id=3a5edb9e498b l=127.0.0.1:8237 r=99.225.251.17:57096\n"
          ]
        },
        {
          "output_type": "stream",
          "name": "stdout",
          "text": [
            "\u001b[1;35mt=2024-11-16T22:53:14+0000 lvl=info msg=\"join connections\" obj=join id=3a5edb9e498b l=127.0.0.1:8237 r=99.225.251.17:57096\u001b[0m\n",
            "\u001b[32mINFO\u001b[0m:     99.225.251.17:0 - \"\u001b[1mGET /assets/kubernetes-BjbR6D-1.js HTTP/1.1\u001b[0m\" \u001b[32m200 OK\u001b[0m\n",
            "\u001b[32mINFO\u001b[0m:     99.225.251.17:0 - \"\u001b[1mGET /assets/check-circle-DOoS4yhF.js HTTP/1.1\u001b[0m\" \u001b[32m200 OK\u001b[0m\n",
            "\u001b[32mINFO\u001b[0m:     99.225.251.17:0 - \"\u001b[1mGET /assets/gcp-Dj6ntk0L.js HTTP/1.1\u001b[0m\" \u001b[32m200 OK\u001b[0m\n",
            "\u001b[32mINFO\u001b[0m:     99.225.251.17:0 - \"\u001b[1mGET /assets/rocket-SESCGQXm.js HTTP/1.1\u001b[0m\" \u001b[32m200 OK\u001b[0m\n",
            "\u001b[32mINFO\u001b[0m:     99.225.251.17:0 - \"\u001b[1mGET /assets/UpdatePasswordSchemas-CUm-DMpw.js HTTP/1.1\u001b[0m\" \u001b[32m200 OK\u001b[0m\n",
            "\u001b[1;35mGot token from cookie\u001b[0m\n",
            "\u001b[32mINFO\u001b[0m:     99.225.251.17:0 - \"\u001b[1mGET /api/v1/current-user HTTP/1.1\u001b[0m\" \u001b[32m200 OK\u001b[0m\n"
          ]
        },
        {
          "output_type": "stream",
          "name": "stderr",
          "text": [
            "INFO:pyngrok.process.ngrok:t=2024-11-16T22:53:27+0000 lvl=info msg=\"join connections\" obj=join id=5e407838eabf l=127.0.0.1:8237 r=99.225.251.17:57096\n"
          ]
        },
        {
          "output_type": "stream",
          "name": "stdout",
          "text": [
            "\u001b[1;35mt=2024-11-16T22:53:27+0000 lvl=info msg=\"join connections\" obj=join id=5e407838eabf l=127.0.0.1:8237 r=99.225.251.17:57096\u001b[0m\n",
            "\u001b[1;35mGot token from cookie\u001b[0m\n"
          ]
        },
        {
          "output_type": "stream",
          "name": "stderr",
          "text": [
            "INFO:pyngrok.process.ngrok:t=2024-11-16T22:53:28+0000 lvl=info msg=\"join connections\" obj=join id=859436c9d822 l=127.0.0.1:8237 r=99.225.251.17:57096\n"
          ]
        },
        {
          "output_type": "stream",
          "name": "stdout",
          "text": [
            "\u001b[32mINFO\u001b[0m:     99.225.251.17:0 - \"\u001b[1mPUT /api/v1/current-user HTTP/1.1\u001b[0m\" \u001b[32m200 OK\u001b[0m\n",
            "\u001b[1;35mGot token from cookie\u001b[0m\n",
            "\u001b[32mINFO\u001b[0m:     99.225.251.17:0 - \"\u001b[1mGET /api/v1/current-user HTTP/1.1\u001b[0m\" \u001b[32m200 OK\u001b[0m\n",
            "\u001b[1;35mt=2024-11-16T22:53:28+0000 lvl=info msg=\"join connections\" obj=join id=859436c9d822 l=127.0.0.1:8237 r=99.225.251.17:57096\u001b[0m\n"
          ]
        },
        {
          "output_type": "stream",
          "name": "stderr",
          "text": [
            "INFO:pyngrok.process.ngrok:t=2024-11-16T22:53:28+0000 lvl=info msg=\"join connections\" obj=join id=449dca1b4d35 l=127.0.0.1:8237 r=99.225.251.17:57096\n"
          ]
        },
        {
          "output_type": "stream",
          "name": "stdout",
          "text": [
            "\u001b[32mINFO\u001b[0m:     99.225.251.17:0 - \"\u001b[1mGET /assets/hamza-NKKOZz1I.webp HTTP/1.1\u001b[0m\" \u001b[32m200 OK\u001b[0m\n",
            "\u001b[32mINFO\u001b[0m:     99.225.251.17:0 - \"\u001b[1mGET /assets/adam-e-y0WnB_.webp HTTP/1.1\u001b[0m\" \u001b[32m200 OK\u001b[0m\n",
            "\u001b[1;35mt=2024-11-16T22:53:28+0000 lvl=info msg=\"join connections\" obj=join id=449dca1b4d35 l=127.0.0.1:8237 r=99.225.251.17:57096\u001b[0m\n"
          ]
        },
        {
          "output_type": "stream",
          "name": "stderr",
          "text": [
            "INFO:pyngrok.process.ngrok:t=2024-11-16T22:53:28+0000 lvl=info msg=\"join connections\" obj=join id=37b993f78ade l=127.0.0.1:8237 r=99.225.251.17:57096\n"
          ]
        },
        {
          "output_type": "stream",
          "name": "stdout",
          "text": [
            "\u001b[1;35mt=2024-11-16T22:53:28+0000 lvl=info msg=\"join connections\" obj=join id=37b993f78ade l=127.0.0.1:8237 r=99.225.251.17:57096\u001b[0m\n"
          ]
        },
        {
          "output_type": "stream",
          "name": "stderr",
          "text": [
            "INFO:pyngrok.process.ngrok:t=2024-11-16T22:53:28+0000 lvl=info msg=\"join connections\" obj=join id=d0ef4445a6f4 l=127.0.0.1:8237 r=99.225.251.17:57096\n"
          ]
        },
        {
          "output_type": "stream",
          "name": "stdout",
          "text": [
            "\u001b[1;35mt=2024-11-16T22:53:28+0000 lvl=info msg=\"join connections\" obj=join id=d0ef4445a6f4 l=127.0.0.1:8237 r=99.225.251.17:57096\u001b[0m\n",
            "\u001b[32mINFO\u001b[0m:     99.225.251.17:0 - \"\u001b[1mGET /assets/baris-C0ZrZ10g.webp HTTP/1.1\u001b[0m\" \u001b[32m200 OK\u001b[0m\n",
            "\u001b[32mINFO\u001b[0m:     99.225.251.17:0 - \"\u001b[1mGET /assets/alex-DcCuDHPg.webp HTTP/1.1\u001b[0m\" \u001b[32m200 OK\u001b[0m\n",
            "\u001b[32mINFO\u001b[0m:     99.225.251.17:0 - \"\u001b[1mGET /assets/stefan-B08Ftbba.webp HTTP/1.1\u001b[0m\" \u001b[32m200 OK\u001b[0m\n",
            "\u001b[32mINFO\u001b[0m:     99.225.251.17:0 - \"\u001b[1mGET /assets/hamza-NKKOZz1I.webp HTTP/1.1\u001b[0m\" \u001b[32m200 OK\u001b[0m\n",
            "\u001b[32mINFO\u001b[0m:     99.225.251.17:0 - \"\u001b[1mGET /assets/baris-C0ZrZ10g.webp HTTP/1.1\u001b[0m\" \u001b[32m200 OK\u001b[0m\n",
            "\u001b[32mINFO\u001b[0m:     99.225.251.17:0 - \"\u001b[1mGET /assets/adam-e-y0WnB_.webp HTTP/1.1\u001b[0m\" \u001b[32m200 OK\u001b[0m\n",
            "\u001b[32mINFO\u001b[0m:     99.225.251.17:0 - \"\u001b[1mGET /assets/alex-DcCuDHPg.webp HTTP/1.1\u001b[0m\" \u001b[32m200 OK\u001b[0m\n",
            "\u001b[32mINFO\u001b[0m:     99.225.251.17:0 - \"\u001b[1mGET /assets/stefan-B08Ftbba.webp HTTP/1.1\u001b[0m\" \u001b[32m200 OK\u001b[0m\n"
          ]
        },
        {
          "output_type": "stream",
          "name": "stderr",
          "text": [
            "INFO:pyngrok.process.ngrok:t=2024-11-16T22:53:31+0000 lvl=info msg=\"join connections\" obj=join id=da4fcd8ff739 l=127.0.0.1:8237 r=99.225.251.17:57096\n"
          ]
        },
        {
          "output_type": "stream",
          "name": "stdout",
          "text": [
            "\u001b[32mINFO\u001b[0m:     99.225.251.17:0 - \"\u001b[1mGET /assets/CodeSnippet-Bbx6fIb6.css HTTP/1.1\u001b[0m\" \u001b[32m200 OK\u001b[0m\n",
            "\u001b[32mINFO\u001b[0m:     99.225.251.17:0 - \"\u001b[1mGET /assets/tour-cover-BYfeen6M.webp HTTP/1.1\u001b[0m\" \u001b[32m200 OK\u001b[0m\n",
            "\u001b[32mINFO\u001b[0m:     99.225.251.17:0 - \"\u001b[1mGET /assets/page-DGM1CbYT.js HTTP/1.1\u001b[0m\" \u001b[32m200 OK\u001b[0m\n",
            "\u001b[1;35mt=2024-11-16T22:53:31+0000 lvl=info msg=\"join connections\" obj=join id=da4fcd8ff739 l=127.0.0.1:8237 r=99.225.251.17:57096\u001b[0m\n"
          ]
        },
        {
          "output_type": "stream",
          "name": "stderr",
          "text": [
            "INFO:pyngrok.process.ngrok:t=2024-11-16T22:53:31+0000 lvl=info msg=\"join connections\" obj=join id=426bb014654a l=127.0.0.1:8237 r=99.225.251.17:57096\n"
          ]
        },
        {
          "output_type": "stream",
          "name": "stdout",
          "text": [
            "\u001b[32mINFO\u001b[0m:     99.225.251.17:0 - \"\u001b[1mGET /assets/package-DYKZ5jKW.js HTTP/1.1\u001b[0m\" \u001b[32m200 OK\u001b[0m\n",
            "\u001b[32mINFO\u001b[0m:     99.225.251.17:0 - \"\u001b[1mGET /assets/chevron-down-Cwb-W_B_.js HTTP/1.1\u001b[0m\" \u001b[32m200 OK\u001b[0m\n",
            "\u001b[1;35mt=2024-11-16T22:53:31+0000 lvl=info msg=\"join connections\" obj=join id=426bb014654a l=127.0.0.1:8237 r=99.225.251.17:57096\u001b[0m\n"
          ]
        },
        {
          "output_type": "stream",
          "name": "stderr",
          "text": [
            "INFO:pyngrok.process.ngrok:t=2024-11-16T22:53:31+0000 lvl=info msg=\"join connections\" obj=join id=3b283f4788cd l=127.0.0.1:8237 r=99.225.251.17:57096\n"
          ]
        },
        {
          "output_type": "stream",
          "name": "stdout",
          "text": [
            "\u001b[1;35mt=2024-11-16T22:53:31+0000 lvl=info msg=\"join connections\" obj=join id=3b283f4788cd l=127.0.0.1:8237 r=99.225.251.17:57096\u001b[0m\n"
          ]
        },
        {
          "output_type": "stream",
          "name": "stderr",
          "text": [
            "INFO:pyngrok.process.ngrok:t=2024-11-16T22:53:31+0000 lvl=info msg=\"join connections\" obj=join id=6b4cb304d18d l=127.0.0.1:8237 r=99.225.251.17:57096\n"
          ]
        },
        {
          "output_type": "stream",
          "name": "stdout",
          "text": [
            "\u001b[1;35mt=2024-11-16T22:53:31+0000 lvl=info msg=\"join connections\" obj=join id=6b4cb304d18d l=127.0.0.1:8237 r=99.225.251.17:57096\u001b[0m\n"
          ]
        },
        {
          "output_type": "stream",
          "name": "stderr",
          "text": [
            "INFO:pyngrok.process.ngrok:t=2024-11-16T22:53:31+0000 lvl=info msg=\"join connections\" obj=join id=8120e70f343a l=127.0.0.1:8237 r=99.225.251.17:57096\n"
          ]
        },
        {
          "output_type": "stream",
          "name": "stdout",
          "text": [
            "\u001b[1;35mt=2024-11-16T22:53:31+0000 lvl=info msg=\"join connections\" obj=join id=8120e70f343a l=127.0.0.1:8237 r=99.225.251.17:57096\u001b[0m\n"
          ]
        },
        {
          "output_type": "stream",
          "name": "stderr",
          "text": [
            "INFO:pyngrok.process.ngrok:t=2024-11-16T22:53:31+0000 lvl=info msg=\"join connections\" obj=join id=4d5bb8d1ca4c l=127.0.0.1:8237 r=99.225.251.17:57096\n"
          ]
        },
        {
          "output_type": "stream",
          "name": "stdout",
          "text": [
            "\u001b[1;35mt=2024-11-16T22:53:31+0000 lvl=info msg=\"join connections\" obj=join id=4d5bb8d1ca4c l=127.0.0.1:8237 r=99.225.251.17:57096\u001b[0m\n"
          ]
        },
        {
          "output_type": "stream",
          "name": "stderr",
          "text": [
            "INFO:pyngrok.process.ngrok:t=2024-11-16T22:53:31+0000 lvl=info msg=\"join connections\" obj=join id=95daed539693 l=127.0.0.1:8237 r=99.225.251.17:57096\n"
          ]
        },
        {
          "output_type": "stream",
          "name": "stdout",
          "text": [
            "\u001b[1;35mt=2024-11-16T22:53:31+0000 lvl=info msg=\"join connections\" obj=join id=95daed539693 l=127.0.0.1:8237 r=99.225.251.17:57096\u001b[0m\n",
            "\u001b[32mINFO\u001b[0m:     99.225.251.17:0 - \"\u001b[1mGET /assets/plus-Bc8eLSDM.js HTTP/1.1\u001b[0m\" \u001b[32m200 OK\u001b[0m\n",
            "\u001b[32mINFO\u001b[0m:     99.225.251.17:0 - \"\u001b[1mGET /assets/Tick-DJTCF0Re.js HTTP/1.1\u001b[0m\" \u001b[32m200 OK\u001b[0m\n",
            "\u001b[32mINFO\u001b[0m:     99.225.251.17:0 - \"\u001b[1mGET /assets/Helpbox-0pBpTwTm.js HTTP/1.1\u001b[0m\" \u001b[32m200 OK\u001b[0m\n",
            "\u001b[32mINFO\u001b[0m:     99.225.251.17:0 - \"\u001b[1mGET /assets/CodeSnippet-IxXNxUDa.js HTTP/1.1\u001b[0m\" \u001b[32m200 OK\u001b[0m\n",
            "\u001b[32mINFO\u001b[0m:     99.225.251.17:0 - \"\u001b[1mGET /assets/copy-CaGlDsUy.js HTTP/1.1\u001b[0m\" \u001b[32m200 OK\u001b[0m\n",
            "\u001b[32mINFO\u001b[0m:     99.225.251.17:0 - \"\u001b[1mGET /assets/help-CwN931fX.js HTTP/1.1\u001b[0m\" \u001b[32m200 OK\u001b[0m\n",
            "\u001b[32mINFO\u001b[0m:     99.225.251.17:0 - \"\u001b[1mGET /assets/chevron-right-double-c9H46Kl8.js HTTP/1.1\u001b[0m\" \u001b[32m200 OK\u001b[0m\n"
          ]
        },
        {
          "output_type": "stream",
          "name": "stderr",
          "text": [
            "INFO:pyngrok.process.ngrok:t=2024-11-16T22:53:31+0000 lvl=info msg=\"join connections\" obj=join id=75be99027b0e l=127.0.0.1:8237 r=99.225.251.17:57096\n"
          ]
        },
        {
          "output_type": "stream",
          "name": "stdout",
          "text": [
            "\u001b[1;35mt=2024-11-16T22:53:31+0000 lvl=info msg=\"join connections\" obj=join id=75be99027b0e l=127.0.0.1:8237 r=99.225.251.17:57096\u001b[0m\n"
          ]
        },
        {
          "output_type": "stream",
          "name": "stderr",
          "text": [
            "INFO:pyngrok.process.ngrok:t=2024-11-16T22:53:31+0000 lvl=info msg=\"join connections\" obj=join id=0c4d046efc65 l=127.0.0.1:8237 r=99.225.251.17:57096\n"
          ]
        },
        {
          "output_type": "stream",
          "name": "stdout",
          "text": [
            "\u001b[1;35mt=2024-11-16T22:53:31+0000 lvl=info msg=\"join connections\" obj=join id=0c4d046efc65 l=127.0.0.1:8237 r=99.225.251.17:57096\u001b[0m\n"
          ]
        },
        {
          "output_type": "stream",
          "name": "stderr",
          "text": [
            "INFO:pyngrok.process.ngrok:t=2024-11-16T22:53:31+0000 lvl=info msg=\"join connections\" obj=join id=819358a89245 l=127.0.0.1:8237 r=99.225.251.17:57096\n"
          ]
        },
        {
          "output_type": "stream",
          "name": "stdout",
          "text": [
            "\u001b[1;35mt=2024-11-16T22:53:31+0000 lvl=info msg=\"join connections\" obj=join id=819358a89245 l=127.0.0.1:8237 r=99.225.251.17:57096\u001b[0m\n",
            "\u001b[32mINFO\u001b[0m:     99.225.251.17:0 - \"\u001b[1mGET /assets/tour-cover-BYfeen6M.webp HTTP/1.1\u001b[0m\" \u001b[32m200 OK\u001b[0m\n",
            "\u001b[32mINFO\u001b[0m:     99.225.251.17:0 - \"\u001b[1mGET /api/v1/info HTTP/1.1\u001b[0m\" \u001b[32m200 OK\u001b[0m\n",
            "\u001b[1;35mGot token from cookie\u001b[0m\n",
            "\u001b[1;35mGot token from cookie\u001b[0m\n",
            "\u001b[1;35mGot token from cookie\u001b[0m\n",
            "\u001b[32mINFO\u001b[0m:     99.225.251.17:0 - \"\u001b[1mGET /api/v1/settings HTTP/1.1\u001b[0m\" \u001b[32m200 OK\u001b[0m\n",
            "\u001b[32mINFO\u001b[0m:     99.225.251.17:0 - \"\u001b[1mGET /api/v1/current-user HTTP/1.1\u001b[0m\" \u001b[32m200 OK\u001b[0m\n",
            "\u001b[32mINFO\u001b[0m:     99.225.251.17:0 - \"\u001b[1mGET /api/v1/onboarding_state HTTP/1.1\u001b[0m\" \u001b[32m200 OK\u001b[0m\n",
            "\u001b[32mINFO\u001b[0m:     99.225.251.17:0 - \"\u001b[1mGET /api/v1/info HTTP/1.1\u001b[0m\" \u001b[32m200 OK\u001b[0m\n",
            "\u001b[1;35mGot token from cookie\u001b[0m\n",
            "\u001b[32mINFO\u001b[0m:     99.225.251.17:0 - \"\u001b[1mPUT /api/v1/current-user HTTP/1.1\u001b[0m\" \u001b[32m200 OK\u001b[0m\n",
            "\u001b[1;35mGot token from cookie\u001b[0m\n",
            "\u001b[32mINFO\u001b[0m:     99.225.251.17:0 - \"\u001b[1mGET /api/v1/current-user HTTP/1.1\u001b[0m\" \u001b[32m200 OK\u001b[0m\n"
          ]
        },
        {
          "output_type": "stream",
          "name": "stderr",
          "text": [
            "INFO:pyngrok.process.ngrok:t=2024-11-16T22:53:34+0000 lvl=info msg=\"join connections\" obj=join id=0288036af09a l=127.0.0.1:8237 r=99.225.251.17:57096\n"
          ]
        },
        {
          "output_type": "stream",
          "name": "stdout",
          "text": [
            "\u001b[32mINFO\u001b[0m:     99.225.251.17:0 - \"\u001b[1mGET /assets/page-CHaQkFK5.js HTTP/1.1\u001b[0m\" \u001b[32m200 OK\u001b[0m\n",
            "\u001b[1;35mt=2024-11-16T22:53:34+0000 lvl=info msg=\"join connections\" obj=join id=0288036af09a l=127.0.0.1:8237 r=99.225.251.17:57096\u001b[0m\n"
          ]
        },
        {
          "output_type": "stream",
          "name": "stderr",
          "text": [
            "INFO:pyngrok.process.ngrok:t=2024-11-16T22:53:34+0000 lvl=info msg=\"join connections\" obj=join id=0c17dd65126c l=127.0.0.1:8237 r=99.225.251.17:57096\n"
          ]
        },
        {
          "output_type": "stream",
          "name": "stdout",
          "text": [
            "\u001b[32mINFO\u001b[0m:     99.225.251.17:0 - \"\u001b[1mGET /assets/trash-DUWZWzse.js HTTP/1.1\u001b[0m\" \u001b[32m200 OK\u001b[0m\n",
            "\u001b[32mINFO\u001b[0m:     99.225.251.17:0 - \"\u001b[1mGET /assets/delete-run-CP0pcJ3U.js HTTP/1.1\u001b[0m\" \u001b[32m200 OK\u001b[0m\n",
            "\u001b[1;35mt=2024-11-16T22:53:34+0000 lvl=info msg=\"join connections\" obj=join id=0c17dd65126c l=127.0.0.1:8237 r=99.225.251.17:57096\u001b[0m\n"
          ]
        },
        {
          "output_type": "stream",
          "name": "stderr",
          "text": [
            "INFO:pyngrok.process.ngrok:t=2024-11-16T22:53:34+0000 lvl=info msg=\"join connections\" obj=join id=f6e717b587af l=127.0.0.1:8237 r=99.225.251.17:57096\n"
          ]
        },
        {
          "output_type": "stream",
          "name": "stdout",
          "text": [
            "\u001b[1;35mt=2024-11-16T22:53:34+0000 lvl=info msg=\"join connections\" obj=join id=f6e717b587af l=127.0.0.1:8237 r=99.225.251.17:57096\u001b[0m\n"
          ]
        },
        {
          "output_type": "stream",
          "name": "stderr",
          "text": [
            "INFO:pyngrok.process.ngrok:t=2024-11-16T22:53:34+0000 lvl=info msg=\"join connections\" obj=join id=66a39cd6aaee l=127.0.0.1:8237 r=99.225.251.17:57096\n"
          ]
        },
        {
          "output_type": "stream",
          "name": "stdout",
          "text": [
            "\u001b[1;35mt=2024-11-16T22:53:34+0000 lvl=info msg=\"join connections\" obj=join id=66a39cd6aaee l=127.0.0.1:8237 r=99.225.251.17:57096\u001b[0m\n"
          ]
        },
        {
          "output_type": "stream",
          "name": "stderr",
          "text": [
            "INFO:pyngrok.process.ngrok:t=2024-11-16T22:53:34+0000 lvl=info msg=\"join connections\" obj=join id=2933bc702465 l=127.0.0.1:8237 r=99.225.251.17:57096\n"
          ]
        },
        {
          "output_type": "stream",
          "name": "stdout",
          "text": [
            "\u001b[1;35mt=2024-11-16T22:53:34+0000 lvl=info msg=\"join connections\" obj=join id=2933bc702465 l=127.0.0.1:8237 r=99.225.251.17:57096\u001b[0m\n"
          ]
        },
        {
          "output_type": "stream",
          "name": "stderr",
          "text": [
            "INFO:pyngrok.process.ngrok:t=2024-11-16T22:53:34+0000 lvl=info msg=\"join connections\" obj=join id=c4e4634a9faa l=127.0.0.1:8237 r=99.225.251.17:57096\n"
          ]
        },
        {
          "output_type": "stream",
          "name": "stdout",
          "text": [
            "\u001b[1;35mt=2024-11-16T22:53:34+0000 lvl=info msg=\"join connections\" obj=join id=c4e4634a9faa l=127.0.0.1:8237 r=99.225.251.17:57096\u001b[0m\n"
          ]
        },
        {
          "output_type": "stream",
          "name": "stderr",
          "text": [
            "INFO:pyngrok.process.ngrok:t=2024-11-16T22:53:34+0000 lvl=info msg=\"join connections\" obj=join id=24564cae1119 l=127.0.0.1:8237 r=99.225.251.17:57096\n"
          ]
        },
        {
          "output_type": "stream",
          "name": "stdout",
          "text": [
            "\u001b[1;35mt=2024-11-16T22:53:34+0000 lvl=info msg=\"join connections\" obj=join id=24564cae1119 l=127.0.0.1:8237 r=99.225.251.17:57096\u001b[0m\n"
          ]
        },
        {
          "output_type": "stream",
          "name": "stderr",
          "text": [
            "INFO:pyngrok.process.ngrok:t=2024-11-16T22:53:34+0000 lvl=info msg=\"join connections\" obj=join id=e59e70b3496a l=127.0.0.1:8237 r=99.225.251.17:57096\n"
          ]
        },
        {
          "output_type": "stream",
          "name": "stdout",
          "text": [
            "\u001b[1;35mt=2024-11-16T22:53:34+0000 lvl=info msg=\"join connections\" obj=join id=e59e70b3496a l=127.0.0.1:8237 r=99.225.251.17:57096\u001b[0m\n"
          ]
        },
        {
          "output_type": "stream",
          "name": "stderr",
          "text": [
            "INFO:pyngrok.process.ngrok:t=2024-11-16T22:53:34+0000 lvl=info msg=\"join connections\" obj=join id=be09a4e16665 l=127.0.0.1:8237 r=99.225.251.17:57096\n"
          ]
        },
        {
          "output_type": "stream",
          "name": "stdout",
          "text": [
            "\u001b[1;35mt=2024-11-16T22:53:34+0000 lvl=info msg=\"join connections\" obj=join id=be09a4e16665 l=127.0.0.1:8237 r=99.225.251.17:57096\u001b[0m\n"
          ]
        },
        {
          "output_type": "stream",
          "name": "stderr",
          "text": [
            "INFO:pyngrok.process.ngrok:t=2024-11-16T22:53:34+0000 lvl=info msg=\"join connections\" obj=join id=afdd4f30824a l=127.0.0.1:8237 r=99.225.251.17:57096\n"
          ]
        },
        {
          "output_type": "stream",
          "name": "stdout",
          "text": [
            "\u001b[1;35mt=2024-11-16T22:53:34+0000 lvl=info msg=\"join connections\" obj=join id=afdd4f30824a l=127.0.0.1:8237 r=99.225.251.17:57096\u001b[0m\n"
          ]
        },
        {
          "output_type": "stream",
          "name": "stderr",
          "text": [
            "INFO:pyngrok.process.ngrok:t=2024-11-16T22:53:34+0000 lvl=info msg=\"join connections\" obj=join id=098c09df85a6 l=127.0.0.1:8237 r=99.225.251.17:57096\n"
          ]
        },
        {
          "output_type": "stream",
          "name": "stdout",
          "text": [
            "\u001b[1;35mt=2024-11-16T22:53:34+0000 lvl=info msg=\"join connections\" obj=join id=098c09df85a6 l=127.0.0.1:8237 r=99.225.251.17:57096\u001b[0m\n",
            "\u001b[32mINFO\u001b[0m:     99.225.251.17:0 - \"\u001b[1mGET /assets/AlertDialogDropdownItem-xLR9a1iw.js HTTP/1.1\u001b[0m\" \u001b[32m200 OK\u001b[0m\n",
            "\u001b[32mINFO\u001b[0m:     99.225.251.17:0 - \"\u001b[1mGET /assets/all-pipeline-runs-query-BA3R2Sey.js HTTP/1.1\u001b[0m\" \u001b[32m200 OK\u001b[0m\n",
            "\u001b[32mINFO\u001b[0m:     99.225.251.17:0 - \"\u001b[1mGET /assets/CopyButton-DcFHidFJ.js HTTP/1.1\u001b[0m\" \u001b[32m200 OK\u001b[0m\n",
            "\u001b[32mINFO\u001b[0m:     99.225.251.17:0 - \"\u001b[1mGET /assets/dots-horizontal-C6K59vUm.js HTTP/1.1\u001b[0m\" \u001b[32m200 OK\u001b[0m\n",
            "\u001b[32mINFO\u001b[0m:     99.225.251.17:0 - \"\u001b[1mGET /assets/SearchField-BzmfxS0L.js HTTP/1.1\u001b[0m\" \u001b[32m200 OK\u001b[0m\n",
            "\u001b[32mINFO\u001b[0m:     99.225.251.17:0 - \"\u001b[1mGET /assets/index-5GJ5ysEZ.js HTTP/1.1\u001b[0m\" \u001b[32m200 OK\u001b[0m\n",
            "\u001b[32mINFO\u001b[0m:     99.225.251.17:0 - \"\u001b[1mGET /assets/refresh-hfgWPeto.js HTTP/1.1\u001b[0m\" \u001b[32m200 OK\u001b[0m\n",
            "\u001b[32mINFO\u001b[0m:     99.225.251.17:0 - \"\u001b[1mGET /assets/InlineAvatar-CA3DFMcM.js HTTP/1.1\u001b[0m\" \u001b[32m200 OK\u001b[0m\n",
            "\u001b[32mINFO\u001b[0m:     99.225.251.17:0 - \"\u001b[1mGET /assets/Infobox-BTK_EUKT.js HTTP/1.1\u001b[0m\" \u001b[32m200 OK\u001b[0m\n",
            "\u001b[32mINFO\u001b[0m:     99.225.251.17:0 - \"\u001b[1mGET /assets/ExecutionStatus-D6r6aK8J.js HTTP/1.1\u001b[0m\" \u001b[32m200 OK\u001b[0m\n",
            "\u001b[32mINFO\u001b[0m:     99.225.251.17:0 - \"\u001b[1mGET /assets/DisplayDate-DkCy54Bp.js HTTP/1.1\u001b[0m\" \u001b[32m200 OK\u001b[0m\n",
            "\u001b[1;35mGot token from cookie\u001b[0m\n",
            "\u001b[32mINFO\u001b[0m:     99.225.251.17:0 - \"\u001b[1mGET /api/v1/pipelines?page=1&sort_by=desc%3Alatest_run HTTP/1.1\u001b[0m\" \u001b[32m200 OK\u001b[0m\n",
            "\u001b[32mINFO\u001b[0m:     127.0.0.1:49390 - \"\u001b[1mGET /api/v1/info HTTP/1.1\u001b[0m\" \u001b[32m200 OK\u001b[0m\n",
            "\u001b[31mAuthentication error: error decoding access token: Invalid JWT token: Signature verification failed.\u001b[0m\n",
            "Traceback (most recent call last):\n",
            "  File \"/usr/local/lib/python3.10/dist-packages/zenml/zen_server/jwt.py\", line 79, in decode_token\n",
            "    claims_data = jwt.decode(\n",
            "  File \"/usr/local/lib/python3.10/dist-packages/jwt/api_jwt.py\", line 210, in decode\n",
            "    decoded = self.decode_complete(\n",
            "  File \"/usr/local/lib/python3.10/dist-packages/jwt/api_jwt.py\", line 151, in decode_complete\n",
            "    decoded = api_jws.decode_complete(\n",
            "  File \"/usr/local/lib/python3.10/dist-packages/jwt/api_jws.py\", line 209, in decode_complete\n",
            "    self._verify_signature(signing_input, header, signature, key, algorithms)\n",
            "  File \"/usr/local/lib/python3.10/dist-packages/jwt/api_jws.py\", line 310, in _verify_signature\n",
            "    raise InvalidSignatureError(\"Signature verification failed\")\n",
            "jwt.exceptions.InvalidSignatureError: Signature verification failed\n",
            "\n",
            "The above exception was the direct cause of the following exception:\n",
            "\n",
            "Traceback (most recent call last):\n",
            "  File \"/usr/local/lib/python3.10/dist-packages/zenml/zen_server/auth.py\", line 238, in authenticate_credentials\n",
            "    decoded_token = JWTToken.decode_token(\n",
            "  File \"/usr/local/lib/python3.10/dist-packages/zenml/zen_server/jwt.py\", line 90, in decode_token\n",
            "    raise AuthorizationException(f\"Invalid JWT token: {e}\") from e\n",
            "zenml.exceptions.AuthorizationException: Invalid JWT token: Signature verification failed\n",
            "\u001b[32mINFO\u001b[0m:     127.0.0.1:49390 - \"\u001b[1mGET /api/v1/workspaces/default?hydrate=True HTTP/1.1\u001b[0m\" \u001b[31m401 Unauthorized\u001b[0m\n",
            "\u001b[32mINFO\u001b[0m:     127.0.0.1:49400 - \"\u001b[1mPOST /api/v1/login HTTP/1.1\u001b[0m\" \u001b[32m200 OK\u001b[0m\n",
            "\u001b[32mINFO\u001b[0m:     127.0.0.1:49408 - \"\u001b[1mGET /api/v1/workspaces/default?hydrate=True HTTP/1.1\u001b[0m\" \u001b[32m200 OK\u001b[0m\n",
            "\u001b[32mINFO\u001b[0m:     127.0.0.1:49408 - \"\u001b[1mGET /api/v1/stacks/9606c665-91f1-44f1-8258-615a608fb5b5?hydrate=True HTTP/1.1\u001b[0m\" \u001b[32m200 OK\u001b[0m\n",
            "\u001b[32mINFO\u001b[0m:     127.0.0.1:49408 - \"\u001b[1mGET /api/v1/workspaces/8fd20150-30bc-487d-810f-b24f39f10da5?hydrate=True HTTP/1.1\u001b[0m\" \u001b[32m200 OK\u001b[0m\n",
            "\u001b[32mINFO\u001b[0m:     127.0.0.1:49408 - \"\u001b[1mGET /api/v1/stacks/7459afc2-e3cd-4e1e-8909-7941ff9ad743?hydrate=True HTTP/1.1\u001b[0m\" \u001b[32m200 OK\u001b[0m\n",
            "\u001b[32mINFO\u001b[0m:     127.0.0.1:49408 - \"\u001b[1mGET /api/v1/components?hydrate=True&sort_by=created&logical_operator=and&page=1&size=20&scope_workspace=8fd20150-30bc-487d-810f-b24f39f10da5&workspace_id=8fd20150-30bc-487d-810f-b24f39f10da5&stack_id=7459afc2-e3cd-4e1e-8909-7941ff9ad743 HTTP/1.1\u001b[0m\" \u001b[32m200 OK\u001b[0m\n",
            "\u001b[32mINFO\u001b[0m:     127.0.0.1:49408 - \"\u001b[1mGET /api/v1/flavors?hydrate=True&sort_by=created&logical_operator=and&page=1&size=20&scope_workspace=8fd20150-30bc-487d-810f-b24f39f10da5&name=local&type=orchestrator HTTP/1.1\u001b[0m\" \u001b[32m200 OK\u001b[0m\n",
            "\u001b[32mINFO\u001b[0m:     127.0.0.1:49408 - \"\u001b[1mGET /api/v1/flavors?hydrate=True&sort_by=created&logical_operator=and&page=1&size=20&scope_workspace=8fd20150-30bc-487d-810f-b24f39f10da5&name=local&type=artifact_store HTTP/1.1\u001b[0m\" \u001b[32m200 OK\u001b[0m\n",
            "\u001b[32mINFO\u001b[0m:     127.0.0.1:49408 - \"\u001b[1mGET /api/v1/flavors?hydrate=True&sort_by=created&logical_operator=and&page=1&size=20&scope_workspace=8fd20150-30bc-487d-810f-b24f39f10da5&name=mlflow&type=experiment_tracker HTTP/1.1\u001b[0m\" \u001b[32m200 OK\u001b[0m\n",
            "\u001b[32mINFO\u001b[0m:     127.0.0.1:49408 - \"\u001b[1mGET /api/v1/flavors?hydrate=True&sort_by=created&logical_operator=and&page=1&size=20&scope_workspace=8fd20150-30bc-487d-810f-b24f39f10da5&name=mlflow&type=model_deployer HTTP/1.1\u001b[0m\" \u001b[32m200 OK\u001b[0m\n",
            "\u001b[32mINFO\u001b[0m:     127.0.0.1:49274 - \"\u001b[1mGET /api/v1/code_repositories?hydrate=False&sort_by=created&logical_operator=and&page=1&size=20&scope_workspace=8fd20150-30bc-487d-810f-b24f39f10da5 HTTP/1.1\u001b[0m\" \u001b[32m200 OK\u001b[0m\n",
            "\u001b[32mINFO\u001b[0m:     127.0.0.1:49274 - \"\u001b[1mGET /api/v1/info HTTP/1.1\u001b[0m\" \u001b[32m200 OK\u001b[0m\n",
            "\u001b[32mINFO\u001b[0m:     127.0.0.1:49274 - \"\u001b[1mGET /api/v1/pipelines?hydrate=False&sort_by=desc%3Acreated&logical_operator=and&page=1&size=1&scope_workspace=8fd20150-30bc-487d-810f-b24f39f10da5&name=continuous_deployment_pipeline HTTP/1.1\u001b[0m\" \u001b[32m200 OK\u001b[0m\n",
            "\u001b[32mINFO\u001b[0m:     127.0.0.1:49274 - \"\u001b[1mGET /api/v1/current-user?hydrate=True HTTP/1.1\u001b[0m\" \u001b[32m200 OK\u001b[0m\n",
            "\u001b[32mINFO\u001b[0m:     127.0.0.1:49274 - \"\u001b[1mPOST /api/v1/workspaces/8fd20150-30bc-487d-810f-b24f39f10da5/pipelines HTTP/1.1\u001b[0m\" \u001b[32m200 OK\u001b[0m\n",
            "\u001b[32mINFO\u001b[0m:     127.0.0.1:49274 - \"\u001b[1mPOST /api/v1/workspaces/8fd20150-30bc-487d-810f-b24f39f10da5/pipeline_deployments HTTP/1.1\u001b[0m\" \u001b[32m200 OK\u001b[0m\n",
            "\u001b[32mINFO\u001b[0m:     127.0.0.1:49274 - \"\u001b[1mGET /api/v1/stacks/7459afc2-e3cd-4e1e-8909-7941ff9ad743?hydrate=True HTTP/1.1\u001b[0m\" \u001b[32m200 OK\u001b[0m\n",
            "\u001b[32mINFO\u001b[0m:     127.0.0.1:49274 - \"\u001b[1mPOST /api/v1/workspaces/8fd20150-30bc-487d-810f-b24f39f10da5/runs HTTP/1.1\u001b[0m\" \u001b[32m200 OK\u001b[0m\n",
            "\u001b[32mINFO\u001b[0m:     127.0.0.1:49274 - \"\u001b[1mGET /api/v1/stacks/7459afc2-e3cd-4e1e-8909-7941ff9ad743?hydrate=True HTTP/1.1\u001b[0m\" \u001b[32m200 OK\u001b[0m\n",
            "\u001b[32mINFO\u001b[0m:     127.0.0.1:49274 - \"\u001b[1mGET /api/v1/info HTTP/1.1\u001b[0m\" \u001b[32m200 OK\u001b[0m\n",
            "\u001b[32mINFO\u001b[0m:     127.0.0.1:49274 - \"\u001b[1mGET /api/v1/info HTTP/1.1\u001b[0m\" \u001b[32m200 OK\u001b[0m\n",
            "\u001b[32mINFO\u001b[0m:     127.0.0.1:49274 - \"\u001b[1mGET /api/v1/api_token?pipeline_id=d8fd11b7-8f60-493d-938e-ff9e8ce4ecc5&expires_minutes=1440 HTTP/1.1\u001b[0m\" \u001b[32m200 OK\u001b[0m\n",
            "\u001b[32mINFO\u001b[0m:     127.0.0.1:49274 - \"\u001b[1mPOST /api/v1/workspaces/8fd20150-30bc-487d-810f-b24f39f10da5/runs/get-or-create HTTP/1.1\u001b[0m\" \u001b[32m200 OK\u001b[0m\n",
            "\u001b[32mINFO\u001b[0m:     127.0.0.1:49274 - \"\u001b[1mGET /api/v1/steps?hydrate=False&sort_by=created&logical_operator=and&page=1&size=20&scope_workspace=8fd20150-30bc-487d-810f-b24f39f10da5&pipeline_run_id=9a8c7206-edf8-42a8-9fdb-f8bf768268cf HTTP/1.1\u001b[0m\" \u001b[32m200 OK\u001b[0m\n",
            "\u001b[32mINFO\u001b[0m:     127.0.0.1:49274 - \"\u001b[1mGET /api/v1/steps?hydrate=False&sort_by=desc%3Acreated&logical_operator=and&page=1&size=1&scope_workspace=8fd20150-30bc-487d-810f-b24f39f10da5&cache_key=b1553a05a013cef2aa12f0caf9e5a87a&status=completed&workspace_id=8fd20150-30bc-487d-810f-b24f39f10da5 HTTP/1.1\u001b[0m\" \u001b[32m200 OK\u001b[0m\n",
            "\u001b[32mINFO\u001b[0m:     127.0.0.1:49274 - \"\u001b[1mPOST /api/v1/steps HTTP/1.1\u001b[0m\" \u001b[32m200 OK\u001b[0m\n",
            "\u001b[32mINFO\u001b[0m:     127.0.0.1:49274 - \"\u001b[1mGET /api/v1/runs/9a8c7206-edf8-42a8-9fdb-f8bf768268cf?hydrate=True HTTP/1.1\u001b[0m\" \u001b[32m200 OK\u001b[0m\n",
            "\u001b[32mINFO\u001b[0m:     127.0.0.1:49274 - \"\u001b[1mGET /api/v1/steps/58e65cb6-b801-46fa-9fe9-6aaf4a2d87b6?hydrate=True HTTP/1.1\u001b[0m\" \u001b[32m200 OK\u001b[0m\n",
            "\u001b[32mINFO\u001b[0m:     127.0.0.1:49274 - \"\u001b[1mGET /api/v1/artifacts?hydrate=False&sort_by=created&logical_operator=and&page=1&size=20&name=continuous_deployment_pipeline%3A%3Aload_df%3A%3Aoutput HTTP/1.1\u001b[0m\" \u001b[32m200 OK\u001b[0m\n",
            "\u001b[32mINFO\u001b[0m:     127.0.0.1:49274 - \"\u001b[1mPOST /api/v1/artifacts HTTP/1.1\u001b[0m\" \u001b[32m200 OK\u001b[0m\n",
            "\u001b[32mINFO\u001b[0m:     127.0.0.1:49274 - \"\u001b[1mGET /api/v1/artifact_versions?hydrate=False&sort_by=desc%3Aversion_number&logical_operator=and&page=1&size=1&scope_workspace=8fd20150-30bc-487d-810f-b24f39f10da5&name=continuous_deployment_pipeline%3A%3Aload_df%3A%3Aoutput&only_unused=False HTTP/1.1\u001b[0m\" \u001b[32m200 OK\u001b[0m\n",
            "\u001b[32mINFO\u001b[0m:     127.0.0.1:49274 - \"\u001b[1mPOST /api/v1/artifact_versions HTTP/1.1\u001b[0m\" \u001b[32m200 OK\u001b[0m\n",
            "\u001b[32mINFO\u001b[0m:     127.0.0.1:49274 - \"\u001b[1mPOST /api/v1/workspaces/8fd20150-30bc-487d-810f-b24f39f10da5/run-metadata HTTP/1.1\u001b[0m\" \u001b[32m200 OK\u001b[0m\n",
            "\u001b[32mINFO\u001b[0m:     127.0.0.1:49274 - \"\u001b[1mPUT /api/v1/steps/58e65cb6-b801-46fa-9fe9-6aaf4a2d87b6 HTTP/1.1\u001b[0m\" \u001b[32m200 OK\u001b[0m\n",
            "\u001b[32mINFO\u001b[0m:     127.0.0.1:49274 - \"\u001b[1mPOST /api/v1/workspaces/8fd20150-30bc-487d-810f-b24f39f10da5/runs/get-or-create HTTP/1.1\u001b[0m\" \u001b[32m200 OK\u001b[0m\n",
            "\u001b[32mINFO\u001b[0m:     127.0.0.1:49274 - \"\u001b[1mGET /api/v1/steps?hydrate=False&sort_by=created&logical_operator=and&page=1&size=20&scope_workspace=8fd20150-30bc-487d-810f-b24f39f10da5&pipeline_run_id=9a8c7206-edf8-42a8-9fdb-f8bf768268cf HTTP/1.1\u001b[0m\" \u001b[32m200 OK\u001b[0m\n",
            "\u001b[32mINFO\u001b[0m:     127.0.0.1:49274 - \"\u001b[1mGET /api/v1/steps?hydrate=False&sort_by=desc%3Acreated&logical_operator=and&page=1&size=1&scope_workspace=8fd20150-30bc-487d-810f-b24f39f10da5&cache_key=ee4e81d1ffeefc3bb14b0675231a19d7&status=completed&workspace_id=8fd20150-30bc-487d-810f-b24f39f10da5 HTTP/1.1\u001b[0m\" \u001b[32m200 OK\u001b[0m\n",
            "\u001b[32mINFO\u001b[0m:     127.0.0.1:49274 - \"\u001b[1mPOST /api/v1/steps HTTP/1.1\u001b[0m\" \u001b[32m200 OK\u001b[0m\n",
            "\u001b[32mINFO\u001b[0m:     127.0.0.1:49274 - \"\u001b[1mGET /api/v1/runs/9a8c7206-edf8-42a8-9fdb-f8bf768268cf?hydrate=True HTTP/1.1\u001b[0m\" \u001b[32m200 OK\u001b[0m\n",
            "\u001b[32mINFO\u001b[0m:     127.0.0.1:49274 - \"\u001b[1mGET /api/v1/steps/192e62b7-5449-4a83-bc1f-f68201ea1af7?hydrate=True HTTP/1.1\u001b[0m\" \u001b[32m200 OK\u001b[0m\n",
            "\u001b[32mINFO\u001b[0m:     127.0.0.1:49274 - \"\u001b[1mGET /api/v1/artifact_versions/f313a802-5804-4195-8854-d215d1999a87?hydrate=True HTTP/1.1\u001b[0m\" \u001b[32m200 OK\u001b[0m\n",
            "\u001b[32mINFO\u001b[0m:     127.0.0.1:49274 - \"\u001b[1mGET /api/v1/components/7228fd26-0343-4d8e-91dc-534deb5a9988?hydrate=True HTTP/1.1\u001b[0m\" \u001b[32m200 OK\u001b[0m\n",
            "\u001b[32mINFO\u001b[0m:     127.0.0.1:49274 - \"\u001b[1mGET /api/v1/flavors?hydrate=True&sort_by=created&logical_operator=and&page=1&size=20&scope_workspace=8fd20150-30bc-487d-810f-b24f39f10da5&name=local&type=artifact_store HTTP/1.1\u001b[0m\" \u001b[32m200 OK\u001b[0m\n",
            "\u001b[32mINFO\u001b[0m:     127.0.0.1:49274 - \"\u001b[1mGET /api/v1/artifacts?hydrate=False&sort_by=created&logical_operator=and&page=1&size=20&name=processed_data HTTP/1.1\u001b[0m\" \u001b[32m200 OK\u001b[0m\n",
            "\u001b[32mINFO\u001b[0m:     127.0.0.1:49274 - \"\u001b[1mPOST /api/v1/artifacts HTTP/1.1\u001b[0m\" \u001b[32m200 OK\u001b[0m\n",
            "\u001b[32mINFO\u001b[0m:     127.0.0.1:49274 - \"\u001b[1mGET /api/v1/artifact_versions?hydrate=False&sort_by=desc%3Aversion_number&logical_operator=and&page=1&size=1&scope_workspace=8fd20150-30bc-487d-810f-b24f39f10da5&name=processed_data&only_unused=False HTTP/1.1\u001b[0m\" \u001b[32m200 OK\u001b[0m\n",
            "\u001b[32mINFO\u001b[0m:     127.0.0.1:49274 - \"\u001b[1mPOST /api/v1/artifact_versions HTTP/1.1\u001b[0m\" \u001b[32m200 OK\u001b[0m\n",
            "\u001b[32mINFO\u001b[0m:     127.0.0.1:49274 - \"\u001b[1mPOST /api/v1/workspaces/8fd20150-30bc-487d-810f-b24f39f10da5/run-metadata HTTP/1.1\u001b[0m\" \u001b[32m200 OK\u001b[0m\n",
            "\u001b[32mINFO\u001b[0m:     127.0.0.1:49274 - \"\u001b[1mGET /api/v1/artifacts?hydrate=False&sort_by=created&logical_operator=and&page=1&size=20&name=target HTTP/1.1\u001b[0m\" \u001b[32m200 OK\u001b[0m\n",
            "\u001b[32mINFO\u001b[0m:     127.0.0.1:49274 - \"\u001b[1mPOST /api/v1/artifacts HTTP/1.1\u001b[0m\" \u001b[32m200 OK\u001b[0m\n",
            "\u001b[32mINFO\u001b[0m:     127.0.0.1:49274 - \"\u001b[1mGET /api/v1/artifact_versions?hydrate=False&sort_by=desc%3Aversion_number&logical_operator=and&page=1&size=1&scope_workspace=8fd20150-30bc-487d-810f-b24f39f10da5&name=target&only_unused=False HTTP/1.1\u001b[0m\" \u001b[32m200 OK\u001b[0m\n",
            "\u001b[32mINFO\u001b[0m:     127.0.0.1:49274 - \"\u001b[1mPOST /api/v1/artifact_versions HTTP/1.1\u001b[0m\" \u001b[32m200 OK\u001b[0m\n",
            "\u001b[32mINFO\u001b[0m:     127.0.0.1:49274 - \"\u001b[1mPOST /api/v1/workspaces/8fd20150-30bc-487d-810f-b24f39f10da5/run-metadata HTTP/1.1\u001b[0m\" \u001b[32m200 OK\u001b[0m\n",
            "\u001b[32mINFO\u001b[0m:     127.0.0.1:49274 - \"\u001b[1mPUT /api/v1/steps/192e62b7-5449-4a83-bc1f-f68201ea1af7 HTTP/1.1\u001b[0m\" \u001b[32m200 OK\u001b[0m\n",
            "\u001b[32mINFO\u001b[0m:     127.0.0.1:49274 - \"\u001b[1mPOST /api/v1/workspaces/8fd20150-30bc-487d-810f-b24f39f10da5/runs/get-or-create HTTP/1.1\u001b[0m\" \u001b[32m200 OK\u001b[0m\n",
            "\u001b[32mINFO\u001b[0m:     127.0.0.1:49274 - \"\u001b[1mGET /api/v1/steps?hydrate=False&sort_by=created&logical_operator=and&page=1&size=20&scope_workspace=8fd20150-30bc-487d-810f-b24f39f10da5&pipeline_run_id=9a8c7206-edf8-42a8-9fdb-f8bf768268cf HTTP/1.1\u001b[0m\" \u001b[32m200 OK\u001b[0m\n",
            "\u001b[32mINFO\u001b[0m:     127.0.0.1:49274 - \"\u001b[1mGET /api/v1/steps?hydrate=False&sort_by=desc%3Acreated&logical_operator=and&page=1&size=1&scope_workspace=8fd20150-30bc-487d-810f-b24f39f10da5&cache_key=467ae5af2f2da1add406d817a97352cb&status=completed&workspace_id=8fd20150-30bc-487d-810f-b24f39f10da5 HTTP/1.1\u001b[0m\" \u001b[32m200 OK\u001b[0m\n",
            "\u001b[32mINFO\u001b[0m:     127.0.0.1:49274 - \"\u001b[1mPOST /api/v1/steps HTTP/1.1\u001b[0m\" \u001b[32m200 OK\u001b[0m\n",
            "\u001b[32mINFO\u001b[0m:     127.0.0.1:49274 - \"\u001b[1mGET /api/v1/runs/9a8c7206-edf8-42a8-9fdb-f8bf768268cf?hydrate=True HTTP/1.1\u001b[0m\" \u001b[32m200 OK\u001b[0m\n",
            "\u001b[32mINFO\u001b[0m:     127.0.0.1:49274 - \"\u001b[1mGET /api/v1/steps/b8e605c2-12e2-405c-8c7d-50a6d1f52b30?hydrate=True HTTP/1.1\u001b[0m\" \u001b[32m200 OK\u001b[0m\n",
            "\u001b[32mINFO\u001b[0m:     127.0.0.1:49274 - \"\u001b[1mGET /api/v1/artifact_versions/f2b8d045-94f3-471e-93cb-f2bcf66d3d4c?hydrate=True HTTP/1.1\u001b[0m\" \u001b[32m200 OK\u001b[0m\n",
            "\u001b[32mINFO\u001b[0m:     127.0.0.1:49274 - \"\u001b[1mGET /api/v1/components/7228fd26-0343-4d8e-91dc-534deb5a9988?hydrate=True HTTP/1.1\u001b[0m\" \u001b[32m200 OK\u001b[0m\n",
            "\u001b[32mINFO\u001b[0m:     127.0.0.1:49274 - \"\u001b[1mGET /api/v1/flavors?hydrate=True&sort_by=created&logical_operator=and&page=1&size=20&scope_workspace=8fd20150-30bc-487d-810f-b24f39f10da5&name=local&type=artifact_store HTTP/1.1\u001b[0m\" \u001b[32m200 OK\u001b[0m\n",
            "\u001b[32mINFO\u001b[0m:     127.0.0.1:49274 - \"\u001b[1mGET /api/v1/artifact_versions/f704ef9c-b577-4dc6-b787-6b9a744f14c0?hydrate=True HTTP/1.1\u001b[0m\" \u001b[32m200 OK\u001b[0m\n",
            "\u001b[32mINFO\u001b[0m:     127.0.0.1:49274 - \"\u001b[1mGET /api/v1/components/7228fd26-0343-4d8e-91dc-534deb5a9988?hydrate=True HTTP/1.1\u001b[0m\" \u001b[32m200 OK\u001b[0m\n",
            "\u001b[32mINFO\u001b[0m:     127.0.0.1:49274 - \"\u001b[1mGET /api/v1/flavors?hydrate=True&sort_by=created&logical_operator=and&page=1&size=20&scope_workspace=8fd20150-30bc-487d-810f-b24f39f10da5&name=local&type=artifact_store HTTP/1.1\u001b[0m\" \u001b[32m200 OK\u001b[0m\n",
            "\u001b[32mINFO\u001b[0m:     127.0.0.1:33036 - \"\u001b[1mPOST /api/v1/workspaces/8fd20150-30bc-487d-810f-b24f39f10da5/run-metadata HTTP/1.1\u001b[0m\" \u001b[32m200 OK\u001b[0m\n"
          ]
        },
        {
          "output_type": "stream",
          "name": "stderr",
          "text": [
            "INFO:pyngrok.process.ngrok:t=2024-11-16T22:57:22+0000 lvl=info msg=\"join connections\" obj=join id=1a13843e289a l=127.0.0.1:8237 r=99.225.251.17:65489\n"
          ]
        },
        {
          "output_type": "stream",
          "name": "stdout",
          "text": [
            "\u001b[1;35mt=2024-11-16T22:57:22+0000 lvl=info msg=\"join connections\" obj=join id=1a13843e289a l=127.0.0.1:8237 r=99.225.251.17:65489\u001b[0m\n"
          ]
        },
        {
          "output_type": "stream",
          "name": "stderr",
          "text": [
            "INFO:pyngrok.process.ngrok:t=2024-11-16T22:57:22+0000 lvl=info msg=\"join connections\" obj=join id=e4a0457719ba l=127.0.0.1:8237 r=99.225.251.17:65489\n"
          ]
        },
        {
          "output_type": "stream",
          "name": "stdout",
          "text": [
            "\u001b[1;35mt=2024-11-16T22:57:22+0000 lvl=info msg=\"join connections\" obj=join id=e4a0457719ba l=127.0.0.1:8237 r=99.225.251.17:65489\u001b[0m\n"
          ]
        },
        {
          "output_type": "stream",
          "name": "stderr",
          "text": [
            "INFO:pyngrok.process.ngrok:t=2024-11-16T22:57:22+0000 lvl=info msg=\"join connections\" obj=join id=13d851d73d30 l=127.0.0.1:8237 r=99.225.251.17:65489\n"
          ]
        },
        {
          "output_type": "stream",
          "name": "stdout",
          "text": [
            "\u001b[1;35mt=2024-11-16T22:57:22+0000 lvl=info msg=\"join connections\" obj=join id=13d851d73d30 l=127.0.0.1:8237 r=99.225.251.17:65489\u001b[0m\n"
          ]
        },
        {
          "output_type": "stream",
          "name": "stderr",
          "text": [
            "INFO:pyngrok.process.ngrok:t=2024-11-16T22:57:22+0000 lvl=info msg=\"join connections\" obj=join id=5677c4c99041 l=127.0.0.1:8237 r=99.225.251.17:65489\n"
          ]
        },
        {
          "output_type": "stream",
          "name": "stdout",
          "text": [
            "\u001b[1;35mt=2024-11-16T22:57:22+0000 lvl=info msg=\"join connections\" obj=join id=5677c4c99041 l=127.0.0.1:8237 r=99.225.251.17:65489\u001b[0m\n"
          ]
        },
        {
          "output_type": "stream",
          "name": "stderr",
          "text": [
            "INFO:pyngrok.process.ngrok:t=2024-11-16T22:57:22+0000 lvl=info msg=\"join connections\" obj=join id=c0d0dc78ece6 l=127.0.0.1:8237 r=99.225.251.17:65489\n"
          ]
        },
        {
          "output_type": "stream",
          "name": "stdout",
          "text": [
            "\u001b[32mINFO\u001b[0m:     127.0.0.1:33036 - \"\u001b[1mGET /api/v1/artifacts?hydrate=False&sort_by=created&logical_operator=and&page=1&size=20&name=X_train_scaled HTTP/1.1\u001b[0m\" \u001b[32m200 OK\u001b[0m\n",
            "\u001b[1;35mGot token from cookie\u001b[0m\n",
            "\u001b[1;35mGot token from cookie\u001b[0m\n",
            "\u001b[1;35mGot token from cookie\u001b[0m\n",
            "\u001b[1;35mGot token from cookie\u001b[0m\n",
            "\u001b[1;35mt=2024-11-16T22:57:22+0000 lvl=info msg=\"join connections\" obj=join id=c0d0dc78ece6 l=127.0.0.1:8237 r=99.225.251.17:65489\u001b[0m\n",
            "\u001b[32mINFO\u001b[0m:     99.225.251.17:0 - \"\u001b[1mGET /api/v1/info HTTP/1.1\u001b[0m\" \u001b[32m200 OK\u001b[0m\n",
            "\u001b[32mINFO\u001b[0m:     99.225.251.17:0 - \"\u001b[1mGET /api/v1/current-user HTTP/1.1\u001b[0m\" \u001b[32m200 OK\u001b[0m\n",
            "\u001b[32mINFO\u001b[0m:     99.225.251.17:0 - \"\u001b[1mGET /api/v1/onboarding_state HTTP/1.1\u001b[0m\" \u001b[32m200 OK\u001b[0m\n",
            "\u001b[32mINFO\u001b[0m:     127.0.0.1:33036 - \"\u001b[1mPOST /api/v1/artifacts HTTP/1.1\u001b[0m\" \u001b[32m200 OK\u001b[0m\n",
            "\u001b[32mINFO\u001b[0m:     99.225.251.17:0 - \"\u001b[1mGET /api/v1/settings HTTP/1.1\u001b[0m\" \u001b[32m200 OK\u001b[0m\n",
            "\u001b[32mINFO\u001b[0m:     99.225.251.17:0 - \"\u001b[1mGET /api/v1/pipelines?page=1&sort_by=desc%3Alatest_run HTTP/1.1\u001b[0m\" \u001b[32m200 OK\u001b[0m\n",
            "\u001b[32mINFO\u001b[0m:     127.0.0.1:33036 - \"\u001b[1mGET /api/v1/artifact_versions?hydrate=False&sort_by=desc%3Aversion_number&logical_operator=and&page=1&size=1&scope_workspace=8fd20150-30bc-487d-810f-b24f39f10da5&name=X_train_scaled&only_unused=False HTTP/1.1\u001b[0m\" \u001b[32m200 OK\u001b[0m\n",
            "\u001b[32mINFO\u001b[0m:     127.0.0.1:33036 - \"\u001b[1mPOST /api/v1/artifact_versions HTTP/1.1\u001b[0m\" \u001b[32m200 OK\u001b[0m\n",
            "\u001b[32mINFO\u001b[0m:     127.0.0.1:33036 - \"\u001b[1mPOST /api/v1/workspaces/8fd20150-30bc-487d-810f-b24f39f10da5/run-metadata HTTP/1.1\u001b[0m\" \u001b[32m200 OK\u001b[0m\n",
            "\u001b[32mINFO\u001b[0m:     127.0.0.1:33036 - \"\u001b[1mGET /api/v1/artifacts?hydrate=False&sort_by=created&logical_operator=and&page=1&size=20&name=trained_model HTTP/1.1\u001b[0m\" \u001b[32m200 OK\u001b[0m\n",
            "\u001b[32mINFO\u001b[0m:     127.0.0.1:33036 - \"\u001b[1mPOST /api/v1/artifacts HTTP/1.1\u001b[0m\" \u001b[32m200 OK\u001b[0m\n",
            "\u001b[32mINFO\u001b[0m:     127.0.0.1:33036 - \"\u001b[1mGET /api/v1/artifact_versions?hydrate=False&sort_by=desc%3Aversion_number&logical_operator=and&page=1&size=1&scope_workspace=8fd20150-30bc-487d-810f-b24f39f10da5&name=trained_model&only_unused=False HTTP/1.1\u001b[0m\" \u001b[32m200 OK\u001b[0m\n",
            "\u001b[32mINFO\u001b[0m:     127.0.0.1:33036 - \"\u001b[1mPOST /api/v1/artifact_versions HTTP/1.1\u001b[0m\" \u001b[32m200 OK\u001b[0m\n",
            "\u001b[32mINFO\u001b[0m:     127.0.0.1:33036 - \"\u001b[1mPOST /api/v1/workspaces/8fd20150-30bc-487d-810f-b24f39f10da5/run-metadata HTTP/1.1\u001b[0m\" \u001b[32m200 OK\u001b[0m\n",
            "\u001b[32mINFO\u001b[0m:     127.0.0.1:33036 - \"\u001b[1mPUT /api/v1/steps/b8e605c2-12e2-405c-8c7d-50a6d1f52b30 HTTP/1.1\u001b[0m\" \u001b[32m200 OK\u001b[0m\n",
            "\u001b[32mINFO\u001b[0m:     127.0.0.1:33036 - \"\u001b[1mPOST /api/v1/workspaces/8fd20150-30bc-487d-810f-b24f39f10da5/runs/get-or-create HTTP/1.1\u001b[0m\" \u001b[32m200 OK\u001b[0m\n",
            "\u001b[32mINFO\u001b[0m:     127.0.0.1:33036 - \"\u001b[1mGET /api/v1/steps?hydrate=False&sort_by=created&logical_operator=and&page=1&size=20&scope_workspace=8fd20150-30bc-487d-810f-b24f39f10da5&pipeline_run_id=9a8c7206-edf8-42a8-9fdb-f8bf768268cf HTTP/1.1\u001b[0m\" \u001b[32m200 OK\u001b[0m\n",
            "\u001b[32mINFO\u001b[0m:     127.0.0.1:33036 - \"\u001b[1mGET /api/v1/steps?hydrate=False&sort_by=desc%3Acreated&logical_operator=and&page=1&size=1&scope_workspace=8fd20150-30bc-487d-810f-b24f39f10da5&cache_key=770b30a9eeb716baa0d447c1a0723d00&status=completed&workspace_id=8fd20150-30bc-487d-810f-b24f39f10da5 HTTP/1.1\u001b[0m\" \u001b[32m200 OK\u001b[0m\n",
            "\u001b[32mINFO\u001b[0m:     127.0.0.1:33036 - \"\u001b[1mPOST /api/v1/steps HTTP/1.1\u001b[0m\" \u001b[32m200 OK\u001b[0m\n",
            "\u001b[32mINFO\u001b[0m:     127.0.0.1:33036 - \"\u001b[1mGET /api/v1/runs/9a8c7206-edf8-42a8-9fdb-f8bf768268cf?hydrate=True HTTP/1.1\u001b[0m\" \u001b[32m200 OK\u001b[0m\n",
            "\u001b[32mINFO\u001b[0m:     127.0.0.1:33036 - \"\u001b[1mGET /api/v1/steps/6aee33ec-493b-4476-8741-ffbd1cbade72?hydrate=True HTTP/1.1\u001b[0m\" \u001b[32m200 OK\u001b[0m\n",
            "\u001b[32mINFO\u001b[0m:     127.0.0.1:33036 - \"\u001b[1mGET /api/v1/artifact_versions/41c4ccb1-cc97-42fc-9b2b-4a9b36f9ae6f?hydrate=True HTTP/1.1\u001b[0m\" \u001b[32m200 OK\u001b[0m\n",
            "\u001b[32mINFO\u001b[0m:     127.0.0.1:33036 - \"\u001b[1mGET /api/v1/components/7228fd26-0343-4d8e-91dc-534deb5a9988?hydrate=True HTTP/1.1\u001b[0m\" \u001b[32m200 OK\u001b[0m\n",
            "\u001b[32mINFO\u001b[0m:     127.0.0.1:33036 - \"\u001b[1mGET /api/v1/flavors?hydrate=True&sort_by=created&logical_operator=and&page=1&size=20&scope_workspace=8fd20150-30bc-487d-810f-b24f39f10da5&name=local&type=artifact_store HTTP/1.1\u001b[0m\" \u001b[32m200 OK\u001b[0m\n",
            "\u001b[32mINFO\u001b[0m:     127.0.0.1:33036 - \"\u001b[1mGET /api/v1/artifact_versions/f704ef9c-b577-4dc6-b787-6b9a744f14c0?hydrate=True HTTP/1.1\u001b[0m\" \u001b[32m200 OK\u001b[0m\n",
            "\u001b[32mINFO\u001b[0m:     127.0.0.1:33036 - \"\u001b[1mGET /api/v1/components/7228fd26-0343-4d8e-91dc-534deb5a9988?hydrate=True HTTP/1.1\u001b[0m\" \u001b[32m200 OK\u001b[0m\n",
            "\u001b[32mINFO\u001b[0m:     127.0.0.1:33036 - \"\u001b[1mGET /api/v1/flavors?hydrate=True&sort_by=created&logical_operator=and&page=1&size=20&scope_workspace=8fd20150-30bc-487d-810f-b24f39f10da5&name=local&type=artifact_store HTTP/1.1\u001b[0m\" \u001b[32m200 OK\u001b[0m\n",
            "\u001b[32mINFO\u001b[0m:     127.0.0.1:33036 - \"\u001b[1mGET /api/v1/artifact_versions/4ada9ed0-05b6-4e50-a4e3-5ffdd17b3cb8?hydrate=True HTTP/1.1\u001b[0m\" \u001b[32m200 OK\u001b[0m\n",
            "\u001b[32mINFO\u001b[0m:     127.0.0.1:33036 - \"\u001b[1mGET /api/v1/components/7228fd26-0343-4d8e-91dc-534deb5a9988?hydrate=True HTTP/1.1\u001b[0m\" \u001b[32m200 OK\u001b[0m\n",
            "\u001b[32mINFO\u001b[0m:     127.0.0.1:33036 - \"\u001b[1mGET /api/v1/flavors?hydrate=True&sort_by=created&logical_operator=and&page=1&size=20&scope_workspace=8fd20150-30bc-487d-810f-b24f39f10da5&name=local&type=artifact_store HTTP/1.1\u001b[0m\" \u001b[32m200 OK\u001b[0m\n",
            "\u001b[32mINFO\u001b[0m:     127.0.0.1:33840 - \"\u001b[1mPOST /api/v1/workspaces/8fd20150-30bc-487d-810f-b24f39f10da5/run-metadata HTTP/1.1\u001b[0m\" \u001b[32m200 OK\u001b[0m\n",
            "\u001b[32mINFO\u001b[0m:     127.0.0.1:33840 - \"\u001b[1mGET /api/v1/artifacts?hydrate=False&sort_by=created&logical_operator=and&page=1&size=20&name=mean_r2 HTTP/1.1\u001b[0m\" \u001b[32m200 OK\u001b[0m\n",
            "\u001b[32mINFO\u001b[0m:     127.0.0.1:33840 - \"\u001b[1mPOST /api/v1/artifacts HTTP/1.1\u001b[0m\" \u001b[32m200 OK\u001b[0m\n",
            "\u001b[32mINFO\u001b[0m:     127.0.0.1:33840 - \"\u001b[1mGET /api/v1/artifact_versions?hydrate=False&sort_by=desc%3Aversion_number&logical_operator=and&page=1&size=1&scope_workspace=8fd20150-30bc-487d-810f-b24f39f10da5&name=mean_r2&only_unused=False HTTP/1.1\u001b[0m\" \u001b[32m200 OK\u001b[0m\n",
            "\u001b[32mINFO\u001b[0m:     127.0.0.1:33840 - \"\u001b[1mPOST /api/v1/artifact_versions HTTP/1.1\u001b[0m\" \u001b[32m200 OK\u001b[0m\n",
            "\u001b[32mINFO\u001b[0m:     127.0.0.1:33840 - \"\u001b[1mPOST /api/v1/workspaces/8fd20150-30bc-487d-810f-b24f39f10da5/run-metadata HTTP/1.1\u001b[0m\" \u001b[32m200 OK\u001b[0m\n",
            "\u001b[32mINFO\u001b[0m:     127.0.0.1:33840 - \"\u001b[1mGET /api/v1/artifacts?hydrate=False&sort_by=created&logical_operator=and&page=1&size=20&name=std_r2 HTTP/1.1\u001b[0m\" \u001b[32m200 OK\u001b[0m\n",
            "\u001b[32mINFO\u001b[0m:     127.0.0.1:33840 - \"\u001b[1mPOST /api/v1/artifacts HTTP/1.1\u001b[0m\" \u001b[32m200 OK\u001b[0m\n",
            "\u001b[32mINFO\u001b[0m:     127.0.0.1:33840 - \"\u001b[1mGET /api/v1/artifact_versions?hydrate=False&sort_by=desc%3Aversion_number&logical_operator=and&page=1&size=1&scope_workspace=8fd20150-30bc-487d-810f-b24f39f10da5&name=std_r2&only_unused=False HTTP/1.1\u001b[0m\" \u001b[32m200 OK\u001b[0m\n",
            "\u001b[32mINFO\u001b[0m:     127.0.0.1:33840 - \"\u001b[1mPOST /api/v1/artifact_versions HTTP/1.1\u001b[0m\" \u001b[32m200 OK\u001b[0m\n",
            "\u001b[32mINFO\u001b[0m:     127.0.0.1:33840 - \"\u001b[1mPOST /api/v1/workspaces/8fd20150-30bc-487d-810f-b24f39f10da5/run-metadata HTTP/1.1\u001b[0m\" \u001b[32m200 OK\u001b[0m\n",
            "\u001b[32mINFO\u001b[0m:     127.0.0.1:33840 - \"\u001b[1mGET /api/v1/artifacts?hydrate=False&sort_by=created&logical_operator=and&page=1&size=20&name=mean_rmse HTTP/1.1\u001b[0m\" \u001b[32m200 OK\u001b[0m\n",
            "\u001b[32mINFO\u001b[0m:     127.0.0.1:33840 - \"\u001b[1mPOST /api/v1/artifacts HTTP/1.1\u001b[0m\" \u001b[32m200 OK\u001b[0m\n",
            "\u001b[32mINFO\u001b[0m:     127.0.0.1:33840 - \"\u001b[1mGET /api/v1/artifact_versions?hydrate=False&sort_by=desc%3Aversion_number&logical_operator=and&page=1&size=1&scope_workspace=8fd20150-30bc-487d-810f-b24f39f10da5&name=mean_rmse&only_unused=False HTTP/1.1\u001b[0m\" \u001b[32m200 OK\u001b[0m\n",
            "\u001b[32mINFO\u001b[0m:     127.0.0.1:33840 - \"\u001b[1mPOST /api/v1/artifact_versions HTTP/1.1\u001b[0m\" \u001b[32m200 OK\u001b[0m\n",
            "\u001b[32mINFO\u001b[0m:     127.0.0.1:33840 - \"\u001b[1mPOST /api/v1/workspaces/8fd20150-30bc-487d-810f-b24f39f10da5/run-metadata HTTP/1.1\u001b[0m\" \u001b[32m200 OK\u001b[0m\n",
            "\u001b[32mINFO\u001b[0m:     127.0.0.1:33840 - \"\u001b[1mGET /api/v1/artifacts?hydrate=False&sort_by=created&logical_operator=and&page=1&size=20&name=std_rmse HTTP/1.1\u001b[0m\" \u001b[32m200 OK\u001b[0m\n",
            "\u001b[32mINFO\u001b[0m:     127.0.0.1:33840 - \"\u001b[1mPOST /api/v1/artifacts HTTP/1.1\u001b[0m\" \u001b[32m200 OK\u001b[0m\n",
            "\u001b[32mINFO\u001b[0m:     127.0.0.1:33840 - \"\u001b[1mGET /api/v1/artifact_versions?hydrate=False&sort_by=desc%3Aversion_number&logical_operator=and&page=1&size=1&scope_workspace=8fd20150-30bc-487d-810f-b24f39f10da5&name=std_rmse&only_unused=False HTTP/1.1\u001b[0m\" \u001b[32m200 OK\u001b[0m\n",
            "\u001b[32mINFO\u001b[0m:     127.0.0.1:33840 - \"\u001b[1mPOST /api/v1/artifact_versions HTTP/1.1\u001b[0m\" \u001b[32m200 OK\u001b[0m\n",
            "\u001b[32mINFO\u001b[0m:     127.0.0.1:33840 - \"\u001b[1mPOST /api/v1/workspaces/8fd20150-30bc-487d-810f-b24f39f10da5/run-metadata HTTP/1.1\u001b[0m\" \u001b[32m200 OK\u001b[0m\n",
            "\u001b[32mINFO\u001b[0m:     127.0.0.1:33840 - \"\u001b[1mPUT /api/v1/steps/6aee33ec-493b-4476-8741-ffbd1cbade72 HTTP/1.1\u001b[0m\" \u001b[32m200 OK\u001b[0m\n",
            "\u001b[32mINFO\u001b[0m:     127.0.0.1:33840 - \"\u001b[1mPOST /api/v1/workspaces/8fd20150-30bc-487d-810f-b24f39f10da5/runs/get-or-create HTTP/1.1\u001b[0m\" \u001b[32m200 OK\u001b[0m\n",
            "\u001b[32mINFO\u001b[0m:     127.0.0.1:33840 - \"\u001b[1mGET /api/v1/steps?hydrate=False&sort_by=created&logical_operator=and&page=1&size=20&scope_workspace=8fd20150-30bc-487d-810f-b24f39f10da5&pipeline_run_id=9a8c7206-edf8-42a8-9fdb-f8bf768268cf HTTP/1.1\u001b[0m\" \u001b[32m200 OK\u001b[0m\n",
            "\u001b[32mINFO\u001b[0m:     127.0.0.1:33840 - \"\u001b[1mGET /api/v1/steps?hydrate=False&sort_by=desc%3Acreated&logical_operator=and&page=1&size=1&scope_workspace=8fd20150-30bc-487d-810f-b24f39f10da5&cache_key=072f37432319e377700156b854ae6350&status=completed&workspace_id=8fd20150-30bc-487d-810f-b24f39f10da5 HTTP/1.1\u001b[0m\" \u001b[32m200 OK\u001b[0m\n",
            "\u001b[32mINFO\u001b[0m:     127.0.0.1:33840 - \"\u001b[1mPOST /api/v1/steps HTTP/1.1\u001b[0m\" \u001b[32m200 OK\u001b[0m\n",
            "\u001b[32mINFO\u001b[0m:     127.0.0.1:33840 - \"\u001b[1mGET /api/v1/runs/9a8c7206-edf8-42a8-9fdb-f8bf768268cf?hydrate=True HTTP/1.1\u001b[0m\" \u001b[32m200 OK\u001b[0m\n",
            "\u001b[32mINFO\u001b[0m:     127.0.0.1:33840 - \"\u001b[1mGET /api/v1/steps/24cacaa4-b40e-4e8a-9faa-c6660997a67d?hydrate=True HTTP/1.1\u001b[0m\" \u001b[32m200 OK\u001b[0m\n",
            "\u001b[32mINFO\u001b[0m:     127.0.0.1:33840 - \"\u001b[1mGET /api/v1/artifact_versions/e34242af-c438-4087-aedc-568aa928605c?hydrate=True HTTP/1.1\u001b[0m\" \u001b[32m200 OK\u001b[0m\n",
            "\u001b[32mINFO\u001b[0m:     127.0.0.1:33840 - \"\u001b[1mGET /api/v1/components/7228fd26-0343-4d8e-91dc-534deb5a9988?hydrate=True HTTP/1.1\u001b[0m\" \u001b[32m200 OK\u001b[0m\n",
            "\u001b[32mINFO\u001b[0m:     127.0.0.1:33840 - \"\u001b[1mGET /api/v1/flavors?hydrate=True&sort_by=created&logical_operator=and&page=1&size=20&scope_workspace=8fd20150-30bc-487d-810f-b24f39f10da5&name=local&type=artifact_store HTTP/1.1\u001b[0m\" \u001b[32m200 OK\u001b[0m\n",
            "\u001b[32mINFO\u001b[0m:     127.0.0.1:33840 - \"\u001b[1mGET /api/v1/artifacts?hydrate=False&sort_by=created&logical_operator=and&page=1&size=20&name=continuous_deployment_pipeline%3A%3Adeployment_trigger%3A%3Aoutput HTTP/1.1\u001b[0m\" \u001b[32m200 OK\u001b[0m\n",
            "\u001b[32mINFO\u001b[0m:     127.0.0.1:33840 - \"\u001b[1mPOST /api/v1/artifacts HTTP/1.1\u001b[0m\" \u001b[32m200 OK\u001b[0m\n",
            "\u001b[32mINFO\u001b[0m:     127.0.0.1:33840 - \"\u001b[1mGET /api/v1/artifact_versions?hydrate=False&sort_by=desc%3Aversion_number&logical_operator=and&page=1&size=1&scope_workspace=8fd20150-30bc-487d-810f-b24f39f10da5&name=continuous_deployment_pipeline%3A%3Adeployment_trigger%3A%3Aoutput&only_unused=False HTTP/1.1\u001b[0m\" \u001b[32m200 OK\u001b[0m\n",
            "\u001b[32mINFO\u001b[0m:     127.0.0.1:33840 - \"\u001b[1mPOST /api/v1/artifact_versions HTTP/1.1\u001b[0m\" \u001b[32m200 OK\u001b[0m\n",
            "\u001b[32mINFO\u001b[0m:     127.0.0.1:33840 - \"\u001b[1mPOST /api/v1/workspaces/8fd20150-30bc-487d-810f-b24f39f10da5/run-metadata HTTP/1.1\u001b[0m\" \u001b[32m200 OK\u001b[0m\n",
            "\u001b[32mINFO\u001b[0m:     127.0.0.1:33840 - \"\u001b[1mPUT /api/v1/steps/24cacaa4-b40e-4e8a-9faa-c6660997a67d HTTP/1.1\u001b[0m\" \u001b[32m200 OK\u001b[0m\n",
            "\u001b[32mINFO\u001b[0m:     127.0.0.1:33840 - \"\u001b[1mPOST /api/v1/workspaces/8fd20150-30bc-487d-810f-b24f39f10da5/runs/get-or-create HTTP/1.1\u001b[0m\" \u001b[32m200 OK\u001b[0m\n",
            "\u001b[32mINFO\u001b[0m:     127.0.0.1:33840 - \"\u001b[1mGET /api/v1/steps?hydrate=False&sort_by=created&logical_operator=and&page=1&size=20&scope_workspace=8fd20150-30bc-487d-810f-b24f39f10da5&pipeline_run_id=9a8c7206-edf8-42a8-9fdb-f8bf768268cf HTTP/1.1\u001b[0m\" \u001b[32m200 OK\u001b[0m\n",
            "\u001b[32mINFO\u001b[0m:     127.0.0.1:33840 - \"\u001b[1mPOST /api/v1/steps HTTP/1.1\u001b[0m\" \u001b[32m200 OK\u001b[0m\n",
            "\u001b[32mINFO\u001b[0m:     127.0.0.1:33840 - \"\u001b[1mGET /api/v1/runs/9a8c7206-edf8-42a8-9fdb-f8bf768268cf?hydrate=True HTTP/1.1\u001b[0m\" \u001b[32m200 OK\u001b[0m\n",
            "\u001b[32mINFO\u001b[0m:     127.0.0.1:33840 - \"\u001b[1mGET /api/v1/steps/22564cdc-b9ef-45a9-9f63-4424e58e43b9?hydrate=True HTTP/1.1\u001b[0m\" \u001b[32m200 OK\u001b[0m\n",
            "\u001b[32mINFO\u001b[0m:     127.0.0.1:33840 - \"\u001b[1mGET /api/v1/artifact_versions/4ada9ed0-05b6-4e50-a4e3-5ffdd17b3cb8?hydrate=True HTTP/1.1\u001b[0m\" \u001b[32m200 OK\u001b[0m\n",
            "\u001b[32mINFO\u001b[0m:     127.0.0.1:33840 - \"\u001b[1mGET /api/v1/artifact_versions/9a00a8ba-61c3-496c-bc8d-7d190ae4c82f?hydrate=True HTTP/1.1\u001b[0m\" \u001b[32m200 OK\u001b[0m\n",
            "\u001b[32mINFO\u001b[0m:     127.0.0.1:33840 - \"\u001b[1mGET /api/v1/components/7228fd26-0343-4d8e-91dc-534deb5a9988?hydrate=True HTTP/1.1\u001b[0m\" \u001b[32m200 OK\u001b[0m\n",
            "\u001b[32mINFO\u001b[0m:     127.0.0.1:33840 - \"\u001b[1mGET /api/v1/flavors?hydrate=True&sort_by=created&logical_operator=and&page=1&size=20&scope_workspace=8fd20150-30bc-487d-810f-b24f39f10da5&name=local&type=artifact_store HTTP/1.1\u001b[0m\" \u001b[32m200 OK\u001b[0m\n",
            "\u001b[32mINFO\u001b[0m:     127.0.0.1:33840 - \"\u001b[1mGET /api/v1/services?hydrate=True&sort_by=desc%3Acreated&logical_operator=and&page=1&size=20&scope_workspace=8fd20150-30bc-487d-810f-b24f39f10da5&config=b%27eyJ0eXBlIjogInplbm1sLmludGVncmF0aW9ucy5tbGZsb3cuc2VydmljZXMubWxmbG93X2RlcGxveW1lbnQuTUxGbG93RGVwbG95bWVudENvbmZpZyIsICJuYW1lIjogIiIsICJkZXNjcmlwdGlvbiI6ICIiLCAicGlwZWxpbmVfbmFtZSI6ICJjb250aW51b3VzX2RlcGxveW1lbnRfcGlwZWxpbmUiLCAicGlwZWxpbmVfc3RlcF9uYW1lIjogIm1sZmxvd19tb2RlbF9kZXBsb3llcl9zdGVwIiwgIm1vZGVsX25hbWUiOiAibW9kZWwiLCAibW9kZWxfdmVyc2lvbiI6ICIiLCAic2VydmljZV9uYW1lIjogInplbm1sLW1vZGVsIiwgInNpbGVudF9kYWVtb24iOiBmYWxzZSwgInJvb3RfcnVudGltZV9wYXRoIjogbnVsbCwgInNpbmdsZXRvbiI6IGZhbHNlLCAiYmxvY2tpbmciOiBmYWxzZSwgIm1vZGVsX3VyaSI6ICJmaWxlOi8vL3Jvb3QvLmNvbmZpZy96ZW5tbC9sb2NhbF9zdG9yZXMvNzIyOGZkMjYtMDM0My00ZDhlLTkxZGMtNTM0ZGViNWE5OTg4L21scnVucy84MTY5MzA5OTEwNzg5NTA5NDgvOGMyYzcyMWI3MzdhNGViNzlhMzdlNDI2ZGJhN2E3ODkvYXJ0aWZhY3RzL21vZGVsIiwgInJlZ2lzdHJ5X21vZGVsX25hbWUiOiBudWxsLCAicmVnaXN0cnlfbW9kZWxfdmVyc2lvbiI6IG51bGwsICJyZWdpc3RyeV9tb2RlbF9zdGFnZSI6IG51bGwsICJ3b3JrZXJzIjogMywgIm1sc2VydmVyIjogZmFsc2UsICJ0aW1lb3V0IjogNjB9%27 HTTP/1.1\u001b[0m\" \u001b[32m200 OK\u001b[0m\n",
            "\u001b[32mINFO\u001b[0m:     127.0.0.1:33840 - \"\u001b[1mGET /api/v1/services?hydrate=True&sort_by=desc%3Acreated&logical_operator=and&page=1&size=20&scope_workspace=8fd20150-30bc-487d-810f-b24f39f10da5&type=model-serving&flavor=mlflow&config=b%27eyJ0eXBlIjogInplbm1sLmludGVncmF0aW9ucy5tbGZsb3cuc2VydmljZXMubWxmbG93X2RlcGxveW1lbnQuTUxGbG93RGVwbG95bWVudENvbmZpZyIsICJuYW1lIjogIiIsICJkZXNjcmlwdGlvbiI6ICIiLCAicGlwZWxpbmVfbmFtZSI6ICJjb250aW51b3VzX2RlcGxveW1lbnRfcGlwZWxpbmUiLCAicGlwZWxpbmVfc3RlcF9uYW1lIjogIm1sZmxvd19tb2RlbF9kZXBsb3llcl9zdGVwIiwgIm1vZGVsX25hbWUiOiAibW9kZWwiLCAibW9kZWxfdmVyc2lvbiI6ICIiLCAic2VydmljZV9uYW1lIjogInplbm1sLW1vZGVsIiwgInNpbGVudF9kYWVtb24iOiBmYWxzZSwgInJvb3RfcnVudGltZV9wYXRoIjogbnVsbCwgInNpbmdsZXRvbiI6IGZhbHNlLCAiYmxvY2tpbmciOiBmYWxzZSwgIm1vZGVsX3VyaSI6ICJmaWxlOi8vL3Jvb3QvLmNvbmZpZy96ZW5tbC9sb2NhbF9zdG9yZXMvNzIyOGZkMjYtMDM0My00ZDhlLTkxZGMtNTM0ZGViNWE5OTg4L21scnVucy84MTY5MzA5OTEwNzg5NTA5NDgvOGMyYzcyMWI3MzdhNGViNzlhMzdlNDI2ZGJhN2E3ODkvYXJ0aWZhY3RzL21vZGVsIiwgInJlZ2lzdHJ5X21vZGVsX25hbWUiOiBudWxsLCAicmVnaXN0cnlfbW9kZWxfdmVyc2lvbiI6IG51bGwsICJyZWdpc3RyeV9tb2RlbF9zdGFnZSI6IG51bGwsICJ3b3JrZXJzIjogMywgIm1sc2VydmVyIjogZmFsc2UsICJ0aW1lb3V0IjogNjB9%27 HTTP/1.1\u001b[0m\" \u001b[32m200 OK\u001b[0m\n",
            "\u001b[31mAPI error\u001b[0m\n",
            "Traceback (most recent call last):\n",
            "  File \"/usr/local/lib/python3.10/dist-packages/zenml/zen_server/utils.py\", line 355, in decorated\n",
            "    return func(*args, **kwargs)\n",
            "  File \"/usr/local/lib/python3.10/dist-packages/zenml/zen_server/routers/models_endpoints.py\", line 218, in list_model_versions\n",
            "    model_versions = zen_store().list_model_versions(\n",
            "  File \"/usr/local/lib/python3.10/dist-packages/zenml/zen_stores/sql_zen_store.py\", line 10053, in list_model_versions\n",
            "    model = self.get_model(model_name_or_id)\n",
            "  File \"/usr/local/lib/python3.10/dist-packages/zenml/zen_stores/sql_zen_store.py\", line 9814, in get_model\n",
            "    model = self._get_model_schema(\n",
            "  File \"/usr/local/lib/python3.10/dist-packages/zenml/zen_stores/sql_zen_store.py\", line 9646, in _get_model_schema\n",
            "    return self._get_schema_by_name_or_id(\n",
            "  File \"/usr/local/lib/python3.10/dist-packages/zenml/zen_stores/sql_zen_store.py\", line 9517, in _get_schema_by_name_or_id\n",
            "    raise KeyError(error_msg)\n",
            "KeyError: \"Unable to get model with name or ID 'model': 'model' is not a valid  UUID and no model with this name exists.\"\n",
            "\u001b[32mINFO\u001b[0m:     127.0.0.1:33840 - \"\u001b[1mGET /api/v1/models/model/model_versions?hydrate=True&sort_by=created&logical_operator=and&page=1&size=20&name= HTTP/1.1\u001b[0m\" \u001b[31m404 Not Found\u001b[0m\n",
            "\u001b[32mINFO\u001b[0m:     127.0.0.1:33840 - \"\u001b[1mPOST /api/v1/services HTTP/1.1\u001b[0m\" \u001b[32m200 OK\u001b[0m\n",
            "\u001b[32mINFO\u001b[0m:     127.0.0.1:42394 - \"\u001b[1mGET /api/v1/info HTTP/1.1\u001b[0m\" \u001b[32m200 OK\u001b[0m\n",
            "\u001b[32mINFO\u001b[0m:     127.0.0.1:42394 - \"\u001b[1mGET /api/v1/workspaces/default?hydrate=True HTTP/1.1\u001b[0m\" \u001b[32m200 OK\u001b[0m\n",
            "\u001b[32mINFO\u001b[0m:     127.0.0.1:42394 - \"\u001b[1mGET /api/v1/stacks/9606c665-91f1-44f1-8258-615a608fb5b5?hydrate=True HTTP/1.1\u001b[0m\" \u001b[32m200 OK\u001b[0m\n",
            "\u001b[32mINFO\u001b[0m:     127.0.0.1:42394 - \"\u001b[1mGET /api/v1/workspaces/8fd20150-30bc-487d-810f-b24f39f10da5?hydrate=True HTTP/1.1\u001b[0m\" \u001b[32m200 OK\u001b[0m\n",
            "\u001b[32mINFO\u001b[0m:     127.0.0.1:42394 - \"\u001b[1mGET /api/v1/stacks/7459afc2-e3cd-4e1e-8909-7941ff9ad743?hydrate=True HTTP/1.1\u001b[0m\" \u001b[32m200 OK\u001b[0m\n",
            "\u001b[32mINFO\u001b[0m:     127.0.0.1:42394 - \"\u001b[1mGET /api/v1/components?hydrate=True&sort_by=created&logical_operator=and&page=1&size=20&scope_workspace=8fd20150-30bc-487d-810f-b24f39f10da5&workspace_id=8fd20150-30bc-487d-810f-b24f39f10da5&stack_id=7459afc2-e3cd-4e1e-8909-7941ff9ad743 HTTP/1.1\u001b[0m\" \u001b[32m200 OK\u001b[0m\n",
            "\u001b[32mINFO\u001b[0m:     127.0.0.1:42394 - \"\u001b[1mGET /api/v1/flavors?hydrate=True&sort_by=created&logical_operator=and&page=1&size=20&scope_workspace=8fd20150-30bc-487d-810f-b24f39f10da5&name=local&type=orchestrator HTTP/1.1\u001b[0m\" \u001b[32m200 OK\u001b[0m\n",
            "\u001b[32mINFO\u001b[0m:     127.0.0.1:42394 - \"\u001b[1mGET /api/v1/flavors?hydrate=True&sort_by=created&logical_operator=and&page=1&size=20&scope_workspace=8fd20150-30bc-487d-810f-b24f39f10da5&name=local&type=artifact_store HTTP/1.1\u001b[0m\" \u001b[32m200 OK\u001b[0m\n",
            "\u001b[32mINFO\u001b[0m:     127.0.0.1:42394 - \"\u001b[1mGET /api/v1/flavors?hydrate=True&sort_by=created&logical_operator=and&page=1&size=20&scope_workspace=8fd20150-30bc-487d-810f-b24f39f10da5&name=mlflow&type=experiment_tracker HTTP/1.1\u001b[0m\" \u001b[32m200 OK\u001b[0m\n",
            "\u001b[32mINFO\u001b[0m:     127.0.0.1:42394 - \"\u001b[1mGET /api/v1/flavors?hydrate=True&sort_by=created&logical_operator=and&page=1&size=20&scope_workspace=8fd20150-30bc-487d-810f-b24f39f10da5&name=mlflow&type=model_deployer HTTP/1.1\u001b[0m\" \u001b[32m200 OK\u001b[0m\n",
            "\u001b[32mINFO\u001b[0m:     127.0.0.1:34248 - \"\u001b[1mPUT /api/v1/services/ba8fc2d0-8b67-40a3-8b39-9190db0e676c HTTP/1.1\u001b[0m\" \u001b[32m200 OK\u001b[0m\n",
            "\u001b[32mINFO\u001b[0m:     127.0.0.1:34248 - \"\u001b[1mGET /api/v1/artifacts?hydrate=False&sort_by=created&logical_operator=and&page=1&size=20&name=continuous_deployment_pipeline%3A%3Amlflow_model_deployer_step%3A%3Aoutput HTTP/1.1\u001b[0m\" \u001b[32m200 OK\u001b[0m\n",
            "\u001b[32mINFO\u001b[0m:     127.0.0.1:34248 - \"\u001b[1mPOST /api/v1/artifacts HTTP/1.1\u001b[0m\" \u001b[32m200 OK\u001b[0m\n",
            "\u001b[32mINFO\u001b[0m:     127.0.0.1:34248 - \"\u001b[1mGET /api/v1/artifact_versions?hydrate=False&sort_by=desc%3Aversion_number&logical_operator=and&page=1&size=1&scope_workspace=8fd20150-30bc-487d-810f-b24f39f10da5&name=continuous_deployment_pipeline%3A%3Amlflow_model_deployer_step%3A%3Aoutput&only_unused=False HTTP/1.1\u001b[0m\" \u001b[32m200 OK\u001b[0m\n",
            "\u001b[32mINFO\u001b[0m:     127.0.0.1:34248 - \"\u001b[1mPOST /api/v1/artifact_versions HTTP/1.1\u001b[0m\" \u001b[32m200 OK\u001b[0m\n",
            "\u001b[32mINFO\u001b[0m:     127.0.0.1:34248 - \"\u001b[1mPOST /api/v1/workspaces/8fd20150-30bc-487d-810f-b24f39f10da5/run-metadata HTTP/1.1\u001b[0m\" \u001b[32m200 OK\u001b[0m\n",
            "\u001b[32mINFO\u001b[0m:     127.0.0.1:34248 - \"\u001b[1mPUT /api/v1/steps/22564cdc-b9ef-45a9-9f63-4424e58e43b9 HTTP/1.1\u001b[0m\" \u001b[32m200 OK\u001b[0m\n",
            "\u001b[32mINFO\u001b[0m:     127.0.0.1:34248 - \"\u001b[1mGET /api/v1/runs/9a8c7206-edf8-42a8-9fdb-f8bf768268cf?hydrate=True HTTP/1.1\u001b[0m\" \u001b[32m200 OK\u001b[0m\n",
            "\u001b[32mINFO\u001b[0m:     127.0.0.1:34248 - \"\u001b[1mGET /api/v1/info HTTP/1.1\u001b[0m\" \u001b[32m200 OK\u001b[0m\n",
            "\u001b[32mINFO\u001b[0m:     127.0.0.1:34248 - \"\u001b[1mGET /api/v1/current-user?hydrate=True HTTP/1.1\u001b[0m\" \u001b[32m200 OK\u001b[0m\n",
            "\u001b[31mAPI error\u001b[0m\n",
            "Traceback (most recent call last):\n",
            "  File \"/usr/local/lib/python3.10/dist-packages/zenml/zen_server/utils.py\", line 355, in decorated\n",
            "    return func(*args, **kwargs)\n",
            "  File \"/usr/local/lib/python3.10/dist-packages/zenml/zen_server/routers/models_endpoints.py\", line 218, in list_model_versions\n",
            "    model_versions = zen_store().list_model_versions(\n",
            "  File \"/usr/local/lib/python3.10/dist-packages/zenml/zen_stores/sql_zen_store.py\", line 10053, in list_model_versions\n",
            "    model = self.get_model(model_name_or_id)\n",
            "  File \"/usr/local/lib/python3.10/dist-packages/zenml/zen_stores/sql_zen_store.py\", line 9814, in get_model\n",
            "    model = self._get_model_schema(\n",
            "  File \"/usr/local/lib/python3.10/dist-packages/zenml/zen_stores/sql_zen_store.py\", line 9646, in _get_model_schema\n",
            "    return self._get_schema_by_name_or_id(\n",
            "  File \"/usr/local/lib/python3.10/dist-packages/zenml/zen_stores/sql_zen_store.py\", line 9517, in _get_schema_by_name_or_id\n",
            "    raise KeyError(error_msg)\n",
            "KeyError: \"Unable to get model with name or ID 'model': 'model' is not a valid  UUID and no model with this name exists.\"\n",
            "\u001b[32mINFO\u001b[0m:     127.0.0.1:34248 - \"\u001b[1mGET /api/v1/models/model/model_versions?hydrate=True&sort_by=desc%3Anumber&logical_operator=and&page=1&size=20 HTTP/1.1\u001b[0m\" \u001b[31m404 Not Found\u001b[0m\n",
            "\u001b[32mINFO\u001b[0m:     127.0.0.1:34248 - \"\u001b[1mGET /api/v1/services?hydrate=True&sort_by=desc%3Acreated&logical_operator=and&page=1&size=20&scope_workspace=8fd20150-30bc-487d-810f-b24f39f10da5&pipeline_name=continuous_deployment_pipeline&pipeline_step_name=mlflow_model_deployer_step HTTP/1.1\u001b[0m\" \u001b[32m200 OK\u001b[0m\n"
          ]
        },
        {
          "output_type": "stream",
          "name": "stderr",
          "text": [
            "INFO:pyngrok.process.ngrok:t=2024-11-16T22:58:29+0000 lvl=info msg=\"join connections\" obj=join id=8d4e44f27219 l=127.0.0.1:8237 r=99.225.251.17:65489\n"
          ]
        },
        {
          "output_type": "stream",
          "name": "stdout",
          "text": [
            "\u001b[1;35mt=2024-11-16T22:58:29+0000 lvl=info msg=\"join connections\" obj=join id=8d4e44f27219 l=127.0.0.1:8237 r=99.225.251.17:65489\u001b[0m\n"
          ]
        },
        {
          "output_type": "stream",
          "name": "stderr",
          "text": [
            "INFO:pyngrok.process.ngrok:t=2024-11-16T22:58:29+0000 lvl=info msg=\"join connections\" obj=join id=5dc70868d083 l=127.0.0.1:8237 r=99.225.251.17:65489\n"
          ]
        },
        {
          "output_type": "stream",
          "name": "stdout",
          "text": [
            "\u001b[1;35mt=2024-11-16T22:58:29+0000 lvl=info msg=\"join connections\" obj=join id=5dc70868d083 l=127.0.0.1:8237 r=99.225.251.17:65489\u001b[0m\n"
          ]
        },
        {
          "output_type": "stream",
          "name": "stderr",
          "text": [
            "INFO:pyngrok.process.ngrok:t=2024-11-16T22:58:29+0000 lvl=info msg=\"join connections\" obj=join id=dcccca8c6568 l=127.0.0.1:8237 r=99.225.251.17:65489\n"
          ]
        },
        {
          "output_type": "stream",
          "name": "stdout",
          "text": [
            "\u001b[1;35mt=2024-11-16T22:58:29+0000 lvl=info msg=\"join connections\" obj=join id=dcccca8c6568 l=127.0.0.1:8237 r=99.225.251.17:65489\u001b[0m\n"
          ]
        },
        {
          "output_type": "stream",
          "name": "stderr",
          "text": [
            "INFO:pyngrok.process.ngrok:t=2024-11-16T22:58:29+0000 lvl=info msg=\"join connections\" obj=join id=74657ae589d5 l=127.0.0.1:8237 r=99.225.251.17:65489\n"
          ]
        },
        {
          "output_type": "stream",
          "name": "stdout",
          "text": [
            "\u001b[1;35mt=2024-11-16T22:58:29+0000 lvl=info msg=\"join connections\" obj=join id=74657ae589d5 l=127.0.0.1:8237 r=99.225.251.17:65489\u001b[0m\n"
          ]
        },
        {
          "output_type": "stream",
          "name": "stderr",
          "text": [
            "INFO:pyngrok.process.ngrok:t=2024-11-16T22:58:29+0000 lvl=info msg=\"join connections\" obj=join id=4d7737235837 l=127.0.0.1:8237 r=99.225.251.17:65489\n"
          ]
        },
        {
          "output_type": "stream",
          "name": "stdout",
          "text": [
            "\u001b[32mINFO\u001b[0m:     99.225.251.17:0 - \"\u001b[1mGET /api/v1/info HTTP/1.1\u001b[0m\" \u001b[32m200 OK\u001b[0m\n",
            "\u001b[1;35mGot token from cookie\u001b[0m\n",
            "\u001b[1;35mt=2024-11-16T22:58:29+0000 lvl=info msg=\"join connections\" obj=join id=4d7737235837 l=127.0.0.1:8237 r=99.225.251.17:65489\u001b[0m\n",
            "\u001b[1;35mGot token from cookie\u001b[0m\n",
            "\u001b[1;35mGot token from cookie\u001b[0m\n",
            "\u001b[1;35mGot token from cookie\u001b[0m\n",
            "\u001b[32mINFO\u001b[0m:     99.225.251.17:0 - \"\u001b[1mGET /api/v1/onboarding_state HTTP/1.1\u001b[0m\" \u001b[32m200 OK\u001b[0m\n",
            "\u001b[32mINFO\u001b[0m:     99.225.251.17:0 - \"\u001b[1mGET /api/v1/current-user HTTP/1.1\u001b[0m\" \u001b[32m200 OK\u001b[0m\n",
            "\u001b[32mINFO\u001b[0m:     99.225.251.17:0 - \"\u001b[1mGET /api/v1/settings HTTP/1.1\u001b[0m\" \u001b[32m200 OK\u001b[0m\n",
            "\u001b[32mINFO\u001b[0m:     99.225.251.17:0 - \"\u001b[1mGET /api/v1/pipelines?page=1&sort_by=desc%3Alatest_run HTTP/1.1\u001b[0m\" \u001b[32m200 OK\u001b[0m\n",
            "\u001b[32mINFO\u001b[0m:     99.225.251.17:0 - \"\u001b[1mGET /assets/page-CS0SYFK8.js HTTP/1.1\u001b[0m\" \u001b[32m200 OK\u001b[0m\n",
            "\u001b[1;35mGot token from cookie\u001b[0m\n",
            "\u001b[32mINFO\u001b[0m:     99.225.251.17:0 - \"\u001b[1mGET /api/v1/runs?pipeline_name=continuous_deployment_pipeline&page=1&sort_by=desc%3Aupdated HTTP/1.1\u001b[0m\" \u001b[32m200 OK\u001b[0m\n",
            "\u001b[32mINFO\u001b[0m:     99.225.251.17:0 - \"\u001b[1mGET /assets/page-BjjuBvZG.js HTTP/1.1\u001b[0m\" \u001b[32m200 OK\u001b[0m\n"
          ]
        },
        {
          "output_type": "stream",
          "name": "stderr",
          "text": [
            "INFO:pyngrok.process.ngrok:t=2024-11-16T22:58:33+0000 lvl=info msg=\"join connections\" obj=join id=b809d8a279d6 l=127.0.0.1:8237 r=99.225.251.17:65489\n"
          ]
        },
        {
          "output_type": "stream",
          "name": "stdout",
          "text": [
            "\u001b[1;35mt=2024-11-16T22:58:33+0000 lvl=info msg=\"join connections\" obj=join id=b809d8a279d6 l=127.0.0.1:8237 r=99.225.251.17:65489\u001b[0m\n"
          ]
        },
        {
          "output_type": "stream",
          "name": "stderr",
          "text": [
            "INFO:pyngrok.process.ngrok:t=2024-11-16T22:58:33+0000 lvl=info msg=\"join connections\" obj=join id=b32126077405 l=127.0.0.1:8237 r=99.225.251.17:65489\n"
          ]
        },
        {
          "output_type": "stream",
          "name": "stdout",
          "text": [
            "\u001b[1;35mt=2024-11-16T22:58:33+0000 lvl=info msg=\"join connections\" obj=join id=b32126077405 l=127.0.0.1:8237 r=99.225.251.17:65489\u001b[0m\n"
          ]
        },
        {
          "output_type": "stream",
          "name": "stderr",
          "text": [
            "INFO:pyngrok.process.ngrok:t=2024-11-16T22:58:33+0000 lvl=info msg=\"join connections\" obj=join id=f64c420c9051 l=127.0.0.1:8237 r=99.225.251.17:65489\n"
          ]
        },
        {
          "output_type": "stream",
          "name": "stdout",
          "text": [
            "\u001b[1;35mt=2024-11-16T22:58:33+0000 lvl=info msg=\"join connections\" obj=join id=f64c420c9051 l=127.0.0.1:8237 r=99.225.251.17:65489\u001b[0m\n"
          ]
        },
        {
          "output_type": "stream",
          "name": "stderr",
          "text": [
            "INFO:pyngrok.process.ngrok:t=2024-11-16T22:58:33+0000 lvl=info msg=\"join connections\" obj=join id=6b51e91caaab l=127.0.0.1:8237 r=99.225.251.17:65489\n"
          ]
        },
        {
          "output_type": "stream",
          "name": "stdout",
          "text": [
            "\u001b[1;35mt=2024-11-16T22:58:33+0000 lvl=info msg=\"join connections\" obj=join id=6b51e91caaab l=127.0.0.1:8237 r=99.225.251.17:65489\u001b[0m\n"
          ]
        },
        {
          "output_type": "stream",
          "name": "stderr",
          "text": [
            "INFO:pyngrok.process.ngrok:t=2024-11-16T22:58:33+0000 lvl=info msg=\"join connections\" obj=join id=6ce460b93426 l=127.0.0.1:8237 r=99.225.251.17:65489\n"
          ]
        },
        {
          "output_type": "stream",
          "name": "stdout",
          "text": [
            "\u001b[1;35mt=2024-11-16T22:58:33+0000 lvl=info msg=\"join connections\" obj=join id=6ce460b93426 l=127.0.0.1:8237 r=99.225.251.17:65489\u001b[0m\n"
          ]
        },
        {
          "output_type": "stream",
          "name": "stderr",
          "text": [
            "INFO:pyngrok.process.ngrok:t=2024-11-16T22:58:33+0000 lvl=info msg=\"join connections\" obj=join id=3c2d81943314 l=127.0.0.1:8237 r=99.225.251.17:65489\n"
          ]
        },
        {
          "output_type": "stream",
          "name": "stdout",
          "text": [
            "\u001b[1;35mt=2024-11-16T22:58:33+0000 lvl=info msg=\"join connections\" obj=join id=3c2d81943314 l=127.0.0.1:8237 r=99.225.251.17:65489\u001b[0m\n"
          ]
        },
        {
          "output_type": "stream",
          "name": "stderr",
          "text": [
            "INFO:pyngrok.process.ngrok:t=2024-11-16T22:58:33+0000 lvl=info msg=\"join connections\" obj=join id=cdf3ada89491 l=127.0.0.1:8237 r=99.225.251.17:65489\n"
          ]
        },
        {
          "output_type": "stream",
          "name": "stdout",
          "text": [
            "\u001b[32mINFO\u001b[0m:     99.225.251.17:0 - \"\u001b[1mGET /assets/Error-BhwdmqK7.js HTTP/1.1\u001b[0m\" \u001b[32m200 OK\u001b[0m\n",
            "\u001b[32mINFO\u001b[0m:     99.225.251.17:0 - \"\u001b[1mGET /assets/CollapsibleCard-BhutZbBL.js HTTP/1.1\u001b[0m\" \u001b[32m200 OK\u001b[0m\n",
            "\u001b[32mINFO\u001b[0m:     99.225.251.17:0 - \"\u001b[1mGET /assets/code-browser-BJYErIjr.js HTTP/1.1\u001b[0m\" \u001b[32m200 OK\u001b[0m\n",
            "\u001b[1;35mt=2024-11-16T22:58:33+0000 lvl=info msg=\"join connections\" obj=join id=cdf3ada89491 l=127.0.0.1:8237 r=99.225.251.17:65489\u001b[0m\n"
          ]
        },
        {
          "output_type": "stream",
          "name": "stderr",
          "text": [
            "INFO:pyngrok.process.ngrok:t=2024-11-16T22:58:33+0000 lvl=info msg=\"join connections\" obj=join id=4c06a46dd20a l=127.0.0.1:8237 r=99.225.251.17:65489\n"
          ]
        },
        {
          "output_type": "stream",
          "name": "stdout",
          "text": [
            "\u001b[1;35mt=2024-11-16T22:58:33+0000 lvl=info msg=\"join connections\" obj=join id=4c06a46dd20a l=127.0.0.1:8237 r=99.225.251.17:65489\u001b[0m\n",
            "\u001b[32mINFO\u001b[0m:     99.225.251.17:0 - \"\u001b[1mGET /assets/EmptyState-Cs3DEmso.js HTTP/1.1\u001b[0m\" \u001b[32m200 OK\u001b[0m\n",
            "\u001b[32mINFO\u001b[0m:     99.225.251.17:0 - \"\u001b[1mGET /assets/stack-detail-query-DQcyzG-2.js HTTP/1.1\u001b[0m\" \u001b[32m200 OK\u001b[0m\n",
            "\u001b[32mINFO\u001b[0m:     99.225.251.17:0 - \"\u001b[1mGET /assets/layout-Dru15_XR.js HTTP/1.1\u001b[0m\" \u001b[32m200 OK\u001b[0m\n",
            "\u001b[32mINFO\u001b[0m:     99.225.251.17:0 - \"\u001b[1mGET /assets/docker-BFAFXr2_.js HTTP/1.1\u001b[0m\" \u001b[32m200 OK\u001b[0m\n",
            "\u001b[32mINFO\u001b[0m:     99.225.251.17:0 - \"\u001b[1mGET /assets/ComponentBadge-gKR1OIwG.js HTTP/1.1\u001b[0m\" \u001b[32m200 OK\u001b[0m\n",
            "\u001b[32mINFO\u001b[0m:     99.225.251.17:0 - \"\u001b[1mGET /assets/tick-circle-m-hJG8i9.js HTTP/1.1\u001b[0m\" \u001b[32m200 OK\u001b[0m\n",
            "\u001b[32mINFO\u001b[0m:     99.225.251.17:0 - \"\u001b[1mGET /assets/logs-GiDJXbLS.js HTTP/1.1\u001b[0m\" \u001b[32m200 OK\u001b[0m\n",
            "\u001b[1;35mGot token from cookie\u001b[0m\n",
            "\u001b[32mINFO\u001b[0m:     99.225.251.17:0 - \"\u001b[1mGET /api/v1/info HTTP/1.1\u001b[0m\" \u001b[32m200 OK\u001b[0m\n",
            "\u001b[32mINFO\u001b[0m:     99.225.251.17:0 - \"\u001b[1mGET /api/v1/runs/9a8c7206-edf8-42a8-9fdb-f8bf768268cf HTTP/1.1\u001b[0m\" \u001b[32m200 OK\u001b[0m\n",
            "\u001b[1;35mGot token from cookie\u001b[0m\n",
            "\u001b[32mINFO\u001b[0m:     99.225.251.17:0 - \"\u001b[1mGET /api/v1/pipeline_deployments/570a5afe-1fbc-4b42-b982-7a176eb92436 HTTP/1.1\u001b[0m\" \u001b[32m200 OK\u001b[0m\n"
          ]
        },
        {
          "output_type": "stream",
          "name": "stderr",
          "text": [
            "INFO:pyngrok.process.ngrok:t=2024-11-16T23:01:01+0000 lvl=info msg=\"join connections\" obj=join id=fa2932ff0656 l=127.0.0.1:8237 r=99.225.251.17:65534\n"
          ]
        },
        {
          "output_type": "stream",
          "name": "stdout",
          "text": [
            "\u001b[1;35mt=2024-11-16T23:01:01+0000 lvl=info msg=\"join connections\" obj=join id=fa2932ff0656 l=127.0.0.1:8237 r=99.225.251.17:65534\u001b[0m\n"
          ]
        },
        {
          "output_type": "stream",
          "name": "stderr",
          "text": [
            "INFO:pyngrok.process.ngrok:t=2024-11-16T23:01:01+0000 lvl=info msg=\"join connections\" obj=join id=246ed2217ba0 l=127.0.0.1:8237 r=99.225.251.17:65534\n"
          ]
        },
        {
          "output_type": "stream",
          "name": "stdout",
          "text": [
            "\u001b[1;35mt=2024-11-16T23:01:01+0000 lvl=info msg=\"join connections\" obj=join id=246ed2217ba0 l=127.0.0.1:8237 r=99.225.251.17:65534\u001b[0m\n"
          ]
        },
        {
          "output_type": "stream",
          "name": "stderr",
          "text": [
            "INFO:pyngrok.process.ngrok:t=2024-11-16T23:01:01+0000 lvl=info msg=\"join connections\" obj=join id=bf1b680797be l=127.0.0.1:8237 r=99.225.251.17:65534\n"
          ]
        },
        {
          "output_type": "stream",
          "name": "stdout",
          "text": [
            "\u001b[1;35mt=2024-11-16T23:01:01+0000 lvl=info msg=\"join connections\" obj=join id=bf1b680797be l=127.0.0.1:8237 r=99.225.251.17:65534\u001b[0m\n"
          ]
        },
        {
          "output_type": "stream",
          "name": "stderr",
          "text": [
            "INFO:pyngrok.process.ngrok:t=2024-11-16T23:01:01+0000 lvl=info msg=\"join connections\" obj=join id=eb8df0234d84 l=127.0.0.1:8237 r=99.225.251.17:65534\n"
          ]
        },
        {
          "output_type": "stream",
          "name": "stdout",
          "text": [
            "\u001b[1;35mt=2024-11-16T23:01:01+0000 lvl=info msg=\"join connections\" obj=join id=eb8df0234d84 l=127.0.0.1:8237 r=99.225.251.17:65534\u001b[0m\n"
          ]
        },
        {
          "output_type": "stream",
          "name": "stderr",
          "text": [
            "INFO:pyngrok.process.ngrok:t=2024-11-16T23:01:01+0000 lvl=info msg=\"join connections\" obj=join id=791f8ef41bcd l=127.0.0.1:8237 r=99.225.251.17:65534\n"
          ]
        },
        {
          "output_type": "stream",
          "name": "stdout",
          "text": [
            "\u001b[1;35mt=2024-11-16T23:01:01+0000 lvl=info msg=\"join connections\" obj=join id=791f8ef41bcd l=127.0.0.1:8237 r=99.225.251.17:65534\u001b[0m\n"
          ]
        },
        {
          "output_type": "stream",
          "name": "stderr",
          "text": [
            "INFO:pyngrok.process.ngrok:t=2024-11-16T23:01:01+0000 lvl=info msg=\"join connections\" obj=join id=2c358d020856 l=127.0.0.1:8237 r=99.225.251.17:65534\n"
          ]
        },
        {
          "output_type": "stream",
          "name": "stdout",
          "text": [
            "\u001b[1;35mt=2024-11-16T23:01:01+0000 lvl=info msg=\"join connections\" obj=join id=2c358d020856 l=127.0.0.1:8237 r=99.225.251.17:65534\u001b[0m\n",
            "\u001b[32mINFO\u001b[0m:     99.225.251.17:0 - \"\u001b[1mGET /api/v1/info HTTP/1.1\u001b[0m\" \u001b[32m200 OK\u001b[0m\n",
            "\u001b[1;35mGot token from cookie\u001b[0m\n",
            "\u001b[1;35mGot token from cookie\u001b[0m\n",
            "\u001b[1;35mGot token from cookie\u001b[0m\n",
            "\u001b[1;35mGot token from cookie\u001b[0m\n",
            "\u001b[1;35mGot token from cookie\u001b[0m\n",
            "\u001b[32mINFO\u001b[0m:     99.225.251.17:0 - \"\u001b[1mGET /api/v1/settings HTTP/1.1\u001b[0m\" \u001b[32m200 OK\u001b[0m\n",
            "\u001b[32mINFO\u001b[0m:     99.225.251.17:0 - \"\u001b[1mGET /api/v1/onboarding_state HTTP/1.1\u001b[0m\" \u001b[32m200 OK\u001b[0m\n",
            "\u001b[32mINFO\u001b[0m:     99.225.251.17:0 - \"\u001b[1mGET /api/v1/current-user HTTP/1.1\u001b[0m\" \u001b[32m200 OK\u001b[0m\n",
            "\u001b[32mINFO\u001b[0m:     99.225.251.17:0 - \"\u001b[1mGET /api/v1/pipeline_deployments/570a5afe-1fbc-4b42-b982-7a176eb92436 HTTP/1.1\u001b[0m\" \u001b[32m200 OK\u001b[0m\n",
            "\u001b[32mINFO\u001b[0m:     99.225.251.17:0 - \"\u001b[1mGET /api/v1/runs/9a8c7206-edf8-42a8-9fdb-f8bf768268cf HTTP/1.1\u001b[0m\" \u001b[32m200 OK\u001b[0m\n",
            "\u001b[32mINFO\u001b[0m:     127.0.0.1:41380 - \"\u001b[1mGET /api/v1/info HTTP/1.1\u001b[0m\" \u001b[32m200 OK\u001b[0m\n",
            "\u001b[32mINFO\u001b[0m:     127.0.0.1:41380 - \"\u001b[1mGET /api/v1/workspaces/default?hydrate=True HTTP/1.1\u001b[0m\" \u001b[32m200 OK\u001b[0m\n",
            "\u001b[32mINFO\u001b[0m:     127.0.0.1:41380 - \"\u001b[1mGET /api/v1/stacks/9606c665-91f1-44f1-8258-615a608fb5b5?hydrate=True HTTP/1.1\u001b[0m\" \u001b[32m200 OK\u001b[0m\n",
            "\u001b[32mINFO\u001b[0m:     127.0.0.1:41380 - \"\u001b[1mGET /api/v1/workspaces/8fd20150-30bc-487d-810f-b24f39f10da5?hydrate=True HTTP/1.1\u001b[0m\" \u001b[32m200 OK\u001b[0m\n",
            "\u001b[32mINFO\u001b[0m:     127.0.0.1:41380 - \"\u001b[1mGET /api/v1/stacks/7459afc2-e3cd-4e1e-8909-7941ff9ad743?hydrate=True HTTP/1.1\u001b[0m\" \u001b[32m200 OK\u001b[0m\n",
            "\u001b[32mINFO\u001b[0m:     127.0.0.1:41380 - \"\u001b[1mGET /api/v1/components?hydrate=True&sort_by=created&logical_operator=and&page=1&size=20&scope_workspace=8fd20150-30bc-487d-810f-b24f39f10da5&workspace_id=8fd20150-30bc-487d-810f-b24f39f10da5&stack_id=7459afc2-e3cd-4e1e-8909-7941ff9ad743 HTTP/1.1\u001b[0m\" \u001b[32m200 OK\u001b[0m\n",
            "\u001b[32mINFO\u001b[0m:     127.0.0.1:41380 - \"\u001b[1mGET /api/v1/flavors?hydrate=True&sort_by=created&logical_operator=and&page=1&size=20&scope_workspace=8fd20150-30bc-487d-810f-b24f39f10da5&name=local&type=orchestrator HTTP/1.1\u001b[0m\" \u001b[32m200 OK\u001b[0m\n",
            "\u001b[32mINFO\u001b[0m:     127.0.0.1:41380 - \"\u001b[1mGET /api/v1/flavors?hydrate=True&sort_by=created&logical_operator=and&page=1&size=20&scope_workspace=8fd20150-30bc-487d-810f-b24f39f10da5&name=local&type=artifact_store HTTP/1.1\u001b[0m\" \u001b[32m200 OK\u001b[0m\n",
            "\u001b[32mINFO\u001b[0m:     127.0.0.1:41380 - \"\u001b[1mGET /api/v1/flavors?hydrate=True&sort_by=created&logical_operator=and&page=1&size=20&scope_workspace=8fd20150-30bc-487d-810f-b24f39f10da5&name=mlflow&type=experiment_tracker HTTP/1.1\u001b[0m\" \u001b[32m200 OK\u001b[0m\n",
            "\u001b[32mINFO\u001b[0m:     127.0.0.1:41380 - \"\u001b[1mGET /api/v1/flavors?hydrate=True&sort_by=created&logical_operator=and&page=1&size=20&scope_workspace=8fd20150-30bc-487d-810f-b24f39f10da5&name=mlflow&type=model_deployer HTTP/1.1\u001b[0m\" \u001b[32m200 OK\u001b[0m\n",
            "\u001b[32mINFO\u001b[0m:     127.0.0.1:38754 - \"\u001b[1mGET /api/v1/code_repositories?hydrate=False&sort_by=created&logical_operator=and&page=1&size=20&scope_workspace=8fd20150-30bc-487d-810f-b24f39f10da5 HTTP/1.1\u001b[0m\" \u001b[32m200 OK\u001b[0m\n",
            "\u001b[32mINFO\u001b[0m:     127.0.0.1:38754 - \"\u001b[1mGET /api/v1/info HTTP/1.1\u001b[0m\" \u001b[32m200 OK\u001b[0m\n",
            "\u001b[32mINFO\u001b[0m:     127.0.0.1:38754 - \"\u001b[1mGET /api/v1/pipelines?hydrate=False&sort_by=desc%3Acreated&logical_operator=and&page=1&size=1&scope_workspace=8fd20150-30bc-487d-810f-b24f39f10da5&name=inference_pipeline HTTP/1.1\u001b[0m\" \u001b[32m200 OK\u001b[0m\n",
            "\u001b[32mINFO\u001b[0m:     127.0.0.1:38754 - \"\u001b[1mGET /api/v1/current-user?hydrate=True HTTP/1.1\u001b[0m\" \u001b[32m200 OK\u001b[0m\n",
            "\u001b[32mINFO\u001b[0m:     127.0.0.1:38754 - \"\u001b[1mPOST /api/v1/workspaces/8fd20150-30bc-487d-810f-b24f39f10da5/pipelines HTTP/1.1\u001b[0m\" \u001b[32m200 OK\u001b[0m\n",
            "\u001b[32mINFO\u001b[0m:     127.0.0.1:38754 - \"\u001b[1mPOST /api/v1/workspaces/8fd20150-30bc-487d-810f-b24f39f10da5/pipeline_deployments HTTP/1.1\u001b[0m\" \u001b[32m200 OK\u001b[0m\n",
            "\u001b[32mINFO\u001b[0m:     127.0.0.1:38754 - \"\u001b[1mGET /api/v1/stacks/7459afc2-e3cd-4e1e-8909-7941ff9ad743?hydrate=True HTTP/1.1\u001b[0m\" \u001b[32m200 OK\u001b[0m\n",
            "\u001b[32mINFO\u001b[0m:     127.0.0.1:38754 - \"\u001b[1mPOST /api/v1/workspaces/8fd20150-30bc-487d-810f-b24f39f10da5/runs HTTP/1.1\u001b[0m\" \u001b[32m200 OK\u001b[0m\n",
            "\u001b[32mINFO\u001b[0m:     127.0.0.1:38754 - \"\u001b[1mGET /api/v1/stacks/7459afc2-e3cd-4e1e-8909-7941ff9ad743?hydrate=True HTTP/1.1\u001b[0m\" \u001b[32m200 OK\u001b[0m\n",
            "\u001b[32mINFO\u001b[0m:     127.0.0.1:38754 - \"\u001b[1mGET /api/v1/info HTTP/1.1\u001b[0m\" \u001b[32m200 OK\u001b[0m\n",
            "\u001b[32mINFO\u001b[0m:     127.0.0.1:38754 - \"\u001b[1mGET /api/v1/info HTTP/1.1\u001b[0m\" \u001b[32m200 OK\u001b[0m\n",
            "\u001b[32mINFO\u001b[0m:     127.0.0.1:38754 - \"\u001b[1mGET /api/v1/api_token?pipeline_id=fa1acae6-80fe-44ab-81df-3cda98003abc&expires_minutes=1440 HTTP/1.1\u001b[0m\" \u001b[32m200 OK\u001b[0m\n",
            "\u001b[32mINFO\u001b[0m:     127.0.0.1:38754 - \"\u001b[1mPOST /api/v1/workspaces/8fd20150-30bc-487d-810f-b24f39f10da5/runs/get-or-create HTTP/1.1\u001b[0m\" \u001b[32m200 OK\u001b[0m\n",
            "\u001b[32mINFO\u001b[0m:     127.0.0.1:38754 - \"\u001b[1mGET /api/v1/steps?hydrate=False&sort_by=created&logical_operator=and&page=1&size=20&scope_workspace=8fd20150-30bc-487d-810f-b24f39f10da5&pipeline_run_id=1699bfcf-ba66-4cbc-8df2-fc3904070ea5 HTTP/1.1\u001b[0m\" \u001b[32m200 OK\u001b[0m\n",
            "\u001b[32mINFO\u001b[0m:     127.0.0.1:38754 - \"\u001b[1mPOST /api/v1/steps HTTP/1.1\u001b[0m\" \u001b[32m200 OK\u001b[0m\n",
            "\u001b[32mINFO\u001b[0m:     127.0.0.1:38754 - \"\u001b[1mGET /api/v1/runs/1699bfcf-ba66-4cbc-8df2-fc3904070ea5?hydrate=True HTTP/1.1\u001b[0m\" \u001b[32m200 OK\u001b[0m\n",
            "\u001b[32mINFO\u001b[0m:     127.0.0.1:38754 - \"\u001b[1mGET /api/v1/steps/3fd21094-e0d5-4be7-99fa-777d5e69f595?hydrate=True HTTP/1.1\u001b[0m\" \u001b[32m200 OK\u001b[0m\n",
            "\u001b[32mINFO\u001b[0m:     127.0.0.1:38754 - \"\u001b[1mGET /api/v1/artifacts?hydrate=False&sort_by=created&logical_operator=and&page=1&size=20&name=inference_pipeline%3A%3Adynamic_importer%3A%3Aoutput HTTP/1.1\u001b[0m\" \u001b[32m200 OK\u001b[0m\n",
            "\u001b[32mINFO\u001b[0m:     127.0.0.1:38754 - \"\u001b[1mPOST /api/v1/artifacts HTTP/1.1\u001b[0m\" \u001b[32m200 OK\u001b[0m\n",
            "\u001b[32mINFO\u001b[0m:     127.0.0.1:38754 - \"\u001b[1mGET /api/v1/artifact_versions?hydrate=False&sort_by=desc%3Aversion_number&logical_operator=and&page=1&size=1&scope_workspace=8fd20150-30bc-487d-810f-b24f39f10da5&name=inference_pipeline%3A%3Adynamic_importer%3A%3Aoutput&only_unused=False HTTP/1.1\u001b[0m\" \u001b[32m200 OK\u001b[0m\n",
            "\u001b[32mINFO\u001b[0m:     127.0.0.1:38754 - \"\u001b[1mPOST /api/v1/artifact_versions HTTP/1.1\u001b[0m\" \u001b[32m200 OK\u001b[0m\n",
            "\u001b[32mINFO\u001b[0m:     127.0.0.1:38754 - \"\u001b[1mPOST /api/v1/workspaces/8fd20150-30bc-487d-810f-b24f39f10da5/run-metadata HTTP/1.1\u001b[0m\" \u001b[32m200 OK\u001b[0m\n",
            "\u001b[32mINFO\u001b[0m:     127.0.0.1:38754 - \"\u001b[1mPUT /api/v1/steps/3fd21094-e0d5-4be7-99fa-777d5e69f595 HTTP/1.1\u001b[0m\" \u001b[32m200 OK\u001b[0m\n",
            "\u001b[32mINFO\u001b[0m:     127.0.0.1:38754 - \"\u001b[1mPOST /api/v1/workspaces/8fd20150-30bc-487d-810f-b24f39f10da5/runs/get-or-create HTTP/1.1\u001b[0m\" \u001b[32m200 OK\u001b[0m\n",
            "\u001b[32mINFO\u001b[0m:     127.0.0.1:38754 - \"\u001b[1mGET /api/v1/steps?hydrate=False&sort_by=created&logical_operator=and&page=1&size=20&scope_workspace=8fd20150-30bc-487d-810f-b24f39f10da5&pipeline_run_id=1699bfcf-ba66-4cbc-8df2-fc3904070ea5 HTTP/1.1\u001b[0m\" \u001b[32m200 OK\u001b[0m\n",
            "\u001b[32mINFO\u001b[0m:     127.0.0.1:38754 - \"\u001b[1mPOST /api/v1/steps HTTP/1.1\u001b[0m\" \u001b[32m200 OK\u001b[0m\n",
            "\u001b[32mINFO\u001b[0m:     127.0.0.1:38754 - \"\u001b[1mGET /api/v1/runs/1699bfcf-ba66-4cbc-8df2-fc3904070ea5?hydrate=True HTTP/1.1\u001b[0m\" \u001b[32m200 OK\u001b[0m\n",
            "\u001b[32mINFO\u001b[0m:     127.0.0.1:38754 - \"\u001b[1mGET /api/v1/steps/9a38752b-b406-4f03-8195-d47a83e0feb5?hydrate=True HTTP/1.1\u001b[0m\" \u001b[32m200 OK\u001b[0m\n",
            "\u001b[31mAPI error\u001b[0m\n",
            "Traceback (most recent call last):\n",
            "  File \"/usr/local/lib/python3.10/dist-packages/zenml/zen_server/utils.py\", line 355, in decorated\n",
            "    return func(*args, **kwargs)\n",
            "  File \"/usr/local/lib/python3.10/dist-packages/zenml/zen_server/routers/models_endpoints.py\", line 218, in list_model_versions\n",
            "    model_versions = zen_store().list_model_versions(\n",
            "  File \"/usr/local/lib/python3.10/dist-packages/zenml/zen_stores/sql_zen_store.py\", line 10053, in list_model_versions\n",
            "    model = self.get_model(model_name_or_id)\n",
            "  File \"/usr/local/lib/python3.10/dist-packages/zenml/zen_stores/sql_zen_store.py\", line 9814, in get_model\n",
            "    model = self._get_model_schema(\n",
            "  File \"/usr/local/lib/python3.10/dist-packages/zenml/zen_stores/sql_zen_store.py\", line 9646, in _get_model_schema\n",
            "    return self._get_schema_by_name_or_id(\n",
            "  File \"/usr/local/lib/python3.10/dist-packages/zenml/zen_stores/sql_zen_store.py\", line 9517, in _get_schema_by_name_or_id\n",
            "    raise KeyError(error_msg)\n",
            "KeyError: \"Unable to get model with name or ID 'model': 'model' is not a valid  UUID and no model with this name exists.\"\n",
            "\u001b[32mINFO\u001b[0m:     127.0.0.1:38754 - \"\u001b[1mGET /api/v1/models/model/model_versions?hydrate=True&sort_by=desc%3Anumber&logical_operator=and&page=1&size=20 HTTP/1.1\u001b[0m\" \u001b[31m404 Not Found\u001b[0m\n",
            "\u001b[32mINFO\u001b[0m:     127.0.0.1:38754 - \"\u001b[1mGET /api/v1/services?hydrate=True&sort_by=desc%3Acreated&logical_operator=and&page=1&size=20&scope_workspace=8fd20150-30bc-487d-810f-b24f39f10da5&pipeline_name=continuous_deployment_pipeline&pipeline_step_name=mlflow_model_deployer_step&running=False HTTP/1.1\u001b[0m\" \u001b[32m200 OK\u001b[0m\n",
            "\u001b[32mINFO\u001b[0m:     127.0.0.1:38754 - \"\u001b[1mGET /api/v1/artifacts?hydrate=False&sort_by=created&logical_operator=and&page=1&size=20&name=inference_pipeline%3A%3Aprediction_service_loader%3A%3Aoutput HTTP/1.1\u001b[0m\" \u001b[32m200 OK\u001b[0m\n",
            "\u001b[32mINFO\u001b[0m:     127.0.0.1:38754 - \"\u001b[1mPOST /api/v1/artifacts HTTP/1.1\u001b[0m\" \u001b[32m200 OK\u001b[0m\n",
            "\u001b[32mINFO\u001b[0m:     127.0.0.1:38754 - \"\u001b[1mGET /api/v1/artifact_versions?hydrate=False&sort_by=desc%3Aversion_number&logical_operator=and&page=1&size=1&scope_workspace=8fd20150-30bc-487d-810f-b24f39f10da5&name=inference_pipeline%3A%3Aprediction_service_loader%3A%3Aoutput&only_unused=False HTTP/1.1\u001b[0m\" \u001b[32m200 OK\u001b[0m\n",
            "\u001b[32mINFO\u001b[0m:     127.0.0.1:38754 - \"\u001b[1mPOST /api/v1/artifact_versions HTTP/1.1\u001b[0m\" \u001b[32m200 OK\u001b[0m\n",
            "\u001b[32mINFO\u001b[0m:     127.0.0.1:38754 - \"\u001b[1mPOST /api/v1/workspaces/8fd20150-30bc-487d-810f-b24f39f10da5/run-metadata HTTP/1.1\u001b[0m\" \u001b[32m200 OK\u001b[0m\n",
            "\u001b[32mINFO\u001b[0m:     127.0.0.1:38754 - \"\u001b[1mPUT /api/v1/steps/9a38752b-b406-4f03-8195-d47a83e0feb5 HTTP/1.1\u001b[0m\" \u001b[32m200 OK\u001b[0m\n",
            "\u001b[32mINFO\u001b[0m:     127.0.0.1:38754 - \"\u001b[1mPOST /api/v1/workspaces/8fd20150-30bc-487d-810f-b24f39f10da5/runs/get-or-create HTTP/1.1\u001b[0m\" \u001b[32m200 OK\u001b[0m\n",
            "\u001b[32mINFO\u001b[0m:     127.0.0.1:38754 - \"\u001b[1mGET /api/v1/steps?hydrate=False&sort_by=created&logical_operator=and&page=1&size=20&scope_workspace=8fd20150-30bc-487d-810f-b24f39f10da5&pipeline_run_id=1699bfcf-ba66-4cbc-8df2-fc3904070ea5 HTTP/1.1\u001b[0m\" \u001b[32m200 OK\u001b[0m\n",
            "\u001b[32mINFO\u001b[0m:     127.0.0.1:38754 - \"\u001b[1mPOST /api/v1/steps HTTP/1.1\u001b[0m\" \u001b[32m200 OK\u001b[0m\n",
            "\u001b[32mINFO\u001b[0m:     127.0.0.1:38754 - \"\u001b[1mGET /api/v1/runs/1699bfcf-ba66-4cbc-8df2-fc3904070ea5?hydrate=True HTTP/1.1\u001b[0m\" \u001b[32m200 OK\u001b[0m\n",
            "\u001b[32mINFO\u001b[0m:     127.0.0.1:38754 - \"\u001b[1mGET /api/v1/steps/4f4e1e11-a5c5-481f-b7a8-2553e80d6ff2?hydrate=True HTTP/1.1\u001b[0m\" \u001b[32m200 OK\u001b[0m\n",
            "\u001b[32mINFO\u001b[0m:     127.0.0.1:38754 - \"\u001b[1mGET /api/v1/artifact_versions/c209ba56-a983-4bf4-ae07-176175e941f7?hydrate=True HTTP/1.1\u001b[0m\" \u001b[32m200 OK\u001b[0m\n",
            "\u001b[32mINFO\u001b[0m:     127.0.0.1:38754 - \"\u001b[1mGET /api/v1/components/7228fd26-0343-4d8e-91dc-534deb5a9988?hydrate=True HTTP/1.1\u001b[0m\" \u001b[32m200 OK\u001b[0m\n",
            "\u001b[32mINFO\u001b[0m:     127.0.0.1:38754 - \"\u001b[1mGET /api/v1/flavors?hydrate=True&sort_by=created&logical_operator=and&page=1&size=20&scope_workspace=8fd20150-30bc-487d-810f-b24f39f10da5&name=local&type=artifact_store HTTP/1.1\u001b[0m\" \u001b[32m200 OK\u001b[0m\n",
            "\u001b[32mINFO\u001b[0m:     127.0.0.1:38754 - \"\u001b[1mGET /api/v1/services/ba8fc2d0-8b67-40a3-8b39-9190db0e676c?hydrate=True HTTP/1.1\u001b[0m\" \u001b[32m200 OK\u001b[0m\n",
            "\u001b[32mINFO\u001b[0m:     127.0.0.1:38754 - \"\u001b[1mGET /api/v1/artifact_versions/1d3134af-d23a-46b9-9ef1-9839dcecbf7e?hydrate=True HTTP/1.1\u001b[0m\" \u001b[32m200 OK\u001b[0m\n",
            "\u001b[32mINFO\u001b[0m:     127.0.0.1:38754 - \"\u001b[1mGET /api/v1/components/7228fd26-0343-4d8e-91dc-534deb5a9988?hydrate=True HTTP/1.1\u001b[0m\" \u001b[32m200 OK\u001b[0m\n",
            "\u001b[32mINFO\u001b[0m:     127.0.0.1:38754 - \"\u001b[1mGET /api/v1/flavors?hydrate=True&sort_by=created&logical_operator=and&page=1&size=20&scope_workspace=8fd20150-30bc-487d-810f-b24f39f10da5&name=local&type=artifact_store HTTP/1.1\u001b[0m\" \u001b[32m200 OK\u001b[0m\n",
            "\u001b[32mINFO\u001b[0m:     127.0.0.1:38754 - \"\u001b[1mGET /api/v1/artifacts?hydrate=False&sort_by=created&logical_operator=and&page=1&size=20&name=inference_pipeline%3A%3Apredictor%3A%3Aoutput HTTP/1.1\u001b[0m\" \u001b[32m200 OK\u001b[0m\n",
            "\u001b[32mINFO\u001b[0m:     127.0.0.1:38754 - \"\u001b[1mPOST /api/v1/artifacts HTTP/1.1\u001b[0m\" \u001b[32m200 OK\u001b[0m\n",
            "\u001b[32mINFO\u001b[0m:     127.0.0.1:38754 - \"\u001b[1mGET /api/v1/artifact_versions?hydrate=False&sort_by=desc%3Aversion_number&logical_operator=and&page=1&size=1&scope_workspace=8fd20150-30bc-487d-810f-b24f39f10da5&name=inference_pipeline%3A%3Apredictor%3A%3Aoutput&only_unused=False HTTP/1.1\u001b[0m\" \u001b[32m200 OK\u001b[0m\n",
            "\u001b[32mINFO\u001b[0m:     127.0.0.1:38754 - \"\u001b[1mPOST /api/v1/artifact_versions HTTP/1.1\u001b[0m\" \u001b[32m200 OK\u001b[0m\n",
            "\u001b[32mINFO\u001b[0m:     127.0.0.1:38754 - \"\u001b[1mPOST /api/v1/workspaces/8fd20150-30bc-487d-810f-b24f39f10da5/run-metadata HTTP/1.1\u001b[0m\" \u001b[32m200 OK\u001b[0m\n",
            "\u001b[32mINFO\u001b[0m:     127.0.0.1:38754 - \"\u001b[1mPUT /api/v1/steps/4f4e1e11-a5c5-481f-b7a8-2553e80d6ff2 HTTP/1.1\u001b[0m\" \u001b[32m200 OK\u001b[0m\n",
            "\u001b[32mINFO\u001b[0m:     127.0.0.1:38754 - \"\u001b[1mGET /api/v1/runs/1699bfcf-ba66-4cbc-8df2-fc3904070ea5?hydrate=True HTTP/1.1\u001b[0m\" \u001b[32m200 OK\u001b[0m\n",
            "\u001b[32mINFO\u001b[0m:     127.0.0.1:38754 - \"\u001b[1mGET /api/v1/info HTTP/1.1\u001b[0m\" \u001b[32m200 OK\u001b[0m\n",
            "\u001b[32mINFO\u001b[0m:     127.0.0.1:38754 - \"\u001b[1mGET /api/v1/current-user?hydrate=True HTTP/1.1\u001b[0m\" \u001b[32m200 OK\u001b[0m\n",
            "\u001b[31mAPI error\u001b[0m\n",
            "Traceback (most recent call last):\n",
            "  File \"/usr/local/lib/python3.10/dist-packages/zenml/zen_server/utils.py\", line 355, in decorated\n",
            "    return func(*args, **kwargs)\n",
            "  File \"/usr/local/lib/python3.10/dist-packages/zenml/zen_server/routers/models_endpoints.py\", line 218, in list_model_versions\n",
            "    model_versions = zen_store().list_model_versions(\n",
            "  File \"/usr/local/lib/python3.10/dist-packages/zenml/zen_stores/sql_zen_store.py\", line 10053, in list_model_versions\n",
            "    model = self.get_model(model_name_or_id)\n",
            "  File \"/usr/local/lib/python3.10/dist-packages/zenml/zen_stores/sql_zen_store.py\", line 9814, in get_model\n",
            "    model = self._get_model_schema(\n",
            "  File \"/usr/local/lib/python3.10/dist-packages/zenml/zen_stores/sql_zen_store.py\", line 9646, in _get_model_schema\n",
            "    return self._get_schema_by_name_or_id(\n",
            "  File \"/usr/local/lib/python3.10/dist-packages/zenml/zen_stores/sql_zen_store.py\", line 9517, in _get_schema_by_name_or_id\n",
            "    raise KeyError(error_msg)\n",
            "KeyError: \"Unable to get model with name or ID 'model': 'model' is not a valid  UUID and no model with this name exists.\"\n",
            "\u001b[32mINFO\u001b[0m:     127.0.0.1:38754 - \"\u001b[1mGET /api/v1/models/model/model_versions?hydrate=True&sort_by=desc%3Anumber&logical_operator=and&page=1&size=20 HTTP/1.1\u001b[0m\" \u001b[31m404 Not Found\u001b[0m\n",
            "\u001b[32mINFO\u001b[0m:     127.0.0.1:38754 - \"\u001b[1mGET /api/v1/services?hydrate=True&sort_by=desc%3Acreated&logical_operator=and&page=1&size=20&scope_workspace=8fd20150-30bc-487d-810f-b24f39f10da5&pipeline_name=continuous_deployment_pipeline&pipeline_step_name=mlflow_model_deployer_step HTTP/1.1\u001b[0m\" \u001b[32m200 OK\u001b[0m\n"
          ]
        },
        {
          "output_type": "stream",
          "name": "stderr",
          "text": [
            "INFO:pyngrok.process.ngrok:t=2024-11-16T23:01:37+0000 lvl=info msg=\"join connections\" obj=join id=2b44feb6f4cd l=127.0.0.1:8237 r=99.225.251.17:65534\n"
          ]
        },
        {
          "output_type": "stream",
          "name": "stdout",
          "text": [
            "\u001b[1;35mt=2024-11-16T23:01:37+0000 lvl=info msg=\"join connections\" obj=join id=2b44feb6f4cd l=127.0.0.1:8237 r=99.225.251.17:65534\u001b[0m\n"
          ]
        },
        {
          "output_type": "stream",
          "name": "stderr",
          "text": [
            "INFO:pyngrok.process.ngrok:t=2024-11-16T23:01:37+0000 lvl=info msg=\"join connections\" obj=join id=12edffcbafb1 l=127.0.0.1:8237 r=99.225.251.17:65534\n"
          ]
        },
        {
          "output_type": "stream",
          "name": "stdout",
          "text": [
            "\u001b[1;35mt=2024-11-16T23:01:37+0000 lvl=info msg=\"join connections\" obj=join id=12edffcbafb1 l=127.0.0.1:8237 r=99.225.251.17:65534\u001b[0m\n"
          ]
        },
        {
          "output_type": "stream",
          "name": "stderr",
          "text": [
            "INFO:pyngrok.process.ngrok:t=2024-11-16T23:01:37+0000 lvl=info msg=\"join connections\" obj=join id=7135c731c39b l=127.0.0.1:8237 r=99.225.251.17:65534\n"
          ]
        },
        {
          "output_type": "stream",
          "name": "stdout",
          "text": [
            "\u001b[1;35mt=2024-11-16T23:01:37+0000 lvl=info msg=\"join connections\" obj=join id=7135c731c39b l=127.0.0.1:8237 r=99.225.251.17:65534\u001b[0m\n"
          ]
        },
        {
          "output_type": "stream",
          "name": "stderr",
          "text": [
            "INFO:pyngrok.process.ngrok:t=2024-11-16T23:01:37+0000 lvl=info msg=\"join connections\" obj=join id=91b02f61a542 l=127.0.0.1:8237 r=99.225.251.17:65534\n"
          ]
        },
        {
          "output_type": "stream",
          "name": "stdout",
          "text": [
            "\u001b[1;35mt=2024-11-16T23:01:37+0000 lvl=info msg=\"join connections\" obj=join id=91b02f61a542 l=127.0.0.1:8237 r=99.225.251.17:65534\u001b[0m\n"
          ]
        },
        {
          "output_type": "stream",
          "name": "stderr",
          "text": [
            "INFO:pyngrok.process.ngrok:t=2024-11-16T23:01:37+0000 lvl=info msg=\"join connections\" obj=join id=a06f644f81fe l=127.0.0.1:8237 r=99.225.251.17:65534\n"
          ]
        },
        {
          "output_type": "stream",
          "name": "stdout",
          "text": [
            "\u001b[1;35mt=2024-11-16T23:01:37+0000 lvl=info msg=\"join connections\" obj=join id=a06f644f81fe l=127.0.0.1:8237 r=99.225.251.17:65534\u001b[0m\n"
          ]
        },
        {
          "output_type": "stream",
          "name": "stderr",
          "text": [
            "INFO:pyngrok.process.ngrok:t=2024-11-16T23:01:37+0000 lvl=info msg=\"join connections\" obj=join id=b03a15992399 l=127.0.0.1:8237 r=99.225.251.17:65534\n"
          ]
        },
        {
          "output_type": "stream",
          "name": "stdout",
          "text": [
            "\u001b[1;35mt=2024-11-16T23:01:37+0000 lvl=info msg=\"join connections\" obj=join id=b03a15992399 l=127.0.0.1:8237 r=99.225.251.17:65534\u001b[0m\n",
            "\u001b[32mINFO\u001b[0m:     99.225.251.17:0 - \"\u001b[1mGET /api/v1/info HTTP/1.1\u001b[0m\" \u001b[32m200 OK\u001b[0m\n",
            "\u001b[1;35mGot token from cookie\u001b[0m\n",
            "\u001b[1;35mGot token from cookie\u001b[0m\n",
            "\u001b[1;35mGot token from cookie\u001b[0m\n",
            "\u001b[1;35mGot token from cookie\u001b[0m\n",
            "\u001b[1;35mGot token from cookie\u001b[0m\n",
            "\u001b[32mINFO\u001b[0m:     99.225.251.17:0 - \"\u001b[1mGET /api/v1/settings HTTP/1.1\u001b[0m\" \u001b[32m200 OK\u001b[0m\n",
            "\u001b[32mINFO\u001b[0m:     99.225.251.17:0 - \"\u001b[1mGET /api/v1/pipeline_deployments/570a5afe-1fbc-4b42-b982-7a176eb92436 HTTP/1.1\u001b[0m\" \u001b[32m200 OK\u001b[0m\n",
            "\u001b[32mINFO\u001b[0m:     99.225.251.17:0 - \"\u001b[1mGET /api/v1/current-user HTTP/1.1\u001b[0m\" \u001b[32m200 OK\u001b[0m\n",
            "\u001b[32mINFO\u001b[0m:     99.225.251.17:0 - \"\u001b[1mGET /api/v1/onboarding_state HTTP/1.1\u001b[0m\" \u001b[32m200 OK\u001b[0m\n",
            "\u001b[32mINFO\u001b[0m:     99.225.251.17:0 - \"\u001b[1mGET /api/v1/runs/9a8c7206-edf8-42a8-9fdb-f8bf768268cf HTTP/1.1\u001b[0m\" \u001b[32m200 OK\u001b[0m\n",
            "\u001b[1;35mGot token from cookie\u001b[0m\n",
            "\u001b[32mINFO\u001b[0m:     99.225.251.17:0 - \"\u001b[1mGET /api/v1/pipelines?page=1&sort_by=desc%3Alatest_run HTTP/1.1\u001b[0m\" \u001b[32m200 OK\u001b[0m\n",
            "\u001b[1;35mGot token from cookie\u001b[0m\n",
            "\u001b[32mINFO\u001b[0m:     99.225.251.17:0 - \"\u001b[1mGET /api/v1/runs?pipeline_name=inference_pipeline&page=1&sort_by=desc%3Aupdated HTTP/1.1\u001b[0m\" \u001b[32m200 OK\u001b[0m\n"
          ]
        },
        {
          "output_type": "stream",
          "name": "stderr",
          "text": [
            "INFO:pyngrok.process.ngrok:t=2024-11-16T23:01:43+0000 lvl=info msg=\"join connections\" obj=join id=40f0cf5c9400 l=127.0.0.1:8237 r=99.225.251.17:65534\n"
          ]
        },
        {
          "output_type": "stream",
          "name": "stdout",
          "text": [
            "\u001b[1;35mt=2024-11-16T23:01:43+0000 lvl=info msg=\"join connections\" obj=join id=40f0cf5c9400 l=127.0.0.1:8237 r=99.225.251.17:65534\u001b[0m\n",
            "\u001b[1;35mGot token from cookie\u001b[0m\n",
            "\u001b[32mINFO\u001b[0m:     99.225.251.17:0 - \"\u001b[1mGET /api/v1/info HTTP/1.1\u001b[0m\" \u001b[32m200 OK\u001b[0m\n",
            "\u001b[32mINFO\u001b[0m:     99.225.251.17:0 - \"\u001b[1mGET /api/v1/runs/1699bfcf-ba66-4cbc-8df2-fc3904070ea5 HTTP/1.1\u001b[0m\" \u001b[32m200 OK\u001b[0m\n",
            "\u001b[1;35mGot token from cookie\u001b[0m\n",
            "\u001b[32mINFO\u001b[0m:     99.225.251.17:0 - \"\u001b[1mGET /api/v1/pipeline_deployments/68468c6f-810f-49ba-bec8-d6336a3fee49 HTTP/1.1\u001b[0m\" \u001b[32m200 OK\u001b[0m\n"
          ]
        },
        {
          "output_type": "stream",
          "name": "stderr",
          "text": [
            "INFO:pyngrok.process.ngrok:t=2024-11-16T23:03:03+0000 lvl=info msg=\"join connections\" obj=join id=6bb434b3208a l=127.0.0.1:8237 r=99.225.251.17:65534\n"
          ]
        },
        {
          "output_type": "stream",
          "name": "stdout",
          "text": [
            "\u001b[1;35mt=2024-11-16T23:03:03+0000 lvl=info msg=\"join connections\" obj=join id=6bb434b3208a l=127.0.0.1:8237 r=99.225.251.17:65534\u001b[0m\n"
          ]
        },
        {
          "output_type": "stream",
          "name": "stderr",
          "text": [
            "INFO:pyngrok.process.ngrok:t=2024-11-16T23:03:03+0000 lvl=info msg=\"join connections\" obj=join id=bd75046e2983 l=127.0.0.1:8237 r=99.225.251.17:65534\n"
          ]
        },
        {
          "output_type": "stream",
          "name": "stdout",
          "text": [
            "\u001b[32mINFO\u001b[0m:     99.225.251.17:0 - \"\u001b[1mGET /api/v1/info HTTP/1.1\u001b[0m\" \u001b[32m200 OK\u001b[0m\n",
            "\u001b[1;35mt=2024-11-16T23:03:03+0000 lvl=info msg=\"join connections\" obj=join id=bd75046e2983 l=127.0.0.1:8237 r=99.225.251.17:65534\u001b[0m\n"
          ]
        },
        {
          "output_type": "stream",
          "name": "stderr",
          "text": [
            "INFO:pyngrok.process.ngrok:t=2024-11-16T23:03:03+0000 lvl=info msg=\"join connections\" obj=join id=93fd6ff4fd84 l=127.0.0.1:8237 r=99.225.251.17:65534\n"
          ]
        },
        {
          "output_type": "stream",
          "name": "stdout",
          "text": [
            "\u001b[1;35mt=2024-11-16T23:03:03+0000 lvl=info msg=\"join connections\" obj=join id=93fd6ff4fd84 l=127.0.0.1:8237 r=99.225.251.17:65534\u001b[0m\n"
          ]
        },
        {
          "output_type": "stream",
          "name": "stderr",
          "text": [
            "INFO:pyngrok.process.ngrok:t=2024-11-16T23:03:03+0000 lvl=info msg=\"join connections\" obj=join id=1cde4a4e8876 l=127.0.0.1:8237 r=99.225.251.17:65534\n"
          ]
        },
        {
          "output_type": "stream",
          "name": "stdout",
          "text": [
            "\u001b[1;35mt=2024-11-16T23:03:03+0000 lvl=info msg=\"join connections\" obj=join id=1cde4a4e8876 l=127.0.0.1:8237 r=99.225.251.17:65534\u001b[0m\n"
          ]
        },
        {
          "output_type": "stream",
          "name": "stderr",
          "text": [
            "INFO:pyngrok.process.ngrok:t=2024-11-16T23:03:03+0000 lvl=info msg=\"join connections\" obj=join id=1807e76cfc1e l=127.0.0.1:8237 r=99.225.251.17:65534\n"
          ]
        },
        {
          "output_type": "stream",
          "name": "stdout",
          "text": [
            "\u001b[1;35mt=2024-11-16T23:03:03+0000 lvl=info msg=\"join connections\" obj=join id=1807e76cfc1e l=127.0.0.1:8237 r=99.225.251.17:65534\u001b[0m\n"
          ]
        },
        {
          "output_type": "stream",
          "name": "stderr",
          "text": [
            "INFO:pyngrok.process.ngrok:t=2024-11-16T23:03:03+0000 lvl=info msg=\"join connections\" obj=join id=85fdcd7a787c l=127.0.0.1:8237 r=99.225.251.17:65534\n"
          ]
        },
        {
          "output_type": "stream",
          "name": "stdout",
          "text": [
            "\u001b[1;35mt=2024-11-16T23:03:03+0000 lvl=info msg=\"join connections\" obj=join id=85fdcd7a787c l=127.0.0.1:8237 r=99.225.251.17:65534\u001b[0m\n",
            "\u001b[1;35mGot token from cookie\u001b[0m\n",
            "\u001b[1;35mGot token from cookie\u001b[0m\n",
            "\u001b[1;35mGot token from cookie\u001b[0m\n",
            "\u001b[1;35mGot token from cookie\u001b[0m\n",
            "\u001b[1;35mGot token from cookie\u001b[0m\n",
            "\u001b[32mINFO\u001b[0m:     99.225.251.17:0 - \"\u001b[1mGET /api/v1/settings HTTP/1.1\u001b[0m\" \u001b[32m200 OK\u001b[0m\n",
            "\u001b[32mINFO\u001b[0m:     99.225.251.17:0 - \"\u001b[1mGET /api/v1/current-user HTTP/1.1\u001b[0m\" \u001b[32m200 OK\u001b[0m\n",
            "\u001b[32mINFO\u001b[0m:     99.225.251.17:0 - \"\u001b[1mGET /api/v1/onboarding_state HTTP/1.1\u001b[0m\" \u001b[32m200 OK\u001b[0m\n",
            "\u001b[32mINFO\u001b[0m:     99.225.251.17:0 - \"\u001b[1mGET /api/v1/pipeline_deployments/68468c6f-810f-49ba-bec8-d6336a3fee49 HTTP/1.1\u001b[0m\" \u001b[32m200 OK\u001b[0m\n",
            "\u001b[32mINFO\u001b[0m:     99.225.251.17:0 - \"\u001b[1mGET /api/v1/runs/1699bfcf-ba66-4cbc-8df2-fc3904070ea5 HTTP/1.1\u001b[0m\" \u001b[32m200 OK\u001b[0m\n"
          ]
        },
        {
          "output_type": "stream",
          "name": "stderr",
          "text": [
            "INFO:pyngrok.process.ngrok:t=2024-11-16T23:14:16+0000 lvl=info msg=\"join connections\" obj=join id=78871dadd9a6 l=127.0.0.1:8237 r=99.225.251.17:49245\n"
          ]
        },
        {
          "output_type": "stream",
          "name": "stdout",
          "text": [
            "\u001b[1;35mt=2024-11-16T23:14:16+0000 lvl=info msg=\"join connections\" obj=join id=78871dadd9a6 l=127.0.0.1:8237 r=99.225.251.17:49245\u001b[0m\n"
          ]
        },
        {
          "output_type": "stream",
          "name": "stderr",
          "text": [
            "INFO:pyngrok.process.ngrok:t=2024-11-16T23:14:16+0000 lvl=info msg=\"join connections\" obj=join id=8cebe0c0991a l=127.0.0.1:8237 r=99.225.251.17:49245\n"
          ]
        },
        {
          "output_type": "stream",
          "name": "stdout",
          "text": [
            "\u001b[1;35mt=2024-11-16T23:14:16+0000 lvl=info msg=\"join connections\" obj=join id=8cebe0c0991a l=127.0.0.1:8237 r=99.225.251.17:49245\u001b[0m\n"
          ]
        },
        {
          "output_type": "stream",
          "name": "stderr",
          "text": [
            "INFO:pyngrok.process.ngrok:t=2024-11-16T23:14:16+0000 lvl=info msg=\"join connections\" obj=join id=989ba6820a6f l=127.0.0.1:8237 r=99.225.251.17:49245\n"
          ]
        },
        {
          "output_type": "stream",
          "name": "stdout",
          "text": [
            "\u001b[1;35mt=2024-11-16T23:14:16+0000 lvl=info msg=\"join connections\" obj=join id=989ba6820a6f l=127.0.0.1:8237 r=99.225.251.17:49245\u001b[0m\n"
          ]
        },
        {
          "output_type": "stream",
          "name": "stderr",
          "text": [
            "INFO:pyngrok.process.ngrok:t=2024-11-16T23:14:16+0000 lvl=info msg=\"join connections\" obj=join id=20204a49701e l=127.0.0.1:8237 r=99.225.251.17:49245\n"
          ]
        },
        {
          "output_type": "stream",
          "name": "stdout",
          "text": [
            "\u001b[1;35mt=2024-11-16T23:14:16+0000 lvl=info msg=\"join connections\" obj=join id=20204a49701e l=127.0.0.1:8237 r=99.225.251.17:49245\u001b[0m\n"
          ]
        },
        {
          "output_type": "stream",
          "name": "stderr",
          "text": [
            "INFO:pyngrok.process.ngrok:t=2024-11-16T23:14:16+0000 lvl=info msg=\"join connections\" obj=join id=0f4a25e1233d l=127.0.0.1:8237 r=99.225.251.17:49245\n"
          ]
        },
        {
          "output_type": "stream",
          "name": "stdout",
          "text": [
            "\u001b[1;35mt=2024-11-16T23:14:16+0000 lvl=info msg=\"join connections\" obj=join id=0f4a25e1233d l=127.0.0.1:8237 r=99.225.251.17:49245\u001b[0m\n"
          ]
        },
        {
          "output_type": "stream",
          "name": "stderr",
          "text": [
            "INFO:pyngrok.process.ngrok:t=2024-11-16T23:14:16+0000 lvl=info msg=\"join connections\" obj=join id=3bcf581884b9 l=127.0.0.1:8237 r=99.225.251.17:49245\n"
          ]
        },
        {
          "output_type": "stream",
          "name": "stdout",
          "text": [
            "\u001b[1;35mt=2024-11-16T23:14:16+0000 lvl=info msg=\"join connections\" obj=join id=3bcf581884b9 l=127.0.0.1:8237 r=99.225.251.17:49245\u001b[0m\n",
            "\u001b[1;35mGot token from cookie\u001b[0m\n",
            "\u001b[32mINFO\u001b[0m:     99.225.251.17:0 - \"\u001b[1mGET /api/v1/settings HTTP/1.1\u001b[0m\" \u001b[32m200 OK\u001b[0m\n",
            "\u001b[1;35mGot token from cookie\u001b[0m\n",
            "\u001b[1;35mGot token from cookie\u001b[0m\n",
            "\u001b[1;35mGot token from cookie\u001b[0m\n",
            "\u001b[1;35mGot token from cookie\u001b[0m\n",
            "\u001b[32mINFO\u001b[0m:     99.225.251.17:0 - \"\u001b[1mGET /api/v1/info HTTP/1.1\u001b[0m\" \u001b[32m200 OK\u001b[0m\n",
            "\u001b[32mINFO\u001b[0m:     99.225.251.17:0 - \"\u001b[1mGET /api/v1/onboarding_state HTTP/1.1\u001b[0m\" \u001b[32m200 OK\u001b[0m\n",
            "\u001b[32mINFO\u001b[0m:     99.225.251.17:0 - \"\u001b[1mGET /api/v1/current-user HTTP/1.1\u001b[0m\" \u001b[32m200 OK\u001b[0m\n",
            "\u001b[32mINFO\u001b[0m:     99.225.251.17:0 - \"\u001b[1mGET /api/v1/pipeline_deployments/68468c6f-810f-49ba-bec8-d6336a3fee49 HTTP/1.1\u001b[0m\" \u001b[32m200 OK\u001b[0m\n",
            "\u001b[32mINFO\u001b[0m:     99.225.251.17:0 - \"\u001b[1mGET /api/v1/runs/1699bfcf-ba66-4cbc-8df2-fc3904070ea5 HTTP/1.1\u001b[0m\" \u001b[32m200 OK\u001b[0m\n"
          ]
        },
        {
          "output_type": "stream",
          "name": "stderr",
          "text": [
            "INFO:pyngrok.process.ngrok:t=2024-11-16T23:14:18+0000 lvl=info msg=\"join connections\" obj=join id=767f78bcc60f l=127.0.0.1:8237 r=99.225.251.17:49245\n"
          ]
        },
        {
          "output_type": "stream",
          "name": "stdout",
          "text": [
            "\u001b[1;35mGot token from cookie\u001b[0m\n",
            "\u001b[32mINFO\u001b[0m:     99.225.251.17:0 - \"\u001b[1mGET /api/v1/artifact_versions/2485444a-cab4-4b3e-aee8-155e0fb6460c HTTP/1.1\u001b[0m\" \u001b[32m200 OK\u001b[0m\n",
            "\u001b[1;35mGot token from cookie\u001b[0m\n",
            "\u001b[1;35mGot token from cookie\u001b[0m\n",
            "\u001b[1;35mt=2024-11-16T23:14:18+0000 lvl=info msg=\"join connections\" obj=join id=767f78bcc60f l=127.0.0.1:8237 r=99.225.251.17:49245\u001b[0m\n"
          ]
        },
        {
          "output_type": "stream",
          "name": "stderr",
          "text": [
            "INFO:pyngrok.process.ngrok:t=2024-11-16T23:14:18+0000 lvl=info msg=\"join connections\" obj=join id=f4e6bee5b602 l=127.0.0.1:8237 r=99.225.251.17:49245\n"
          ]
        },
        {
          "output_type": "stream",
          "name": "stdout",
          "text": [
            "\u001b[1;35mt=2024-11-16T23:14:18+0000 lvl=info msg=\"join connections\" obj=join id=f4e6bee5b602 l=127.0.0.1:8237 r=99.225.251.17:49245\u001b[0m\n",
            "\u001b[1;35mGot token from cookie\u001b[0m\n",
            "\u001b[1;35mGot token from cookie\u001b[0m\n",
            "\u001b[32mINFO\u001b[0m:     99.225.251.17:0 - \"\u001b[1mGET /api/v1/components/7228fd26-0343-4d8e-91dc-534deb5a9988 HTTP/1.1\u001b[0m\" \u001b[32m200 OK\u001b[0m\n",
            "\u001b[32mINFO\u001b[0m:     99.225.251.17:0 - \"\u001b[1mGET /api/v1/runs/1699bfcf-ba66-4cbc-8df2-fc3904070ea5 HTTP/1.1\u001b[0m\" \u001b[32m200 OK\u001b[0m\n",
            "\u001b[32mINFO\u001b[0m:     99.225.251.17:0 - \"\u001b[1mGET /api/v1/artifact_versions/2485444a-cab4-4b3e-aee8-155e0fb6460c HTTP/1.1\u001b[0m\" \u001b[32m200 OK\u001b[0m\n",
            "\u001b[32mINFO\u001b[0m:     99.225.251.17:0 - \"\u001b[1mGET /api/v1/steps/4f4e1e11-a5c5-481f-b7a8-2553e80d6ff2 HTTP/1.1\u001b[0m\" \u001b[32m200 OK\u001b[0m\n",
            "\u001b[1;35mGot token from cookie\u001b[0m\n",
            "\u001b[1;35mGot token from cookie\u001b[0m\n",
            "\u001b[32mINFO\u001b[0m:     99.225.251.17:0 - \"\u001b[1mGET /api/v1/artifact_versions/2485444a-cab4-4b3e-aee8-155e0fb6460c HTTP/1.1\u001b[0m\" \u001b[32m200 OK\u001b[0m\n",
            "\u001b[32mINFO\u001b[0m:     99.225.251.17:0 - \"\u001b[1mGET /api/v1/artifact_versions/2485444a-cab4-4b3e-aee8-155e0fb6460c/visualize HTTP/1.1\u001b[0m\" \u001b[32m200 OK\u001b[0m\n"
          ]
        },
        {
          "output_type": "stream",
          "name": "stderr",
          "text": [
            "INFO:pyngrok.process.ngrok:t=2024-11-16T23:14:37+0000 lvl=info msg=\"join connections\" obj=join id=54c4e1a62ddc l=127.0.0.1:8237 r=99.225.251.17:49245\n"
          ]
        },
        {
          "output_type": "stream",
          "name": "stdout",
          "text": [
            "\u001b[1;35mt=2024-11-16T23:14:37+0000 lvl=info msg=\"join connections\" obj=join id=54c4e1a62ddc l=127.0.0.1:8237 r=99.225.251.17:49245\u001b[0m\n"
          ]
        },
        {
          "output_type": "stream",
          "name": "stderr",
          "text": [
            "INFO:pyngrok.process.ngrok:t=2024-11-16T23:14:37+0000 lvl=info msg=\"join connections\" obj=join id=0100ad1c3cc1 l=127.0.0.1:8237 r=99.225.251.17:49245\n"
          ]
        },
        {
          "output_type": "stream",
          "name": "stdout",
          "text": [
            "\u001b[1;35mt=2024-11-16T23:14:37+0000 lvl=info msg=\"join connections\" obj=join id=0100ad1c3cc1 l=127.0.0.1:8237 r=99.225.251.17:49245\u001b[0m\n"
          ]
        },
        {
          "output_type": "stream",
          "name": "stderr",
          "text": [
            "INFO:pyngrok.process.ngrok:t=2024-11-16T23:14:37+0000 lvl=info msg=\"join connections\" obj=join id=6de9873eca24 l=127.0.0.1:8237 r=99.225.251.17:49245\n"
          ]
        },
        {
          "output_type": "stream",
          "name": "stdout",
          "text": [
            "\u001b[1;35mt=2024-11-16T23:14:37+0000 lvl=info msg=\"join connections\" obj=join id=6de9873eca24 l=127.0.0.1:8237 r=99.225.251.17:49245\u001b[0m\n"
          ]
        },
        {
          "output_type": "stream",
          "name": "stderr",
          "text": [
            "INFO:pyngrok.process.ngrok:t=2024-11-16T23:14:37+0000 lvl=info msg=\"join connections\" obj=join id=1ee678f58e35 l=127.0.0.1:8237 r=99.225.251.17:49245\n"
          ]
        },
        {
          "output_type": "stream",
          "name": "stdout",
          "text": [
            "\u001b[1;35mt=2024-11-16T23:14:37+0000 lvl=info msg=\"join connections\" obj=join id=1ee678f58e35 l=127.0.0.1:8237 r=99.225.251.17:49245\u001b[0m\n"
          ]
        },
        {
          "output_type": "stream",
          "name": "stderr",
          "text": [
            "INFO:pyngrok.process.ngrok:t=2024-11-16T23:14:37+0000 lvl=info msg=\"join connections\" obj=join id=f703e506f775 l=127.0.0.1:8237 r=99.225.251.17:49245\n"
          ]
        },
        {
          "output_type": "stream",
          "name": "stdout",
          "text": [
            "\u001b[1;35mt=2024-11-16T23:14:37+0000 lvl=info msg=\"join connections\" obj=join id=f703e506f775 l=127.0.0.1:8237 r=99.225.251.17:49245\u001b[0m\n"
          ]
        },
        {
          "output_type": "stream",
          "name": "stderr",
          "text": [
            "INFO:pyngrok.process.ngrok:t=2024-11-16T23:14:37+0000 lvl=info msg=\"join connections\" obj=join id=2b51d8bbf29e l=127.0.0.1:8237 r=99.225.251.17:49245\n"
          ]
        },
        {
          "output_type": "stream",
          "name": "stdout",
          "text": [
            "\u001b[1;35mGot token from cookie\u001b[0m\n",
            "\u001b[1;35mGot token from cookie\u001b[0m\n",
            "\u001b[1;35mt=2024-11-16T23:14:37+0000 lvl=info msg=\"join connections\" obj=join id=2b51d8bbf29e l=127.0.0.1:8237 r=99.225.251.17:49245\u001b[0m\n"
          ]
        },
        {
          "output_type": "stream",
          "name": "stderr",
          "text": [
            "INFO:pyngrok.process.ngrok:t=2024-11-16T23:14:37+0000 lvl=info msg=\"join connections\" obj=join id=d3ee9a395d61 l=127.0.0.1:8237 r=99.225.251.17:49245\n"
          ]
        },
        {
          "output_type": "stream",
          "name": "stdout",
          "text": [
            "\u001b[1;35mt=2024-11-16T23:14:37+0000 lvl=info msg=\"join connections\" obj=join id=d3ee9a395d61 l=127.0.0.1:8237 r=99.225.251.17:49245\u001b[0m\n"
          ]
        },
        {
          "output_type": "stream",
          "name": "stderr",
          "text": [
            "INFO:pyngrok.process.ngrok:t=2024-11-16T23:14:37+0000 lvl=info msg=\"join connections\" obj=join id=8f9e92fc8726 l=127.0.0.1:8237 r=99.225.251.17:49245\n"
          ]
        },
        {
          "output_type": "stream",
          "name": "stdout",
          "text": [
            "\u001b[1;35mt=2024-11-16T23:14:37+0000 lvl=info msg=\"join connections\" obj=join id=8f9e92fc8726 l=127.0.0.1:8237 r=99.225.251.17:49245\u001b[0m\n",
            "\u001b[1;35mGot token from cookie\u001b[0m\n",
            "\u001b[1;35mGot token from cookie\u001b[0m\n",
            "\u001b[1;35mGot token from cookie\u001b[0m\n",
            "\u001b[1;35mGot token from cookie\u001b[0m\n",
            "\u001b[1;35mGot token from cookie\u001b[0m\n",
            "\u001b[32mINFO\u001b[0m:     99.225.251.17:0 - \"\u001b[1mGET /api/v1/info HTTP/1.1\u001b[0m\" \u001b[32m200 OK\u001b[0m\n",
            "\u001b[32mINFO\u001b[0m:     99.225.251.17:0 - \"\u001b[1mGET /api/v1/current-user HTTP/1.1\u001b[0m\" \u001b[32m200 OK\u001b[0m\n",
            "\u001b[32mINFO\u001b[0m:     99.225.251.17:0 - \"\u001b[1mGET /api/v1/settings HTTP/1.1\u001b[0m\" \u001b[32m200 OK\u001b[0m\n",
            "\u001b[32mINFO\u001b[0m:     99.225.251.17:0 - \"\u001b[1mGET /api/v1/pipeline_deployments/68468c6f-810f-49ba-bec8-d6336a3fee49 HTTP/1.1\u001b[0m\" \u001b[32m200 OK\u001b[0m\n",
            "\u001b[32mINFO\u001b[0m:     99.225.251.17:0 - \"\u001b[1mGET /api/v1/onboarding_state HTTP/1.1\u001b[0m\" \u001b[32m200 OK\u001b[0m\n",
            "\u001b[32mINFO\u001b[0m:     99.225.251.17:0 - \"\u001b[1mGET /api/v1/artifact_versions/2485444a-cab4-4b3e-aee8-155e0fb6460c HTTP/1.1\u001b[0m\" \u001b[32m200 OK\u001b[0m\n",
            "\u001b[32mINFO\u001b[0m:     99.225.251.17:0 - \"\u001b[1mGET /api/v1/artifact_versions/2485444a-cab4-4b3e-aee8-155e0fb6460c/visualize HTTP/1.1\u001b[0m\" \u001b[32m200 OK\u001b[0m\n",
            "\u001b[32mINFO\u001b[0m:     99.225.251.17:0 - \"\u001b[1mGET /api/v1/runs/1699bfcf-ba66-4cbc-8df2-fc3904070ea5 HTTP/1.1\u001b[0m\" \u001b[32m200 OK\u001b[0m\n"
          ]
        },
        {
          "output_type": "stream",
          "name": "stderr",
          "text": [
            "INFO:pyngrok.process.ngrok:t=2024-11-16T23:15:00+0000 lvl=info msg=\"join connections\" obj=join id=f579d605366b l=127.0.0.1:8237 r=99.225.251.17:49245\n"
          ]
        },
        {
          "output_type": "stream",
          "name": "stdout",
          "text": [
            "\u001b[1;35mt=2024-11-16T23:15:00+0000 lvl=info msg=\"join connections\" obj=join id=f579d605366b l=127.0.0.1:8237 r=99.225.251.17:49245\u001b[0m\n"
          ]
        },
        {
          "output_type": "stream",
          "name": "stderr",
          "text": [
            "INFO:pyngrok.process.ngrok:t=2024-11-16T23:15:00+0000 lvl=info msg=\"join connections\" obj=join id=5f178e4f4f48 l=127.0.0.1:8237 r=99.225.251.17:49245\n"
          ]
        },
        {
          "output_type": "stream",
          "name": "stdout",
          "text": [
            "\u001b[1;35mt=2024-11-16T23:15:00+0000 lvl=info msg=\"join connections\" obj=join id=5f178e4f4f48 l=127.0.0.1:8237 r=99.225.251.17:49245\u001b[0m\n"
          ]
        },
        {
          "output_type": "stream",
          "name": "stderr",
          "text": [
            "INFO:pyngrok.process.ngrok:t=2024-11-16T23:15:00+0000 lvl=info msg=\"join connections\" obj=join id=b15fe175c6cd l=127.0.0.1:8237 r=99.225.251.17:49245\n"
          ]
        },
        {
          "output_type": "stream",
          "name": "stdout",
          "text": [
            "\u001b[1;35mt=2024-11-16T23:15:00+0000 lvl=info msg=\"join connections\" obj=join id=b15fe175c6cd l=127.0.0.1:8237 r=99.225.251.17:49245\u001b[0m\n"
          ]
        },
        {
          "output_type": "stream",
          "name": "stderr",
          "text": [
            "INFO:pyngrok.process.ngrok:t=2024-11-16T23:15:00+0000 lvl=info msg=\"join connections\" obj=join id=05cff3ab4bbc l=127.0.0.1:8237 r=99.225.251.17:49245\n"
          ]
        },
        {
          "output_type": "stream",
          "name": "stdout",
          "text": [
            "\u001b[1;35mt=2024-11-16T23:15:00+0000 lvl=info msg=\"join connections\" obj=join id=05cff3ab4bbc l=127.0.0.1:8237 r=99.225.251.17:49245\u001b[0m\n"
          ]
        },
        {
          "output_type": "stream",
          "name": "stderr",
          "text": [
            "INFO:pyngrok.process.ngrok:t=2024-11-16T23:15:00+0000 lvl=info msg=\"join connections\" obj=join id=3aa7924b80c9 l=127.0.0.1:8237 r=99.225.251.17:49245\n"
          ]
        },
        {
          "output_type": "stream",
          "name": "stdout",
          "text": [
            "\u001b[1;35mt=2024-11-16T23:15:00+0000 lvl=info msg=\"join connections\" obj=join id=3aa7924b80c9 l=127.0.0.1:8237 r=99.225.251.17:49245\u001b[0m\n"
          ]
        },
        {
          "output_type": "stream",
          "name": "stderr",
          "text": [
            "INFO:pyngrok.process.ngrok:t=2024-11-16T23:15:00+0000 lvl=info msg=\"join connections\" obj=join id=372beae7cfd5 l=127.0.0.1:8237 r=99.225.251.17:49245\n"
          ]
        },
        {
          "output_type": "stream",
          "name": "stdout",
          "text": [
            "\u001b[1;35mt=2024-11-16T23:15:00+0000 lvl=info msg=\"join connections\" obj=join id=372beae7cfd5 l=127.0.0.1:8237 r=99.225.251.17:49245\u001b[0m\n"
          ]
        },
        {
          "output_type": "stream",
          "name": "stderr",
          "text": [
            "INFO:pyngrok.process.ngrok:t=2024-11-16T23:15:00+0000 lvl=info msg=\"join connections\" obj=join id=ad861bf54d15 l=127.0.0.1:8237 r=99.225.251.17:49245\n"
          ]
        },
        {
          "output_type": "stream",
          "name": "stdout",
          "text": [
            "\u001b[1;35mt=2024-11-16T23:15:00+0000 lvl=info msg=\"join connections\" obj=join id=ad861bf54d15 l=127.0.0.1:8237 r=99.225.251.17:49245\u001b[0m\n"
          ]
        },
        {
          "output_type": "stream",
          "name": "stderr",
          "text": [
            "INFO:pyngrok.process.ngrok:t=2024-11-16T23:15:00+0000 lvl=info msg=\"join connections\" obj=join id=377f581ed768 l=127.0.0.1:8237 r=99.225.251.17:49245\n"
          ]
        },
        {
          "output_type": "stream",
          "name": "stdout",
          "text": [
            "\u001b[1;35mt=2024-11-16T23:15:00+0000 lvl=info msg=\"join connections\" obj=join id=377f581ed768 l=127.0.0.1:8237 r=99.225.251.17:49245\u001b[0m\n",
            "\u001b[1;35mGot token from cookie\u001b[0m\n",
            "\u001b[1;35mGot token from cookie\u001b[0m\n",
            "\u001b[1;35mGot token from cookie\u001b[0m\n",
            "\u001b[1;35mGot token from cookie\u001b[0m\n",
            "\u001b[1;35mGot token from cookie\u001b[0m\n",
            "\u001b[1;35mGot token from cookie\u001b[0m\n",
            "\u001b[1;35mGot token from cookie\u001b[0m\n",
            "\u001b[32mINFO\u001b[0m:     99.225.251.17:0 - \"\u001b[1mGET /api/v1/onboarding_state HTTP/1.1\u001b[0m\" \u001b[32m200 OK\u001b[0m\n",
            "\u001b[32mINFO\u001b[0m:     99.225.251.17:0 - \"\u001b[1mGET /api/v1/settings HTTP/1.1\u001b[0m\" \u001b[32m200 OK\u001b[0m\n",
            "\u001b[32mINFO\u001b[0m:     99.225.251.17:0 - \"\u001b[1mGET /api/v1/current-user HTTP/1.1\u001b[0m\" \u001b[32m200 OK\u001b[0m\n",
            "\u001b[32mINFO\u001b[0m:     99.225.251.17:0 - \"\u001b[1mGET /api/v1/pipeline_deployments/68468c6f-810f-49ba-bec8-d6336a3fee49 HTTP/1.1\u001b[0m\" \u001b[32m200 OK\u001b[0m\n",
            "\u001b[32mINFO\u001b[0m:     99.225.251.17:0 - \"\u001b[1mGET /api/v1/artifact_versions/2485444a-cab4-4b3e-aee8-155e0fb6460c HTTP/1.1\u001b[0m\" \u001b[32m200 OK\u001b[0m\n",
            "\u001b[32mINFO\u001b[0m:     99.225.251.17:0 - \"\u001b[1mGET /api/v1/info HTTP/1.1\u001b[0m\" \u001b[32m200 OK\u001b[0m\n",
            "\u001b[32mINFO\u001b[0m:     99.225.251.17:0 - \"\u001b[1mGET /api/v1/runs/1699bfcf-ba66-4cbc-8df2-fc3904070ea5 HTTP/1.1\u001b[0m\" \u001b[32m200 OK\u001b[0m\n",
            "\u001b[32mINFO\u001b[0m:     99.225.251.17:0 - \"\u001b[1mGET /api/v1/artifact_versions/2485444a-cab4-4b3e-aee8-155e0fb6460c/visualize HTTP/1.1\u001b[0m\" \u001b[32m200 OK\u001b[0m\n"
          ]
        },
        {
          "output_type": "stream",
          "name": "stderr",
          "text": [
            "INFO:pyngrok.process.ngrok:t=2024-11-16T23:27:33+0000 lvl=info msg=\"join connections\" obj=join id=7c59201cd88c l=127.0.0.1:8237 r=99.225.251.17:55921\n"
          ]
        },
        {
          "output_type": "stream",
          "name": "stdout",
          "text": [
            "\u001b[1;35mt=2024-11-16T23:27:33+0000 lvl=info msg=\"join connections\" obj=join id=7c59201cd88c l=127.0.0.1:8237 r=99.225.251.17:55921\u001b[0m\n"
          ]
        },
        {
          "output_type": "stream",
          "name": "stderr",
          "text": [
            "INFO:pyngrok.process.ngrok:t=2024-11-16T23:27:33+0000 lvl=info msg=\"join connections\" obj=join id=8438fd4bb17f l=127.0.0.1:8237 r=99.225.251.17:55921\n"
          ]
        },
        {
          "output_type": "stream",
          "name": "stdout",
          "text": [
            "\u001b[1;35mt=2024-11-16T23:27:33+0000 lvl=info msg=\"join connections\" obj=join id=8438fd4bb17f l=127.0.0.1:8237 r=99.225.251.17:55921\u001b[0m\n"
          ]
        },
        {
          "output_type": "stream",
          "name": "stderr",
          "text": [
            "INFO:pyngrok.process.ngrok:t=2024-11-16T23:27:33+0000 lvl=info msg=\"join connections\" obj=join id=face39cad007 l=127.0.0.1:8237 r=99.225.251.17:55921\n"
          ]
        },
        {
          "output_type": "stream",
          "name": "stdout",
          "text": [
            "\u001b[1;35mt=2024-11-16T23:27:33+0000 lvl=info msg=\"join connections\" obj=join id=face39cad007 l=127.0.0.1:8237 r=99.225.251.17:55921\u001b[0m\n"
          ]
        },
        {
          "output_type": "stream",
          "name": "stderr",
          "text": [
            "INFO:pyngrok.process.ngrok:t=2024-11-16T23:27:33+0000 lvl=info msg=\"join connections\" obj=join id=8c9dabe7da22 l=127.0.0.1:8237 r=99.225.251.17:55921\n"
          ]
        },
        {
          "output_type": "stream",
          "name": "stdout",
          "text": [
            "\u001b[1;35mt=2024-11-16T23:27:33+0000 lvl=info msg=\"join connections\" obj=join id=8c9dabe7da22 l=127.0.0.1:8237 r=99.225.251.17:55921\u001b[0m\n"
          ]
        },
        {
          "output_type": "stream",
          "name": "stderr",
          "text": [
            "INFO:pyngrok.process.ngrok:t=2024-11-16T23:27:33+0000 lvl=info msg=\"join connections\" obj=join id=6916713f767e l=127.0.0.1:8237 r=99.225.251.17:55921\n"
          ]
        },
        {
          "output_type": "stream",
          "name": "stdout",
          "text": [
            "\u001b[1;35mt=2024-11-16T23:27:33+0000 lvl=info msg=\"join connections\" obj=join id=6916713f767e l=127.0.0.1:8237 r=99.225.251.17:55921\u001b[0m\n"
          ]
        },
        {
          "output_type": "stream",
          "name": "stderr",
          "text": [
            "INFO:pyngrok.process.ngrok:t=2024-11-16T23:27:33+0000 lvl=info msg=\"join connections\" obj=join id=d04af53798de l=127.0.0.1:8237 r=99.225.251.17:55921\n"
          ]
        },
        {
          "output_type": "stream",
          "name": "stdout",
          "text": [
            "\u001b[1;35mt=2024-11-16T23:27:33+0000 lvl=info msg=\"join connections\" obj=join id=d04af53798de l=127.0.0.1:8237 r=99.225.251.17:55921\u001b[0m\n"
          ]
        },
        {
          "output_type": "stream",
          "name": "stderr",
          "text": [
            "INFO:pyngrok.process.ngrok:t=2024-11-16T23:27:33+0000 lvl=info msg=\"join connections\" obj=join id=17118e95eaf9 l=127.0.0.1:8237 r=99.225.251.17:55921\n"
          ]
        },
        {
          "output_type": "stream",
          "name": "stdout",
          "text": [
            "\u001b[1;35mt=2024-11-16T23:27:33+0000 lvl=info msg=\"join connections\" obj=join id=17118e95eaf9 l=127.0.0.1:8237 r=99.225.251.17:55921\u001b[0m\n"
          ]
        },
        {
          "output_type": "stream",
          "name": "stderr",
          "text": [
            "INFO:pyngrok.process.ngrok:t=2024-11-16T23:27:33+0000 lvl=info msg=\"join connections\" obj=join id=466ef0b6537c l=127.0.0.1:8237 r=99.225.251.17:55921\n"
          ]
        },
        {
          "output_type": "stream",
          "name": "stdout",
          "text": [
            "\u001b[1;35mt=2024-11-16T23:27:33+0000 lvl=info msg=\"join connections\" obj=join id=466ef0b6537c l=127.0.0.1:8237 r=99.225.251.17:55921\u001b[0m\n",
            "\u001b[1;35mGot token from cookie\u001b[0m\n",
            "\u001b[1;35mGot token from cookie\u001b[0m\n",
            "\u001b[1;35mGot token from cookie\u001b[0m\n",
            "\u001b[1;35mGot token from cookie\u001b[0m\n",
            "\u001b[1;35mGot token from cookie\u001b[0m\n",
            "\u001b[1;35mGot token from cookie\u001b[0m\n",
            "\u001b[1;35mGot token from cookie\u001b[0m\n",
            "\u001b[32mINFO\u001b[0m:     99.225.251.17:0 - \"\u001b[1mGET /api/v1/settings HTTP/1.1\u001b[0m\" \u001b[32m200 OK\u001b[0m\n",
            "\u001b[32mINFO\u001b[0m:     99.225.251.17:0 - \"\u001b[1mGET /api/v1/pipeline_deployments/68468c6f-810f-49ba-bec8-d6336a3fee49 HTTP/1.1\u001b[0m\" \u001b[32m200 OK\u001b[0m\n",
            "\u001b[32mINFO\u001b[0m:     99.225.251.17:0 - \"\u001b[1mGET /api/v1/current-user HTTP/1.1\u001b[0m\" \u001b[32m200 OK\u001b[0m\n",
            "\u001b[32mINFO\u001b[0m:     99.225.251.17:0 - \"\u001b[1mGET /api/v1/onboarding_state HTTP/1.1\u001b[0m\" \u001b[32m200 OK\u001b[0m\n",
            "\u001b[32mINFO\u001b[0m:     99.225.251.17:0 - \"\u001b[1mGET /api/v1/info HTTP/1.1\u001b[0m\" \u001b[32m200 OK\u001b[0m\n",
            "\u001b[32mINFO\u001b[0m:     99.225.251.17:0 - \"\u001b[1mGET /api/v1/artifact_versions/2485444a-cab4-4b3e-aee8-155e0fb6460c HTTP/1.1\u001b[0m\" \u001b[32m200 OK\u001b[0m\n",
            "\u001b[32mINFO\u001b[0m:     99.225.251.17:0 - \"\u001b[1mGET /api/v1/artifact_versions/2485444a-cab4-4b3e-aee8-155e0fb6460c/visualize HTTP/1.1\u001b[0m\" \u001b[32m200 OK\u001b[0m\n",
            "\u001b[32mINFO\u001b[0m:     99.225.251.17:0 - \"\u001b[1mGET /api/v1/runs/1699bfcf-ba66-4cbc-8df2-fc3904070ea5 HTTP/1.1\u001b[0m\" \u001b[32m200 OK\u001b[0m\n"
          ]
        },
        {
          "output_type": "stream",
          "name": "stderr",
          "text": [
            "INFO:pyngrok.process.ngrok:t=2024-11-16T23:27:40+0000 lvl=info msg=\"join connections\" obj=join id=ec76f85aedff l=127.0.0.1:8237 r=99.225.251.17:55921\n"
          ]
        },
        {
          "output_type": "stream",
          "name": "stdout",
          "text": [
            "\u001b[1;35mt=2024-11-16T23:27:40+0000 lvl=info msg=\"join connections\" obj=join id=ec76f85aedff l=127.0.0.1:8237 r=99.225.251.17:55921\u001b[0m\n"
          ]
        },
        {
          "output_type": "stream",
          "name": "stderr",
          "text": [
            "INFO:pyngrok.process.ngrok:t=2024-11-16T23:27:40+0000 lvl=info msg=\"join connections\" obj=join id=5ec3186b6999 l=127.0.0.1:8237 r=99.225.251.17:55921\n"
          ]
        },
        {
          "output_type": "stream",
          "name": "stdout",
          "text": [
            "\u001b[1;35mt=2024-11-16T23:27:40+0000 lvl=info msg=\"join connections\" obj=join id=5ec3186b6999 l=127.0.0.1:8237 r=99.225.251.17:55921\u001b[0m\n"
          ]
        },
        {
          "output_type": "stream",
          "name": "stderr",
          "text": [
            "INFO:pyngrok.process.ngrok:t=2024-11-16T23:27:40+0000 lvl=info msg=\"join connections\" obj=join id=235452dfcdcb l=127.0.0.1:8237 r=99.225.251.17:55921\n"
          ]
        },
        {
          "output_type": "stream",
          "name": "stdout",
          "text": [
            "\u001b[1;35mt=2024-11-16T23:27:40+0000 lvl=info msg=\"join connections\" obj=join id=235452dfcdcb l=127.0.0.1:8237 r=99.225.251.17:55921\u001b[0m\n"
          ]
        },
        {
          "output_type": "stream",
          "name": "stderr",
          "text": [
            "INFO:pyngrok.process.ngrok:t=2024-11-16T23:27:40+0000 lvl=info msg=\"join connections\" obj=join id=65db5296659d l=127.0.0.1:8237 r=99.225.251.17:55921\n"
          ]
        },
        {
          "output_type": "stream",
          "name": "stdout",
          "text": [
            "\u001b[1;35mt=2024-11-16T23:27:40+0000 lvl=info msg=\"join connections\" obj=join id=65db5296659d l=127.0.0.1:8237 r=99.225.251.17:55921\u001b[0m\n"
          ]
        },
        {
          "output_type": "stream",
          "name": "stderr",
          "text": [
            "INFO:pyngrok.process.ngrok:t=2024-11-16T23:27:40+0000 lvl=info msg=\"join connections\" obj=join id=38c51dbcbdf1 l=127.0.0.1:8237 r=99.225.251.17:55921\n"
          ]
        },
        {
          "output_type": "stream",
          "name": "stdout",
          "text": [
            "\u001b[1;35mt=2024-11-16T23:27:40+0000 lvl=info msg=\"join connections\" obj=join id=38c51dbcbdf1 l=127.0.0.1:8237 r=99.225.251.17:55921\u001b[0m\n"
          ]
        },
        {
          "output_type": "stream",
          "name": "stderr",
          "text": [
            "INFO:pyngrok.process.ngrok:t=2024-11-16T23:27:40+0000 lvl=info msg=\"join connections\" obj=join id=1c88dcdb06bf l=127.0.0.1:8237 r=99.225.251.17:55921\n"
          ]
        },
        {
          "output_type": "stream",
          "name": "stdout",
          "text": [
            "\u001b[1;35mt=2024-11-16T23:27:40+0000 lvl=info msg=\"join connections\" obj=join id=1c88dcdb06bf l=127.0.0.1:8237 r=99.225.251.17:55921\u001b[0m\n",
            "\u001b[1;35mGot token from cookie\u001b[0m\n",
            "\u001b[1;35mGot token from cookie\u001b[0m\n",
            "\u001b[1;35mGot token from cookie\u001b[0m\n",
            "\u001b[1;35mGot token from cookie\u001b[0m\n",
            "\u001b[1;35mGot token from cookie\u001b[0m\n",
            "\u001b[32mINFO\u001b[0m:     99.225.251.17:0 - \"\u001b[1mGET /api/v1/info HTTP/1.1\u001b[0m\" \u001b[32m200 OK\u001b[0m\n",
            "\u001b[32mINFO\u001b[0m:     99.225.251.17:0 - \"\u001b[1mGET /api/v1/current-user HTTP/1.1\u001b[0m\" \u001b[32m200 OK\u001b[0m\n",
            "\u001b[32mINFO\u001b[0m:     99.225.251.17:0 - \"\u001b[1mGET /api/v1/onboarding_state HTTP/1.1\u001b[0m\" \u001b[32m200 OK\u001b[0m\n",
            "\u001b[32mINFO\u001b[0m:     99.225.251.17:0 - \"\u001b[1mGET /api/v1/settings HTTP/1.1\u001b[0m\" \u001b[32m200 OK\u001b[0m\n",
            "\u001b[32mINFO\u001b[0m:     99.225.251.17:0 - \"\u001b[1mGET /api/v1/pipeline_deployments/68468c6f-810f-49ba-bec8-d6336a3fee49 HTTP/1.1\u001b[0m\" \u001b[32m200 OK\u001b[0m\n",
            "\u001b[32mINFO\u001b[0m:     99.225.251.17:0 - \"\u001b[1mGET /api/v1/runs/1699bfcf-ba66-4cbc-8df2-fc3904070ea5 HTTP/1.1\u001b[0m\" \u001b[32m200 OK\u001b[0m\n"
          ]
        },
        {
          "output_type": "stream",
          "name": "stderr",
          "text": [
            "INFO:pyngrok.process.ngrok:t=2024-11-16T23:28:40+0000 lvl=info msg=\"received stop request\" obj=app stopReq=\"{err:<nil> restart:false}\"\n"
          ]
        },
        {
          "output_type": "stream",
          "name": "stdout",
          "text": [
            "\u001b[1;35mt=2024-11-16T23:28:40+0000 lvl=info msg=\"received stop request\" obj=app stopReq=\"{err:<nil> restart:false}\"\u001b[0m\n"
          ]
        },
        {
          "output_type": "stream",
          "name": "stderr",
          "text": [
            "INFO:pyngrok.process.ngrok:t=2024-11-16T23:28:40+0000 lvl=info msg=\"session closing\" obj=tunnels.session err=nil\n"
          ]
        },
        {
          "output_type": "stream",
          "name": "stdout",
          "text": [
            "\u001b[1;35mt=2024-11-16T23:28:40+0000 lvl=info msg=\"session closing\" obj=tunnels.session err=nil\u001b[0m\n",
            "\u001b[32mINFO\u001b[0m:     Shutting down\n",
            "\u001b[32mINFO\u001b[0m:     Waiting for application shutdown.\n",
            "\u001b[32mINFO\u001b[0m:     Application shutdown complete.\n",
            "\u001b[32mINFO\u001b[0m:     Finished server process [\u001b[36m3787\u001b[0m]\n"
          ]
        }
      ],
      "source": [
        "from zenml.environment import Environment\n",
        "\n",
        "def start_zenml_dashboard(port=8237):\n",
        "    if Environment.in_google_colab():\n",
        "        from pyngrok import ngrok\n",
        "\n",
        "        public_url = ngrok.connect(port)\n",
        "        print(f\"\\x1b[31mIn Colab, use this URL instead: {public_url}!\\x1b[0m\")\n",
        "        !zenml up --blocking --port {port}\n",
        "\n",
        "    else:\n",
        "        !zenml up --port {port}\n",
        "\n",
        "start_zenml_dashboard()"
      ]
    },
    {
      "cell_type": "code",
      "execution_count": null,
      "metadata": {
        "id": "d9QYQuRtFC30"
      },
      "outputs": [],
      "source": []
    }
  ],
  "metadata": {
    "colab": {
      "provenance": []
    },
    "kernelspec": {
      "display_name": "Python 3",
      "name": "python3"
    },
    "language_info": {
      "name": "python"
    }
  },
  "nbformat": 4,
  "nbformat_minor": 0
}